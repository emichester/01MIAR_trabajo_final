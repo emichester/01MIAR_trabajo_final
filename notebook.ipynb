{
 "cells": [
  {
   "cell_type": "code",
   "execution_count": 8,
   "metadata": {},
   "outputs": [],
   "source": [
    "import pandas as pd\n",
    "import plotly.graph_objects as go\n",
    "import numpy as np\n",
    "import datetime\n",
    "import os"
   ]
  },
  {
   "attachments": {},
   "cell_type": "markdown",
   "id": "c205c9c6",
   "metadata": {},
   "source": [
    "En este notebook se efectúa el tratamiento básico de los datos para mostrarlo en las diversas gráficas en la aplicación, a través del código generado en este archivo se ha generado la función presente en utils.data_cleaning_utils.py\n",
    "# Indice \n",
    "\n",
    "### [Sección 1: Data loading and cleaning](#Seccion-1-Data-Loading-and-Cleaning)\n",
    "### [Sección 2: Regression approach](#Seccion-2-Regression-Approach)\n",
    "\n"
   ]
  },
  {
   "attachments": {},
   "cell_type": "markdown",
   "id": "04f6115b",
   "metadata": {},
   "source": [
    "# Seccion 1 Data Loading and Cleaning"
   ]
  },
  {
   "attachments": {},
   "cell_type": "markdown",
   "id": "46007b9f",
   "metadata": {},
   "source": [
    "Carga de los datos y definición de los infotipos de cada columna según necesidad:"
   ]
  },
  {
   "cell_type": "code",
   "execution_count": 9,
   "id": "0ff44cec",
   "metadata": {},
   "outputs": [],
   "source": [
    "path= os.path.join('Analisis', 'data_frame.gzip')\n",
    "df= pd.read_parquet(path)"
   ]
  },
  {
   "cell_type": "code",
   "execution_count": 11,
   "id": "cf1ee5f1",
   "metadata": {},
   "outputs": [
    {
     "data": {
      "text/html": [
       "<div>\n",
       "<style scoped>\n",
       "    .dataframe tbody tr th:only-of-type {\n",
       "        vertical-align: middle;\n",
       "    }\n",
       "\n",
       "    .dataframe tbody tr th {\n",
       "        vertical-align: top;\n",
       "    }\n",
       "\n",
       "    .dataframe thead th {\n",
       "        text-align: right;\n",
       "    }\n",
       "</style>\n",
       "<table border=\"1\" class=\"dataframe\">\n",
       "  <thead>\n",
       "    <tr style=\"text-align: right;\">\n",
       "      <th></th>\n",
       "      <th>Serial Number</th>\n",
       "      <th>List Year</th>\n",
       "      <th>Date Recorded</th>\n",
       "      <th>Town</th>\n",
       "      <th>Address</th>\n",
       "      <th>Assessed Value</th>\n",
       "      <th>Sale Amount</th>\n",
       "      <th>Sales Ratio</th>\n",
       "      <th>Property Type</th>\n",
       "      <th>Residential Type</th>\n",
       "      <th>Non Use Code</th>\n",
       "      <th>Assessor Remarks</th>\n",
       "      <th>OPM remarks</th>\n",
       "      <th>Location</th>\n",
       "    </tr>\n",
       "  </thead>\n",
       "  <tbody>\n",
       "    <tr>\n",
       "      <th>0</th>\n",
       "      <td>2020177</td>\n",
       "      <td>2020</td>\n",
       "      <td>04/14/2021</td>\n",
       "      <td>Ansonia</td>\n",
       "      <td>323 BEAVER ST</td>\n",
       "      <td>133000.0</td>\n",
       "      <td>248400.0</td>\n",
       "      <td>0.535400</td>\n",
       "      <td>Residential</td>\n",
       "      <td>Single Family</td>\n",
       "      <td>nan</td>\n",
       "      <td>nan</td>\n",
       "      <td>nan</td>\n",
       "      <td>POINT (-73.06822 41.35014)</td>\n",
       "    </tr>\n",
       "    <tr>\n",
       "      <th>1</th>\n",
       "      <td>2020225</td>\n",
       "      <td>2020</td>\n",
       "      <td>05/26/2021</td>\n",
       "      <td>Ansonia</td>\n",
       "      <td>152 JACKSON ST</td>\n",
       "      <td>110500.0</td>\n",
       "      <td>239900.0</td>\n",
       "      <td>0.460600</td>\n",
       "      <td>Residential</td>\n",
       "      <td>Three Family</td>\n",
       "      <td>nan</td>\n",
       "      <td>nan</td>\n",
       "      <td>nan</td>\n",
       "      <td>nan</td>\n",
       "    </tr>\n",
       "    <tr>\n",
       "      <th>2</th>\n",
       "      <td>2020348</td>\n",
       "      <td>2020</td>\n",
       "      <td>09/13/2021</td>\n",
       "      <td>Ansonia</td>\n",
       "      <td>230 WAKELEE AVE</td>\n",
       "      <td>150500.0</td>\n",
       "      <td>325000.0</td>\n",
       "      <td>0.463000</td>\n",
       "      <td>Commercial</td>\n",
       "      <td>nan</td>\n",
       "      <td>nan</td>\n",
       "      <td>nan</td>\n",
       "      <td>nan</td>\n",
       "      <td>nan</td>\n",
       "    </tr>\n",
       "    <tr>\n",
       "      <th>3</th>\n",
       "      <td>2020090</td>\n",
       "      <td>2020</td>\n",
       "      <td>12/14/2020</td>\n",
       "      <td>Ansonia</td>\n",
       "      <td>57 PLATT ST</td>\n",
       "      <td>127400.0</td>\n",
       "      <td>202500.0</td>\n",
       "      <td>0.629100</td>\n",
       "      <td>Residential</td>\n",
       "      <td>Two Family</td>\n",
       "      <td>nan</td>\n",
       "      <td>nan</td>\n",
       "      <td>nan</td>\n",
       "      <td>nan</td>\n",
       "    </tr>\n",
       "    <tr>\n",
       "      <th>4</th>\n",
       "      <td>200500</td>\n",
       "      <td>2020</td>\n",
       "      <td>09/07/2021</td>\n",
       "      <td>Avon</td>\n",
       "      <td>245 NEW ROAD</td>\n",
       "      <td>217640.0</td>\n",
       "      <td>400000.0</td>\n",
       "      <td>0.544100</td>\n",
       "      <td>Residential</td>\n",
       "      <td>Single Family</td>\n",
       "      <td>nan</td>\n",
       "      <td>nan</td>\n",
       "      <td>nan</td>\n",
       "      <td>nan</td>\n",
       "    </tr>\n",
       "    <tr>\n",
       "      <th>...</th>\n",
       "      <td>...</td>\n",
       "      <td>...</td>\n",
       "      <td>...</td>\n",
       "      <td>...</td>\n",
       "      <td>...</td>\n",
       "      <td>...</td>\n",
       "      <td>...</td>\n",
       "      <td>...</td>\n",
       "      <td>...</td>\n",
       "      <td>...</td>\n",
       "      <td>...</td>\n",
       "      <td>...</td>\n",
       "      <td>...</td>\n",
       "      <td>...</td>\n",
       "    </tr>\n",
       "    <tr>\n",
       "      <th>997208</th>\n",
       "      <td>190272</td>\n",
       "      <td>2019</td>\n",
       "      <td>06/24/2020</td>\n",
       "      <td>New London</td>\n",
       "      <td>4 BISHOP CT</td>\n",
       "      <td>60410.0</td>\n",
       "      <td>53100.0</td>\n",
       "      <td>1.137665</td>\n",
       "      <td>Single Family</td>\n",
       "      <td>Single Family</td>\n",
       "      <td>14 - Foreclosure</td>\n",
       "      <td>nan</td>\n",
       "      <td>nan</td>\n",
       "      <td>nan</td>\n",
       "    </tr>\n",
       "    <tr>\n",
       "      <th>997209</th>\n",
       "      <td>190284</td>\n",
       "      <td>2019</td>\n",
       "      <td>11/27/2019</td>\n",
       "      <td>Waterbury</td>\n",
       "      <td>126 PERKINS AVE</td>\n",
       "      <td>68280.0</td>\n",
       "      <td>76000.0</td>\n",
       "      <td>0.898400</td>\n",
       "      <td>Single Family</td>\n",
       "      <td>Single Family</td>\n",
       "      <td>25 - Other</td>\n",
       "      <td>PRIVATE SALE</td>\n",
       "      <td>nan</td>\n",
       "      <td>nan</td>\n",
       "    </tr>\n",
       "    <tr>\n",
       "      <th>997210</th>\n",
       "      <td>190129</td>\n",
       "      <td>2019</td>\n",
       "      <td>04/27/2020</td>\n",
       "      <td>Windsor Locks</td>\n",
       "      <td>19 HATHAWAY ST</td>\n",
       "      <td>121450.0</td>\n",
       "      <td>210000.0</td>\n",
       "      <td>0.578300</td>\n",
       "      <td>Single Family</td>\n",
       "      <td>Single Family</td>\n",
       "      <td>nan</td>\n",
       "      <td>nan</td>\n",
       "      <td>nan</td>\n",
       "      <td>nan</td>\n",
       "    </tr>\n",
       "    <tr>\n",
       "      <th>997211</th>\n",
       "      <td>190504</td>\n",
       "      <td>2019</td>\n",
       "      <td>06/03/2020</td>\n",
       "      <td>Middletown</td>\n",
       "      <td>8 BYSTREK DR</td>\n",
       "      <td>203360.0</td>\n",
       "      <td>280000.0</td>\n",
       "      <td>0.726300</td>\n",
       "      <td>Single Family</td>\n",
       "      <td>Single Family</td>\n",
       "      <td>nan</td>\n",
       "      <td>nan</td>\n",
       "      <td>nan</td>\n",
       "      <td>nan</td>\n",
       "    </tr>\n",
       "    <tr>\n",
       "      <th>997212</th>\n",
       "      <td>190344</td>\n",
       "      <td>2019</td>\n",
       "      <td>12/20/2019</td>\n",
       "      <td>Milford</td>\n",
       "      <td>250 RESEARCH DR</td>\n",
       "      <td>4035970.0</td>\n",
       "      <td>7450000.0</td>\n",
       "      <td>0.541700</td>\n",
       "      <td>nan</td>\n",
       "      <td>nan</td>\n",
       "      <td>nan</td>\n",
       "      <td>nan</td>\n",
       "      <td>nan</td>\n",
       "      <td>nan</td>\n",
       "    </tr>\n",
       "  </tbody>\n",
       "</table>\n",
       "<p>997213 rows × 14 columns</p>\n",
       "</div>"
      ],
      "text/plain": [
       "        Serial Number  List Year Date Recorded           Town   \n",
       "0             2020177       2020    04/14/2021        Ansonia  \\\n",
       "1             2020225       2020    05/26/2021        Ansonia   \n",
       "2             2020348       2020    09/13/2021        Ansonia   \n",
       "3             2020090       2020    12/14/2020        Ansonia   \n",
       "4              200500       2020    09/07/2021           Avon   \n",
       "...               ...        ...           ...            ...   \n",
       "997208         190272       2019    06/24/2020     New London   \n",
       "997209         190284       2019    11/27/2019      Waterbury   \n",
       "997210         190129       2019    04/27/2020  Windsor Locks   \n",
       "997211         190504       2019    06/03/2020     Middletown   \n",
       "997212         190344       2019    12/20/2019        Milford   \n",
       "\n",
       "                Address  Assessed Value  Sale Amount  Sales Ratio   \n",
       "0         323 BEAVER ST        133000.0     248400.0     0.535400  \\\n",
       "1        152 JACKSON ST        110500.0     239900.0     0.460600   \n",
       "2       230 WAKELEE AVE        150500.0     325000.0     0.463000   \n",
       "3           57 PLATT ST        127400.0     202500.0     0.629100   \n",
       "4          245 NEW ROAD        217640.0     400000.0     0.544100   \n",
       "...                 ...             ...          ...          ...   \n",
       "997208      4 BISHOP CT         60410.0      53100.0     1.137665   \n",
       "997209  126 PERKINS AVE         68280.0      76000.0     0.898400   \n",
       "997210   19 HATHAWAY ST        121450.0     210000.0     0.578300   \n",
       "997211     8 BYSTREK DR        203360.0     280000.0     0.726300   \n",
       "997212  250 RESEARCH DR       4035970.0    7450000.0     0.541700   \n",
       "\n",
       "        Property Type Residential Type      Non Use Code Assessor Remarks   \n",
       "0         Residential    Single Family               nan              nan  \\\n",
       "1         Residential     Three Family               nan              nan   \n",
       "2          Commercial              nan               nan              nan   \n",
       "3         Residential       Two Family               nan              nan   \n",
       "4         Residential    Single Family               nan              nan   \n",
       "...               ...              ...               ...              ...   \n",
       "997208  Single Family    Single Family  14 - Foreclosure              nan   \n",
       "997209  Single Family    Single Family        25 - Other     PRIVATE SALE   \n",
       "997210  Single Family    Single Family               nan              nan   \n",
       "997211  Single Family    Single Family               nan              nan   \n",
       "997212            nan              nan               nan              nan   \n",
       "\n",
       "       OPM remarks                    Location  \n",
       "0              nan  POINT (-73.06822 41.35014)  \n",
       "1              nan                         nan  \n",
       "2              nan                         nan  \n",
       "3              nan                         nan  \n",
       "4              nan                         nan  \n",
       "...            ...                         ...  \n",
       "997208         nan                         nan  \n",
       "997209         nan                         nan  \n",
       "997210         nan                         nan  \n",
       "997211         nan                         nan  \n",
       "997212         nan                         nan  \n",
       "\n",
       "[997213 rows x 14 columns]"
      ]
     },
     "execution_count": 11,
     "metadata": {},
     "output_type": "execute_result"
    }
   ],
   "source": [
    "df[['Serial Number', 'List Year']]= df[['Serial Number', 'List Year']].astype(int)\n",
    "df[['Assessed Value', 'Sale Amount', 'Sales Ratio']]= df[['Assessed Value', 'Sale Amount', 'Sales Ratio']].astype(float)\n",
    "\n",
    "df"
   ]
  },
  {
   "attachments": {},
   "cell_type": "markdown",
   "id": "8ed4a90c",
   "metadata": {},
   "source": [
    "A continuación obtenemos algunos features adicionales:"
   ]
  },
  {
   "cell_type": "code",
   "execution_count": 13,
   "id": "4c3b9a51",
   "metadata": {},
   "outputs": [],
   "source": [
    "df= df[df['Date Recorded'].apply(lambda x: len(x)) == 10]\n",
    "\n",
    "\n",
    "df['year']= df['Date Recorded'].apply(lambda x: x[6:]).copy()\n",
    "df['month']= df['Date Recorded'].apply(lambda x: x[3:5]).copy()\n",
    "df['day']= df['Date Recorded'].apply(lambda x: x[:2]).copy()\n",
    "\n",
    "\n"
   ]
  },
  {
   "attachments": {},
   "cell_type": "markdown",
   "id": "30b83b33",
   "metadata": {},
   "source": [
    "Eliminamos algunos datos que no tienen sentido, como mes superior a 12:"
   ]
  },
  {
   "cell_type": "code",
   "execution_count": 15,
   "id": "ced83c3d",
   "metadata": {},
   "outputs": [],
   "source": [
    "df= df[(df['month'].astype(int) <= 12) & (df['day'].astype(int) != 0)]\n"
   ]
  },
  {
   "attachments": {},
   "cell_type": "markdown",
   "id": "e225bed6",
   "metadata": {},
   "source": [
    "Adicionalmente obtenemos si el registro de la venta se ha producido en fin de semana o entre semana:"
   ]
  },
  {
   "cell_type": "code",
   "execution_count": 16,
   "id": "f86cf742",
   "metadata": {},
   "outputs": [
    {
     "data": {
      "text/plain": [
       "4         0\n",
       "6         0\n",
       "9         0\n",
       "15        0\n",
       "17        0\n",
       "         ..\n",
       "997197    0\n",
       "997199    0\n",
       "997205    0\n",
       "997207    1\n",
       "997211    0\n",
       "Name: is_weekend, Length: 385643, dtype: int64"
      ]
     },
     "execution_count": 16,
     "metadata": {},
     "output_type": "execute_result"
    }
   ],
   "source": [
    "df['is_weekend']= df[['year', 'month', 'day']].astype(int).apply(lambda x: datetime.date(*x.values.tolist()).weekday(), axis=1)\n",
    "df['is_weekend']= df['is_weekend'].apply(lambda x: 1 if x in (6, 7) else 0)\n",
    "df['is_weekend']"
   ]
  },
  {
   "attachments": {},
   "cell_type": "markdown",
   "id": "b23a19d2",
   "metadata": {},
   "source": [
    "Obtenemos la matriz de correlaciones para las variables:"
   ]
  },
  {
   "cell_type": "code",
   "execution_count": 18,
   "id": "31a59187",
   "metadata": {},
   "outputs": [
    {
     "data": {
      "text/html": [
       "<div>\n",
       "<style scoped>\n",
       "    .dataframe tbody tr th:only-of-type {\n",
       "        vertical-align: middle;\n",
       "    }\n",
       "\n",
       "    .dataframe tbody tr th {\n",
       "        vertical-align: top;\n",
       "    }\n",
       "\n",
       "    .dataframe thead th {\n",
       "        text-align: right;\n",
       "    }\n",
       "</style>\n",
       "<table border=\"1\" class=\"dataframe\">\n",
       "  <thead>\n",
       "    <tr style=\"text-align: right;\">\n",
       "      <th></th>\n",
       "      <th>Serial Number</th>\n",
       "      <th>List Year</th>\n",
       "      <th>Assessed Value</th>\n",
       "      <th>Sale Amount</th>\n",
       "      <th>Sales Ratio</th>\n",
       "      <th>is_weekend</th>\n",
       "    </tr>\n",
       "  </thead>\n",
       "  <tbody>\n",
       "    <tr>\n",
       "      <th>Serial Number</th>\n",
       "      <td>1.000000</td>\n",
       "      <td>0.086949</td>\n",
       "      <td>-0.001450</td>\n",
       "      <td>0.001049</td>\n",
       "      <td>-0.000375</td>\n",
       "      <td>-0.001443</td>\n",
       "    </tr>\n",
       "    <tr>\n",
       "      <th>List Year</th>\n",
       "      <td>0.086949</td>\n",
       "      <td>1.000000</td>\n",
       "      <td>0.034909</td>\n",
       "      <td>0.020230</td>\n",
       "      <td>-0.004364</td>\n",
       "      <td>0.014362</td>\n",
       "    </tr>\n",
       "    <tr>\n",
       "      <th>Assessed Value</th>\n",
       "      <td>-0.001450</td>\n",
       "      <td>0.034909</td>\n",
       "      <td>1.000000</td>\n",
       "      <td>0.348077</td>\n",
       "      <td>0.006065</td>\n",
       "      <td>0.001530</td>\n",
       "    </tr>\n",
       "    <tr>\n",
       "      <th>Sale Amount</th>\n",
       "      <td>0.001049</td>\n",
       "      <td>0.020230</td>\n",
       "      <td>0.348077</td>\n",
       "      <td>1.000000</td>\n",
       "      <td>-0.000993</td>\n",
       "      <td>0.009339</td>\n",
       "    </tr>\n",
       "    <tr>\n",
       "      <th>Sales Ratio</th>\n",
       "      <td>-0.000375</td>\n",
       "      <td>-0.004364</td>\n",
       "      <td>0.006065</td>\n",
       "      <td>-0.000993</td>\n",
       "      <td>1.000000</td>\n",
       "      <td>0.001186</td>\n",
       "    </tr>\n",
       "    <tr>\n",
       "      <th>is_weekend</th>\n",
       "      <td>-0.001443</td>\n",
       "      <td>0.014362</td>\n",
       "      <td>0.001530</td>\n",
       "      <td>0.009339</td>\n",
       "      <td>0.001186</td>\n",
       "      <td>1.000000</td>\n",
       "    </tr>\n",
       "  </tbody>\n",
       "</table>\n",
       "</div>"
      ],
      "text/plain": [
       "                Serial Number  List Year  Assessed Value  Sale Amount   \n",
       "Serial Number        1.000000   0.086949       -0.001450     0.001049  \\\n",
       "List Year            0.086949   1.000000        0.034909     0.020230   \n",
       "Assessed Value      -0.001450   0.034909        1.000000     0.348077   \n",
       "Sale Amount          0.001049   0.020230        0.348077     1.000000   \n",
       "Sales Ratio         -0.000375  -0.004364        0.006065    -0.000993   \n",
       "is_weekend          -0.001443   0.014362        0.001530     0.009339   \n",
       "\n",
       "                Sales Ratio  is_weekend  \n",
       "Serial Number     -0.000375   -0.001443  \n",
       "List Year         -0.004364    0.014362  \n",
       "Assessed Value     0.006065    0.001530  \n",
       "Sale Amount       -0.000993    0.009339  \n",
       "Sales Ratio        1.000000    0.001186  \n",
       "is_weekend         0.001186    1.000000  "
      ]
     },
     "execution_count": 18,
     "metadata": {},
     "output_type": "execute_result"
    }
   ],
   "source": [
    "df.corr(numeric_only= True)"
   ]
  },
  {
   "attachments": {},
   "cell_type": "markdown",
   "id": "abc0169d",
   "metadata": {},
   "source": [
    "Obtenemos en una columna el mes y el año concatenados:"
   ]
  },
  {
   "cell_type": "code",
   "execution_count": 19,
   "id": "934c03ad",
   "metadata": {},
   "outputs": [],
   "source": [
    "df['year_and_month']= df['year'] + '/' + df['month']"
   ]
  },
  {
   "cell_type": "code",
   "execution_count": null,
   "id": "fd733284",
   "metadata": {},
   "outputs": [],
   "source": [
    "Gráfica temporal con los valores medios mensuales del precio tasado:"
   ]
  },
  {
   "cell_type": "code",
   "execution_count": 20,
   "id": "020a57f4",
   "metadata": {},
   "outputs": [
    {
     "data": {
      "application/vnd.plotly.v1+json": {
       "config": {
        "plotlyServerURL": "https://plot.ly"
       },
       "data": [
        {
         "mode": "markers+lines",
         "type": "scatter",
         "x": [
          "1999/05",
          "2001/01",
          "2001/02",
          "2001/03",
          "2001/04",
          "2001/05",
          "2001/06",
          "2001/07",
          "2001/08",
          "2001/09",
          "2001/10",
          "2001/11",
          "2001/12",
          "2002/01",
          "2002/02",
          "2002/03",
          "2002/04",
          "2002/05",
          "2002/06",
          "2002/07",
          "2002/08",
          "2002/09",
          "2002/10",
          "2002/11",
          "2002/12",
          "2003/01",
          "2003/02",
          "2003/03",
          "2003/04",
          "2003/05",
          "2003/06",
          "2003/07",
          "2003/08",
          "2003/09",
          "2003/10",
          "2003/11",
          "2003/12",
          "2004/01",
          "2004/02",
          "2004/03",
          "2004/04",
          "2004/05",
          "2004/06",
          "2004/07",
          "2004/08",
          "2004/09",
          "2004/10",
          "2004/11",
          "2004/12",
          "2005/01",
          "2005/02",
          "2005/03",
          "2005/04",
          "2005/05",
          "2005/06",
          "2005/07",
          "2005/08",
          "2005/09",
          "2005/10",
          "2005/11",
          "2005/12",
          "2006/01",
          "2006/02",
          "2006/03",
          "2006/04",
          "2006/05",
          "2006/06",
          "2006/07",
          "2006/08",
          "2006/09",
          "2006/10",
          "2006/11",
          "2006/12",
          "2007/01",
          "2007/02",
          "2007/03",
          "2007/04",
          "2007/05",
          "2007/06",
          "2007/07",
          "2007/08",
          "2007/09",
          "2007/10",
          "2007/11",
          "2007/12",
          "2008/01",
          "2008/02",
          "2008/03",
          "2008/04",
          "2008/05",
          "2008/06",
          "2008/07",
          "2008/08",
          "2008/09",
          "2008/10",
          "2008/11",
          "2008/12",
          "2009/01",
          "2009/02",
          "2009/03",
          "2009/04",
          "2009/05",
          "2009/06",
          "2009/07",
          "2009/08",
          "2009/09",
          "2009/10",
          "2009/11",
          "2009/12",
          "2010/01",
          "2010/02",
          "2010/03",
          "2010/04",
          "2010/05",
          "2010/06",
          "2010/07",
          "2010/08",
          "2010/09",
          "2010/10",
          "2010/11",
          "2010/12",
          "2011/01",
          "2011/02",
          "2011/03",
          "2011/04",
          "2011/05",
          "2011/06",
          "2011/07",
          "2011/08",
          "2011/09",
          "2011/10",
          "2011/11",
          "2011/12",
          "2012/01",
          "2012/02",
          "2012/03",
          "2012/04",
          "2012/05",
          "2012/06",
          "2012/07",
          "2012/08",
          "2012/09",
          "2012/10",
          "2012/11",
          "2012/12",
          "2013/01",
          "2013/02",
          "2013/03",
          "2013/04",
          "2013/05",
          "2013/06",
          "2013/07",
          "2013/08",
          "2013/09",
          "2013/10",
          "2013/11",
          "2013/12",
          "2014/01",
          "2014/02",
          "2014/03",
          "2014/04",
          "2014/05",
          "2014/06",
          "2014/07",
          "2014/08",
          "2014/09",
          "2014/10",
          "2014/11",
          "2014/12",
          "2015/01",
          "2015/02",
          "2015/03",
          "2015/04",
          "2015/05",
          "2015/06",
          "2015/07",
          "2015/08",
          "2015/09",
          "2015/10",
          "2015/11",
          "2015/12",
          "2016/01",
          "2016/02",
          "2016/03",
          "2016/04",
          "2016/05",
          "2016/06",
          "2016/07",
          "2016/08",
          "2016/09",
          "2016/10",
          "2016/11",
          "2016/12",
          "2017/01",
          "2017/02",
          "2017/03",
          "2017/04",
          "2017/05",
          "2017/06",
          "2017/07",
          "2017/08",
          "2017/09",
          "2017/10",
          "2017/11",
          "2017/12",
          "2018/01",
          "2018/02",
          "2018/03",
          "2018/04",
          "2018/05",
          "2018/06",
          "2018/07",
          "2018/08",
          "2018/09",
          "2018/10",
          "2018/11",
          "2018/12",
          "2019/01",
          "2019/02",
          "2019/03",
          "2019/04",
          "2019/05",
          "2019/06",
          "2019/07",
          "2019/08",
          "2019/09",
          "2019/10",
          "2019/11",
          "2019/12",
          "2020/01",
          "2020/02",
          "2020/03",
          "2020/04",
          "2020/05",
          "2020/06",
          "2020/07",
          "2020/08",
          "2020/09",
          "2020/10",
          "2020/11",
          "2020/12",
          "2021/01",
          "2021/02",
          "2021/03",
          "2021/04",
          "2021/05",
          "2021/06",
          "2021/07",
          "2021/08",
          "2021/09",
          "2021/10",
          "2021/11",
          "2021/12"
         ],
         "y": [
          46690,
          116198.96313364056,
          129475.75,
          114584.15323645971,
          132130.70544554456,
          123287.33499170812,
          163979.74404761905,
          132256.0353982301,
          156208.37588652482,
          135700.1171875,
          129488.82633053222,
          135500.80626780627,
          140379.13896457767,
          135310.62575266327,
          166714.72866817156,
          161598.3895944285,
          146347.63120229007,
          139216.9827053737,
          139389.89100126742,
          146387.05053380784,
          166930.4078862314,
          127932.02590320382,
          158938.6267507003,
          140608.11304870716,
          178461.39154411765,
          176350.13964742483,
          195492.3222308288,
          180737.59731543623,
          207717.52329098608,
          166352.32232496698,
          217584.84604105572,
          168743.4482984293,
          165167.96864111497,
          171495.35223245926,
          160542.64610011643,
          225105.12254570075,
          199443.77607585705,
          199093.88262282548,
          194622.94709677418,
          201461.3213367609,
          220299.9623655914,
          216869.78277153557,
          163013.85313615503,
          213492.3727319855,
          181949.24908088235,
          188178.05876731963,
          228917.0203862661,
          175400.0979547901,
          185176.43673276677,
          202482.77872795297,
          188893.3619883041,
          218933.45836298933,
          181197.39806234205,
          227735.56307129798,
          172646.30812064966,
          226930.04647499014,
          242867.621253406,
          242953.3695047301,
          169845.46808510637,
          194951.08190954773,
          178768.9064983637,
          195204.86572925284,
          218337.48498498497,
          204358.40734557595,
          282625.8488612836,
          213162.5320275278,
          197969.54617676267,
          315213.6959418534,
          248856.61549295776,
          202421.80883472963,
          210887.47881899873,
          208301.72662798196,
          211492.2959945689,
          298810.70547945204,
          378847.38771518,
          336430.74774774775,
          411205.7039187228,
          410492.3563432836,
          416678.44314079423,
          355988.86225895316,
          373532.1952479339,
          319219.7971014493,
          347612.62468931236,
          361217.91694915254,
          504550.2413793103,
          298541.2505319149,
          347266.60754017305,
          261455.70983050848,
          361781.96088888886,
          319203.3152654867,
          255749.11170212767,
          375820.4486373166,
          353511.0904572565,
          257150.0348387097,
          313678.4167507568,
          456623.4826839827,
          285822.3233333333,
          279209.6576980568,
          248367.78634577602,
          295899.5476973684,
          299404.98642533936,
          234362.3886310905,
          251409.22685656155,
          443107.3725,
          291536.0957207207,
          254723.13580246913,
          284187.4705882353,
          226548.67486338798,
          259692.40084985836,
          319250.34359341447,
          351230.9029066172,
          316759.8324407039,
          402115.84256816184,
          450188.49796334014,
          431982.30372807017,
          424833.9192200557,
          368403.9925496689,
          308400.8430404738,
          309953.1569595262,
          266584.63328631874,
          293187.24377682403,
          300274.83987761347,
          382174.9444918873,
          298830.1557788945,
          375331.32104637334,
          337693.4387254902,
          389616.1984036488,
          369750.2623426912,
          277243.0966029724,
          380546.20106524637,
          318665.42459736456,
          402900.16083916085,
          306051.75,
          473611.6856772521,
          353447.33053221286,
          485386.66638152266,
          398972.8606557377,
          354227.55383211677,
          509735.59367945825,
          455705.66242774564,
          359931.3488372093,
          297222.85908141965,
          431541.1517467249,
          359489.40265486727,
          289531.07308584685,
          374900.8452157598,
          361008.47439544805,
          338832.7922437673,
          407056.3135338346,
          397784.75855689176,
          347966.0888429752,
          309157.9686147186,
          428312.2529989095,
          413991.60731021554,
          588023.665634675,
          385195.0691943128,
          407434.8616932104,
          268761.8197706172,
          274404.5118507312,
          300341.736697751,
          315634.6275468623,
          349914.47708894877,
          353147.68333333335,
          287056.6825531915,
          367502.7885462555,
          271305.676199262,
          324463.29907209135,
          378659.1562216167,
          276542.0026041667,
          262814.35727932747,
          272088.35986307234,
          316457.65944997076,
          268560.3589918256,
          363151.61344537814,
          421088.6178299931,
          304929.3552123552,
          270979.6987951807,
          315705.7696929239,
          262835.4890945142,
          308764.1107110711,
          323204.05574043264,
          277915.8360170884,
          310640.7826330532,
          243785.71218795888,
          231142.18433931484,
          247689.91180866965,
          544072.65,
          383480.20238095237,
          297092.9633507853,
          294285.8901601831,
          255258.6601520087,
          260550.09486447932,
          296351.19267299864,
          294108.4265329734,
          362508.5521143538,
          335719.12884411454,
          311317.21393998066,
          280586.3192429022,
          278383.39640162507,
          366988.05162659124,
          342396.08532695373,
          244487.43366336633,
          248658.37491289197,
          288190.2757255937,
          314899.1008339651,
          315645.2085287846,
          319095.9594827586,
          342997.4416722859,
          324031.0278824416,
          262757.3742010459,
          300763.5931834663,
          321771.44773358,
          372606.002994012,
          344161.0805837563,
          276269.8951965066,
          249436.43946188342,
          311710.6491611962,
          348189.31163106137,
          299911.02383474575,
          296407.85506543866,
          380458.9106659448,
          280835.4129032258,
          440312.6223922114,
          236381.8231441048,
          268280.6129476584,
          291456.05056980054,
          281894.0497159091,
          269504.6436781609,
          272187.8693349029,
          332589.1308485329,
          281191.97908496734,
          300881.65478927206,
          277470.8397196262,
          318666.4492140266,
          297525.73003992013,
          321980.40067529544,
          376610.3431829964,
          322122.3807673628,
          272575.39222797926,
          266554.92817294283,
          358300.61631663976,
          328579.49542168673,
          356170.3275478416,
          381187.1896197328,
          284048.8430079156,
          361079.4452753229,
          444613.6144404332,
          289858.0077704722,
          437873.59734257654,
          310949.67115384614,
          322578.56077554065,
          278549.60216718266,
          378646.8709280885
         ]
        }
       ],
       "layout": {
        "template": {
         "data": {
          "bar": [
           {
            "error_x": {
             "color": "#2a3f5f"
            },
            "error_y": {
             "color": "#2a3f5f"
            },
            "marker": {
             "line": {
              "color": "#E5ECF6",
              "width": 0.5
             },
             "pattern": {
              "fillmode": "overlay",
              "size": 10,
              "solidity": 0.2
             }
            },
            "type": "bar"
           }
          ],
          "barpolar": [
           {
            "marker": {
             "line": {
              "color": "#E5ECF6",
              "width": 0.5
             },
             "pattern": {
              "fillmode": "overlay",
              "size": 10,
              "solidity": 0.2
             }
            },
            "type": "barpolar"
           }
          ],
          "carpet": [
           {
            "aaxis": {
             "endlinecolor": "#2a3f5f",
             "gridcolor": "white",
             "linecolor": "white",
             "minorgridcolor": "white",
             "startlinecolor": "#2a3f5f"
            },
            "baxis": {
             "endlinecolor": "#2a3f5f",
             "gridcolor": "white",
             "linecolor": "white",
             "minorgridcolor": "white",
             "startlinecolor": "#2a3f5f"
            },
            "type": "carpet"
           }
          ],
          "choropleth": [
           {
            "colorbar": {
             "outlinewidth": 0,
             "ticks": ""
            },
            "type": "choropleth"
           }
          ],
          "contour": [
           {
            "colorbar": {
             "outlinewidth": 0,
             "ticks": ""
            },
            "colorscale": [
             [
              0,
              "#0d0887"
             ],
             [
              0.1111111111111111,
              "#46039f"
             ],
             [
              0.2222222222222222,
              "#7201a8"
             ],
             [
              0.3333333333333333,
              "#9c179e"
             ],
             [
              0.4444444444444444,
              "#bd3786"
             ],
             [
              0.5555555555555556,
              "#d8576b"
             ],
             [
              0.6666666666666666,
              "#ed7953"
             ],
             [
              0.7777777777777778,
              "#fb9f3a"
             ],
             [
              0.8888888888888888,
              "#fdca26"
             ],
             [
              1,
              "#f0f921"
             ]
            ],
            "type": "contour"
           }
          ],
          "contourcarpet": [
           {
            "colorbar": {
             "outlinewidth": 0,
             "ticks": ""
            },
            "type": "contourcarpet"
           }
          ],
          "heatmap": [
           {
            "colorbar": {
             "outlinewidth": 0,
             "ticks": ""
            },
            "colorscale": [
             [
              0,
              "#0d0887"
             ],
             [
              0.1111111111111111,
              "#46039f"
             ],
             [
              0.2222222222222222,
              "#7201a8"
             ],
             [
              0.3333333333333333,
              "#9c179e"
             ],
             [
              0.4444444444444444,
              "#bd3786"
             ],
             [
              0.5555555555555556,
              "#d8576b"
             ],
             [
              0.6666666666666666,
              "#ed7953"
             ],
             [
              0.7777777777777778,
              "#fb9f3a"
             ],
             [
              0.8888888888888888,
              "#fdca26"
             ],
             [
              1,
              "#f0f921"
             ]
            ],
            "type": "heatmap"
           }
          ],
          "heatmapgl": [
           {
            "colorbar": {
             "outlinewidth": 0,
             "ticks": ""
            },
            "colorscale": [
             [
              0,
              "#0d0887"
             ],
             [
              0.1111111111111111,
              "#46039f"
             ],
             [
              0.2222222222222222,
              "#7201a8"
             ],
             [
              0.3333333333333333,
              "#9c179e"
             ],
             [
              0.4444444444444444,
              "#bd3786"
             ],
             [
              0.5555555555555556,
              "#d8576b"
             ],
             [
              0.6666666666666666,
              "#ed7953"
             ],
             [
              0.7777777777777778,
              "#fb9f3a"
             ],
             [
              0.8888888888888888,
              "#fdca26"
             ],
             [
              1,
              "#f0f921"
             ]
            ],
            "type": "heatmapgl"
           }
          ],
          "histogram": [
           {
            "marker": {
             "pattern": {
              "fillmode": "overlay",
              "size": 10,
              "solidity": 0.2
             }
            },
            "type": "histogram"
           }
          ],
          "histogram2d": [
           {
            "colorbar": {
             "outlinewidth": 0,
             "ticks": ""
            },
            "colorscale": [
             [
              0,
              "#0d0887"
             ],
             [
              0.1111111111111111,
              "#46039f"
             ],
             [
              0.2222222222222222,
              "#7201a8"
             ],
             [
              0.3333333333333333,
              "#9c179e"
             ],
             [
              0.4444444444444444,
              "#bd3786"
             ],
             [
              0.5555555555555556,
              "#d8576b"
             ],
             [
              0.6666666666666666,
              "#ed7953"
             ],
             [
              0.7777777777777778,
              "#fb9f3a"
             ],
             [
              0.8888888888888888,
              "#fdca26"
             ],
             [
              1,
              "#f0f921"
             ]
            ],
            "type": "histogram2d"
           }
          ],
          "histogram2dcontour": [
           {
            "colorbar": {
             "outlinewidth": 0,
             "ticks": ""
            },
            "colorscale": [
             [
              0,
              "#0d0887"
             ],
             [
              0.1111111111111111,
              "#46039f"
             ],
             [
              0.2222222222222222,
              "#7201a8"
             ],
             [
              0.3333333333333333,
              "#9c179e"
             ],
             [
              0.4444444444444444,
              "#bd3786"
             ],
             [
              0.5555555555555556,
              "#d8576b"
             ],
             [
              0.6666666666666666,
              "#ed7953"
             ],
             [
              0.7777777777777778,
              "#fb9f3a"
             ],
             [
              0.8888888888888888,
              "#fdca26"
             ],
             [
              1,
              "#f0f921"
             ]
            ],
            "type": "histogram2dcontour"
           }
          ],
          "mesh3d": [
           {
            "colorbar": {
             "outlinewidth": 0,
             "ticks": ""
            },
            "type": "mesh3d"
           }
          ],
          "parcoords": [
           {
            "line": {
             "colorbar": {
              "outlinewidth": 0,
              "ticks": ""
             }
            },
            "type": "parcoords"
           }
          ],
          "pie": [
           {
            "automargin": true,
            "type": "pie"
           }
          ],
          "scatter": [
           {
            "fillpattern": {
             "fillmode": "overlay",
             "size": 10,
             "solidity": 0.2
            },
            "type": "scatter"
           }
          ],
          "scatter3d": [
           {
            "line": {
             "colorbar": {
              "outlinewidth": 0,
              "ticks": ""
             }
            },
            "marker": {
             "colorbar": {
              "outlinewidth": 0,
              "ticks": ""
             }
            },
            "type": "scatter3d"
           }
          ],
          "scattercarpet": [
           {
            "marker": {
             "colorbar": {
              "outlinewidth": 0,
              "ticks": ""
             }
            },
            "type": "scattercarpet"
           }
          ],
          "scattergeo": [
           {
            "marker": {
             "colorbar": {
              "outlinewidth": 0,
              "ticks": ""
             }
            },
            "type": "scattergeo"
           }
          ],
          "scattergl": [
           {
            "marker": {
             "colorbar": {
              "outlinewidth": 0,
              "ticks": ""
             }
            },
            "type": "scattergl"
           }
          ],
          "scattermapbox": [
           {
            "marker": {
             "colorbar": {
              "outlinewidth": 0,
              "ticks": ""
             }
            },
            "type": "scattermapbox"
           }
          ],
          "scatterpolar": [
           {
            "marker": {
             "colorbar": {
              "outlinewidth": 0,
              "ticks": ""
             }
            },
            "type": "scatterpolar"
           }
          ],
          "scatterpolargl": [
           {
            "marker": {
             "colorbar": {
              "outlinewidth": 0,
              "ticks": ""
             }
            },
            "type": "scatterpolargl"
           }
          ],
          "scatterternary": [
           {
            "marker": {
             "colorbar": {
              "outlinewidth": 0,
              "ticks": ""
             }
            },
            "type": "scatterternary"
           }
          ],
          "surface": [
           {
            "colorbar": {
             "outlinewidth": 0,
             "ticks": ""
            },
            "colorscale": [
             [
              0,
              "#0d0887"
             ],
             [
              0.1111111111111111,
              "#46039f"
             ],
             [
              0.2222222222222222,
              "#7201a8"
             ],
             [
              0.3333333333333333,
              "#9c179e"
             ],
             [
              0.4444444444444444,
              "#bd3786"
             ],
             [
              0.5555555555555556,
              "#d8576b"
             ],
             [
              0.6666666666666666,
              "#ed7953"
             ],
             [
              0.7777777777777778,
              "#fb9f3a"
             ],
             [
              0.8888888888888888,
              "#fdca26"
             ],
             [
              1,
              "#f0f921"
             ]
            ],
            "type": "surface"
           }
          ],
          "table": [
           {
            "cells": {
             "fill": {
              "color": "#EBF0F8"
             },
             "line": {
              "color": "white"
             }
            },
            "header": {
             "fill": {
              "color": "#C8D4E3"
             },
             "line": {
              "color": "white"
             }
            },
            "type": "table"
           }
          ]
         },
         "layout": {
          "annotationdefaults": {
           "arrowcolor": "#2a3f5f",
           "arrowhead": 0,
           "arrowwidth": 1
          },
          "autotypenumbers": "strict",
          "coloraxis": {
           "colorbar": {
            "outlinewidth": 0,
            "ticks": ""
           }
          },
          "colorscale": {
           "diverging": [
            [
             0,
             "#8e0152"
            ],
            [
             0.1,
             "#c51b7d"
            ],
            [
             0.2,
             "#de77ae"
            ],
            [
             0.3,
             "#f1b6da"
            ],
            [
             0.4,
             "#fde0ef"
            ],
            [
             0.5,
             "#f7f7f7"
            ],
            [
             0.6,
             "#e6f5d0"
            ],
            [
             0.7,
             "#b8e186"
            ],
            [
             0.8,
             "#7fbc41"
            ],
            [
             0.9,
             "#4d9221"
            ],
            [
             1,
             "#276419"
            ]
           ],
           "sequential": [
            [
             0,
             "#0d0887"
            ],
            [
             0.1111111111111111,
             "#46039f"
            ],
            [
             0.2222222222222222,
             "#7201a8"
            ],
            [
             0.3333333333333333,
             "#9c179e"
            ],
            [
             0.4444444444444444,
             "#bd3786"
            ],
            [
             0.5555555555555556,
             "#d8576b"
            ],
            [
             0.6666666666666666,
             "#ed7953"
            ],
            [
             0.7777777777777778,
             "#fb9f3a"
            ],
            [
             0.8888888888888888,
             "#fdca26"
            ],
            [
             1,
             "#f0f921"
            ]
           ],
           "sequentialminus": [
            [
             0,
             "#0d0887"
            ],
            [
             0.1111111111111111,
             "#46039f"
            ],
            [
             0.2222222222222222,
             "#7201a8"
            ],
            [
             0.3333333333333333,
             "#9c179e"
            ],
            [
             0.4444444444444444,
             "#bd3786"
            ],
            [
             0.5555555555555556,
             "#d8576b"
            ],
            [
             0.6666666666666666,
             "#ed7953"
            ],
            [
             0.7777777777777778,
             "#fb9f3a"
            ],
            [
             0.8888888888888888,
             "#fdca26"
            ],
            [
             1,
             "#f0f921"
            ]
           ]
          },
          "colorway": [
           "#636efa",
           "#EF553B",
           "#00cc96",
           "#ab63fa",
           "#FFA15A",
           "#19d3f3",
           "#FF6692",
           "#B6E880",
           "#FF97FF",
           "#FECB52"
          ],
          "font": {
           "color": "#2a3f5f"
          },
          "geo": {
           "bgcolor": "white",
           "lakecolor": "white",
           "landcolor": "#E5ECF6",
           "showlakes": true,
           "showland": true,
           "subunitcolor": "white"
          },
          "hoverlabel": {
           "align": "left"
          },
          "hovermode": "closest",
          "mapbox": {
           "style": "light"
          },
          "paper_bgcolor": "white",
          "plot_bgcolor": "#E5ECF6",
          "polar": {
           "angularaxis": {
            "gridcolor": "white",
            "linecolor": "white",
            "ticks": ""
           },
           "bgcolor": "#E5ECF6",
           "radialaxis": {
            "gridcolor": "white",
            "linecolor": "white",
            "ticks": ""
           }
          },
          "scene": {
           "xaxis": {
            "backgroundcolor": "#E5ECF6",
            "gridcolor": "white",
            "gridwidth": 2,
            "linecolor": "white",
            "showbackground": true,
            "ticks": "",
            "zerolinecolor": "white"
           },
           "yaxis": {
            "backgroundcolor": "#E5ECF6",
            "gridcolor": "white",
            "gridwidth": 2,
            "linecolor": "white",
            "showbackground": true,
            "ticks": "",
            "zerolinecolor": "white"
           },
           "zaxis": {
            "backgroundcolor": "#E5ECF6",
            "gridcolor": "white",
            "gridwidth": 2,
            "linecolor": "white",
            "showbackground": true,
            "ticks": "",
            "zerolinecolor": "white"
           }
          },
          "shapedefaults": {
           "line": {
            "color": "#2a3f5f"
           }
          },
          "ternary": {
           "aaxis": {
            "gridcolor": "white",
            "linecolor": "white",
            "ticks": ""
           },
           "baxis": {
            "gridcolor": "white",
            "linecolor": "white",
            "ticks": ""
           },
           "bgcolor": "#E5ECF6",
           "caxis": {
            "gridcolor": "white",
            "linecolor": "white",
            "ticks": ""
           }
          },
          "title": {
           "x": 0.05
          },
          "xaxis": {
           "automargin": true,
           "gridcolor": "white",
           "linecolor": "white",
           "ticks": "",
           "title": {
            "standoff": 15
           },
           "zerolinecolor": "white",
           "zerolinewidth": 2
          },
          "yaxis": {
           "automargin": true,
           "gridcolor": "white",
           "linecolor": "white",
           "ticks": "",
           "title": {
            "standoff": 15
           },
           "zerolinecolor": "white",
           "zerolinewidth": 2
          }
         }
        }
       }
      }
     },
     "metadata": {},
     "output_type": "display_data"
    }
   ],
   "source": [
    "df_sales_stat= pd.DataFrame(df[['year_and_month', 'Assessed Value']].groupby('year_and_month').mean()['Assessed Value'])\n",
    "fig= go.Figure(data= [\n",
    "                        go.Scatter(x= df_sales_stat.index, y= df_sales_stat.iloc[:, 0], mode= 'markers+lines')\n",
    "\n",
    "])\n",
    "fig.show()"
   ]
  },
  {
   "attachments": {},
   "cell_type": "markdown",
   "id": "4982ea02",
   "metadata": {},
   "source": [
    "Recuento de viviendas vendidas por cada tipología:"
   ]
  },
  {
   "cell_type": "code",
   "execution_count": 21,
   "id": "022fd934",
   "metadata": {},
   "outputs": [
    {
     "data": {
      "text/plain": [
       "Residential Type\n",
       "Single Family    170214\n",
       "nan              151316\n",
       "Condo             46102\n",
       "Two Family        11659\n",
       "Three Family       5414\n",
       "Four Family         938\n",
       "Name: count, dtype: int64"
      ]
     },
     "execution_count": 21,
     "metadata": {},
     "output_type": "execute_result"
    }
   ],
   "source": [
    "df['Residential Type'].value_counts()"
   ]
  },
  {
   "attachments": {},
   "cell_type": "markdown",
   "id": "ce6f4e86",
   "metadata": {},
   "source": [
    "12 localidades con los precios de venta más caros, en la aplicación figura este gráfico en función de varios indicadores:"
   ]
  },
  {
   "cell_type": "code",
   "execution_count": 23,
   "id": "b9e9c6d3",
   "metadata": {},
   "outputs": [
    {
     "data": {
      "application/vnd.plotly.v1+json": {
       "config": {
        "plotlyServerURL": "https://plot.ly"
       },
       "data": [
        {
         "type": "bar",
         "x": [
          "Fairfield",
          "Ridgefield",
          "Roxbury",
          "Washington",
          "Willington",
          "Wilton",
          "Weston",
          "Stamford",
          "Westport",
          "New Canaan",
          "Darien",
          "Greenwich"
         ],
         "y": [
          683246.926842883,
          730630.7630708141,
          750589.0916230367,
          845847.762345679,
          901675.046184739,
          933811.0265557163,
          939844.3750985027,
          1023422.3095853907,
          1389200.4406215316,
          1516890.807928075,
          1539040.4211728866,
          2129592.242253973
         ]
        }
       ],
       "layout": {
        "template": {
         "data": {
          "bar": [
           {
            "error_x": {
             "color": "#2a3f5f"
            },
            "error_y": {
             "color": "#2a3f5f"
            },
            "marker": {
             "line": {
              "color": "#E5ECF6",
              "width": 0.5
             },
             "pattern": {
              "fillmode": "overlay",
              "size": 10,
              "solidity": 0.2
             }
            },
            "type": "bar"
           }
          ],
          "barpolar": [
           {
            "marker": {
             "line": {
              "color": "#E5ECF6",
              "width": 0.5
             },
             "pattern": {
              "fillmode": "overlay",
              "size": 10,
              "solidity": 0.2
             }
            },
            "type": "barpolar"
           }
          ],
          "carpet": [
           {
            "aaxis": {
             "endlinecolor": "#2a3f5f",
             "gridcolor": "white",
             "linecolor": "white",
             "minorgridcolor": "white",
             "startlinecolor": "#2a3f5f"
            },
            "baxis": {
             "endlinecolor": "#2a3f5f",
             "gridcolor": "white",
             "linecolor": "white",
             "minorgridcolor": "white",
             "startlinecolor": "#2a3f5f"
            },
            "type": "carpet"
           }
          ],
          "choropleth": [
           {
            "colorbar": {
             "outlinewidth": 0,
             "ticks": ""
            },
            "type": "choropleth"
           }
          ],
          "contour": [
           {
            "colorbar": {
             "outlinewidth": 0,
             "ticks": ""
            },
            "colorscale": [
             [
              0,
              "#0d0887"
             ],
             [
              0.1111111111111111,
              "#46039f"
             ],
             [
              0.2222222222222222,
              "#7201a8"
             ],
             [
              0.3333333333333333,
              "#9c179e"
             ],
             [
              0.4444444444444444,
              "#bd3786"
             ],
             [
              0.5555555555555556,
              "#d8576b"
             ],
             [
              0.6666666666666666,
              "#ed7953"
             ],
             [
              0.7777777777777778,
              "#fb9f3a"
             ],
             [
              0.8888888888888888,
              "#fdca26"
             ],
             [
              1,
              "#f0f921"
             ]
            ],
            "type": "contour"
           }
          ],
          "contourcarpet": [
           {
            "colorbar": {
             "outlinewidth": 0,
             "ticks": ""
            },
            "type": "contourcarpet"
           }
          ],
          "heatmap": [
           {
            "colorbar": {
             "outlinewidth": 0,
             "ticks": ""
            },
            "colorscale": [
             [
              0,
              "#0d0887"
             ],
             [
              0.1111111111111111,
              "#46039f"
             ],
             [
              0.2222222222222222,
              "#7201a8"
             ],
             [
              0.3333333333333333,
              "#9c179e"
             ],
             [
              0.4444444444444444,
              "#bd3786"
             ],
             [
              0.5555555555555556,
              "#d8576b"
             ],
             [
              0.6666666666666666,
              "#ed7953"
             ],
             [
              0.7777777777777778,
              "#fb9f3a"
             ],
             [
              0.8888888888888888,
              "#fdca26"
             ],
             [
              1,
              "#f0f921"
             ]
            ],
            "type": "heatmap"
           }
          ],
          "heatmapgl": [
           {
            "colorbar": {
             "outlinewidth": 0,
             "ticks": ""
            },
            "colorscale": [
             [
              0,
              "#0d0887"
             ],
             [
              0.1111111111111111,
              "#46039f"
             ],
             [
              0.2222222222222222,
              "#7201a8"
             ],
             [
              0.3333333333333333,
              "#9c179e"
             ],
             [
              0.4444444444444444,
              "#bd3786"
             ],
             [
              0.5555555555555556,
              "#d8576b"
             ],
             [
              0.6666666666666666,
              "#ed7953"
             ],
             [
              0.7777777777777778,
              "#fb9f3a"
             ],
             [
              0.8888888888888888,
              "#fdca26"
             ],
             [
              1,
              "#f0f921"
             ]
            ],
            "type": "heatmapgl"
           }
          ],
          "histogram": [
           {
            "marker": {
             "pattern": {
              "fillmode": "overlay",
              "size": 10,
              "solidity": 0.2
             }
            },
            "type": "histogram"
           }
          ],
          "histogram2d": [
           {
            "colorbar": {
             "outlinewidth": 0,
             "ticks": ""
            },
            "colorscale": [
             [
              0,
              "#0d0887"
             ],
             [
              0.1111111111111111,
              "#46039f"
             ],
             [
              0.2222222222222222,
              "#7201a8"
             ],
             [
              0.3333333333333333,
              "#9c179e"
             ],
             [
              0.4444444444444444,
              "#bd3786"
             ],
             [
              0.5555555555555556,
              "#d8576b"
             ],
             [
              0.6666666666666666,
              "#ed7953"
             ],
             [
              0.7777777777777778,
              "#fb9f3a"
             ],
             [
              0.8888888888888888,
              "#fdca26"
             ],
             [
              1,
              "#f0f921"
             ]
            ],
            "type": "histogram2d"
           }
          ],
          "histogram2dcontour": [
           {
            "colorbar": {
             "outlinewidth": 0,
             "ticks": ""
            },
            "colorscale": [
             [
              0,
              "#0d0887"
             ],
             [
              0.1111111111111111,
              "#46039f"
             ],
             [
              0.2222222222222222,
              "#7201a8"
             ],
             [
              0.3333333333333333,
              "#9c179e"
             ],
             [
              0.4444444444444444,
              "#bd3786"
             ],
             [
              0.5555555555555556,
              "#d8576b"
             ],
             [
              0.6666666666666666,
              "#ed7953"
             ],
             [
              0.7777777777777778,
              "#fb9f3a"
             ],
             [
              0.8888888888888888,
              "#fdca26"
             ],
             [
              1,
              "#f0f921"
             ]
            ],
            "type": "histogram2dcontour"
           }
          ],
          "mesh3d": [
           {
            "colorbar": {
             "outlinewidth": 0,
             "ticks": ""
            },
            "type": "mesh3d"
           }
          ],
          "parcoords": [
           {
            "line": {
             "colorbar": {
              "outlinewidth": 0,
              "ticks": ""
             }
            },
            "type": "parcoords"
           }
          ],
          "pie": [
           {
            "automargin": true,
            "type": "pie"
           }
          ],
          "scatter": [
           {
            "fillpattern": {
             "fillmode": "overlay",
             "size": 10,
             "solidity": 0.2
            },
            "type": "scatter"
           }
          ],
          "scatter3d": [
           {
            "line": {
             "colorbar": {
              "outlinewidth": 0,
              "ticks": ""
             }
            },
            "marker": {
             "colorbar": {
              "outlinewidth": 0,
              "ticks": ""
             }
            },
            "type": "scatter3d"
           }
          ],
          "scattercarpet": [
           {
            "marker": {
             "colorbar": {
              "outlinewidth": 0,
              "ticks": ""
             }
            },
            "type": "scattercarpet"
           }
          ],
          "scattergeo": [
           {
            "marker": {
             "colorbar": {
              "outlinewidth": 0,
              "ticks": ""
             }
            },
            "type": "scattergeo"
           }
          ],
          "scattergl": [
           {
            "marker": {
             "colorbar": {
              "outlinewidth": 0,
              "ticks": ""
             }
            },
            "type": "scattergl"
           }
          ],
          "scattermapbox": [
           {
            "marker": {
             "colorbar": {
              "outlinewidth": 0,
              "ticks": ""
             }
            },
            "type": "scattermapbox"
           }
          ],
          "scatterpolar": [
           {
            "marker": {
             "colorbar": {
              "outlinewidth": 0,
              "ticks": ""
             }
            },
            "type": "scatterpolar"
           }
          ],
          "scatterpolargl": [
           {
            "marker": {
             "colorbar": {
              "outlinewidth": 0,
              "ticks": ""
             }
            },
            "type": "scatterpolargl"
           }
          ],
          "scatterternary": [
           {
            "marker": {
             "colorbar": {
              "outlinewidth": 0,
              "ticks": ""
             }
            },
            "type": "scatterternary"
           }
          ],
          "surface": [
           {
            "colorbar": {
             "outlinewidth": 0,
             "ticks": ""
            },
            "colorscale": [
             [
              0,
              "#0d0887"
             ],
             [
              0.1111111111111111,
              "#46039f"
             ],
             [
              0.2222222222222222,
              "#7201a8"
             ],
             [
              0.3333333333333333,
              "#9c179e"
             ],
             [
              0.4444444444444444,
              "#bd3786"
             ],
             [
              0.5555555555555556,
              "#d8576b"
             ],
             [
              0.6666666666666666,
              "#ed7953"
             ],
             [
              0.7777777777777778,
              "#fb9f3a"
             ],
             [
              0.8888888888888888,
              "#fdca26"
             ],
             [
              1,
              "#f0f921"
             ]
            ],
            "type": "surface"
           }
          ],
          "table": [
           {
            "cells": {
             "fill": {
              "color": "#EBF0F8"
             },
             "line": {
              "color": "white"
             }
            },
            "header": {
             "fill": {
              "color": "#C8D4E3"
             },
             "line": {
              "color": "white"
             }
            },
            "type": "table"
           }
          ]
         },
         "layout": {
          "annotationdefaults": {
           "arrowcolor": "#2a3f5f",
           "arrowhead": 0,
           "arrowwidth": 1
          },
          "autotypenumbers": "strict",
          "coloraxis": {
           "colorbar": {
            "outlinewidth": 0,
            "ticks": ""
           }
          },
          "colorscale": {
           "diverging": [
            [
             0,
             "#8e0152"
            ],
            [
             0.1,
             "#c51b7d"
            ],
            [
             0.2,
             "#de77ae"
            ],
            [
             0.3,
             "#f1b6da"
            ],
            [
             0.4,
             "#fde0ef"
            ],
            [
             0.5,
             "#f7f7f7"
            ],
            [
             0.6,
             "#e6f5d0"
            ],
            [
             0.7,
             "#b8e186"
            ],
            [
             0.8,
             "#7fbc41"
            ],
            [
             0.9,
             "#4d9221"
            ],
            [
             1,
             "#276419"
            ]
           ],
           "sequential": [
            [
             0,
             "#0d0887"
            ],
            [
             0.1111111111111111,
             "#46039f"
            ],
            [
             0.2222222222222222,
             "#7201a8"
            ],
            [
             0.3333333333333333,
             "#9c179e"
            ],
            [
             0.4444444444444444,
             "#bd3786"
            ],
            [
             0.5555555555555556,
             "#d8576b"
            ],
            [
             0.6666666666666666,
             "#ed7953"
            ],
            [
             0.7777777777777778,
             "#fb9f3a"
            ],
            [
             0.8888888888888888,
             "#fdca26"
            ],
            [
             1,
             "#f0f921"
            ]
           ],
           "sequentialminus": [
            [
             0,
             "#0d0887"
            ],
            [
             0.1111111111111111,
             "#46039f"
            ],
            [
             0.2222222222222222,
             "#7201a8"
            ],
            [
             0.3333333333333333,
             "#9c179e"
            ],
            [
             0.4444444444444444,
             "#bd3786"
            ],
            [
             0.5555555555555556,
             "#d8576b"
            ],
            [
             0.6666666666666666,
             "#ed7953"
            ],
            [
             0.7777777777777778,
             "#fb9f3a"
            ],
            [
             0.8888888888888888,
             "#fdca26"
            ],
            [
             1,
             "#f0f921"
            ]
           ]
          },
          "colorway": [
           "#636efa",
           "#EF553B",
           "#00cc96",
           "#ab63fa",
           "#FFA15A",
           "#19d3f3",
           "#FF6692",
           "#B6E880",
           "#FF97FF",
           "#FECB52"
          ],
          "font": {
           "color": "#2a3f5f"
          },
          "geo": {
           "bgcolor": "white",
           "lakecolor": "white",
           "landcolor": "#E5ECF6",
           "showlakes": true,
           "showland": true,
           "subunitcolor": "white"
          },
          "hoverlabel": {
           "align": "left"
          },
          "hovermode": "closest",
          "mapbox": {
           "style": "light"
          },
          "paper_bgcolor": "white",
          "plot_bgcolor": "#E5ECF6",
          "polar": {
           "angularaxis": {
            "gridcolor": "white",
            "linecolor": "white",
            "ticks": ""
           },
           "bgcolor": "#E5ECF6",
           "radialaxis": {
            "gridcolor": "white",
            "linecolor": "white",
            "ticks": ""
           }
          },
          "scene": {
           "xaxis": {
            "backgroundcolor": "#E5ECF6",
            "gridcolor": "white",
            "gridwidth": 2,
            "linecolor": "white",
            "showbackground": true,
            "ticks": "",
            "zerolinecolor": "white"
           },
           "yaxis": {
            "backgroundcolor": "#E5ECF6",
            "gridcolor": "white",
            "gridwidth": 2,
            "linecolor": "white",
            "showbackground": true,
            "ticks": "",
            "zerolinecolor": "white"
           },
           "zaxis": {
            "backgroundcolor": "#E5ECF6",
            "gridcolor": "white",
            "gridwidth": 2,
            "linecolor": "white",
            "showbackground": true,
            "ticks": "",
            "zerolinecolor": "white"
           }
          },
          "shapedefaults": {
           "line": {
            "color": "#2a3f5f"
           }
          },
          "ternary": {
           "aaxis": {
            "gridcolor": "white",
            "linecolor": "white",
            "ticks": ""
           },
           "baxis": {
            "gridcolor": "white",
            "linecolor": "white",
            "ticks": ""
           },
           "bgcolor": "#E5ECF6",
           "caxis": {
            "gridcolor": "white",
            "linecolor": "white",
            "ticks": ""
           }
          },
          "title": {
           "x": 0.05
          },
          "xaxis": {
           "automargin": true,
           "gridcolor": "white",
           "linecolor": "white",
           "ticks": "",
           "title": {
            "standoff": 15
           },
           "zerolinecolor": "white",
           "zerolinewidth": 2
          },
          "yaxis": {
           "automargin": true,
           "gridcolor": "white",
           "linecolor": "white",
           "ticks": "",
           "title": {
            "standoff": 15
           },
           "zerolinecolor": "white",
           "zerolinewidth": 2
          }
         }
        }
       }
      }
     },
     "metadata": {},
     "output_type": "display_data"
    }
   ],
   "source": [
    "df_expensive_towns= df[['Town', 'Assessed Value', 'Sale Amount', 'Sales Ratio']].groupby('Town').mean().sort_values(by= 'Sale Amount', ascending= True)\n",
    "df_expensive_towns= df_expensive_towns.iloc[-12:].sort_values(by= 'Sale Amount', ascending= True)\n",
    "fig = go.Figure([go.Bar(y= df_expensive_towns['Sale Amount'], x=list(df_expensive_towns.index))])\n",
    "fig.show()"
   ]
  },
  {
   "attachments": {},
   "cell_type": "markdown",
   "id": "b9c6e177",
   "metadata": {},
   "source": [
    "## Seccion 2 Regression Approach"
   ]
  },
  {
   "attachments": {},
   "cell_type": "markdown",
   "id": "fc8a3377",
   "metadata": {},
   "source": [
    "**In this section, we will try to predict with an extrem gradient boosting method the Sale Amount price in dollars of each house**\n",
    "**Load the data set with the coordinates integrated:**"
   ]
  },
  {
   "cell_type": "code",
   "execution_count": 140,
   "id": "411510c3",
   "metadata": {},
   "outputs": [
    {
     "data": {
      "text/html": [
       "<div>\n",
       "<style scoped>\n",
       "    .dataframe tbody tr th:only-of-type {\n",
       "        vertical-align: middle;\n",
       "    }\n",
       "\n",
       "    .dataframe tbody tr th {\n",
       "        vertical-align: top;\n",
       "    }\n",
       "\n",
       "    .dataframe thead th {\n",
       "        text-align: right;\n",
       "    }\n",
       "</style>\n",
       "<table border=\"1\" class=\"dataframe\">\n",
       "  <thead>\n",
       "    <tr style=\"text-align: right;\">\n",
       "      <th></th>\n",
       "      <th>Serial Number</th>\n",
       "      <th>List Year</th>\n",
       "      <th>Date Recorded</th>\n",
       "      <th>Town</th>\n",
       "      <th>Address</th>\n",
       "      <th>Assessed Value</th>\n",
       "      <th>Sale Amount</th>\n",
       "      <th>Sales Ratio</th>\n",
       "      <th>Property Type</th>\n",
       "      <th>Full Address</th>\n",
       "      <th>Longitude</th>\n",
       "      <th>Latitude</th>\n",
       "    </tr>\n",
       "  </thead>\n",
       "  <tbody>\n",
       "    <tr>\n",
       "      <th>93288</th>\n",
       "      <td>70085</td>\n",
       "      <td>2007</td>\n",
       "      <td>07/01/2008</td>\n",
       "      <td>Old Lyme</td>\n",
       "      <td>48 SALTAIRE DR</td>\n",
       "      <td>390600.0</td>\n",
       "      <td>850000.0</td>\n",
       "      <td>0.459529</td>\n",
       "      <td>Single Family</td>\n",
       "      <td>48 SALTAIRE DR,Old Lyme</td>\n",
       "      <td>-72.272838</td>\n",
       "      <td>41.286540</td>\n",
       "    </tr>\n",
       "    <tr>\n",
       "      <th>140852</th>\n",
       "      <td>90301</td>\n",
       "      <td>2009</td>\n",
       "      <td>09/01/2010</td>\n",
       "      <td>New Canaan</td>\n",
       "      <td>17 DANFORTH DRIVE</td>\n",
       "      <td>783300.0</td>\n",
       "      <td>1120000.0</td>\n",
       "      <td>0.699375</td>\n",
       "      <td>Single Family</td>\n",
       "      <td>17 DANFORTH DRIVE,New Canaan</td>\n",
       "      <td>-73.486215</td>\n",
       "      <td>41.205478</td>\n",
       "    </tr>\n",
       "    <tr>\n",
       "      <th>344818</th>\n",
       "      <td>170241</td>\n",
       "      <td>2017</td>\n",
       "      <td>08/07/2018</td>\n",
       "      <td>Clinton</td>\n",
       "      <td>2 OAKWOOD LN</td>\n",
       "      <td>104200.0</td>\n",
       "      <td>210000.0</td>\n",
       "      <td>0.496100</td>\n",
       "      <td>Single Family</td>\n",
       "      <td>2 OAKWOOD LN,Clinton</td>\n",
       "      <td>NaN</td>\n",
       "      <td>NaN</td>\n",
       "    </tr>\n",
       "    <tr>\n",
       "      <th>420306</th>\n",
       "      <td>1900166</td>\n",
       "      <td>2019</td>\n",
       "      <td>11/01/2019</td>\n",
       "      <td>Stamford</td>\n",
       "      <td>236 SEATON ROAD # 29-D-1</td>\n",
       "      <td>113520.0</td>\n",
       "      <td>195000.0</td>\n",
       "      <td>0.582200</td>\n",
       "      <td>Condo</td>\n",
       "      <td>236 SEATON ROAD # 29-D-1,Stamford</td>\n",
       "      <td>NaN</td>\n",
       "      <td>NaN</td>\n",
       "    </tr>\n",
       "    <tr>\n",
       "      <th>402196</th>\n",
       "      <td>19079</td>\n",
       "      <td>2019</td>\n",
       "      <td>07/20/2020</td>\n",
       "      <td>Salisbury</td>\n",
       "      <td>53 FALLS MOUNTAIN ROAD</td>\n",
       "      <td>944790.0</td>\n",
       "      <td>1175000.0</td>\n",
       "      <td>0.804100</td>\n",
       "      <td>Single Family</td>\n",
       "      <td>53 FALLS MOUNTAIN ROAD,Salisbury</td>\n",
       "      <td>NaN</td>\n",
       "      <td>NaN</td>\n",
       "    </tr>\n",
       "  </tbody>\n",
       "</table>\n",
       "</div>"
      ],
      "text/plain": [
       "        Serial Number  List Year Date Recorded        Town   \n",
       "93288           70085       2007    07/01/2008    Old Lyme  \\\n",
       "140852          90301       2009    09/01/2010  New Canaan   \n",
       "344818         170241       2017    08/07/2018     Clinton   \n",
       "420306        1900166       2019    11/01/2019    Stamford   \n",
       "402196          19079       2019    07/20/2020   Salisbury   \n",
       "\n",
       "                         Address  Assessed Value  Sale Amount  Sales Ratio   \n",
       "93288             48 SALTAIRE DR        390600.0     850000.0     0.459529  \\\n",
       "140852         17 DANFORTH DRIVE        783300.0    1120000.0     0.699375   \n",
       "344818              2 OAKWOOD LN        104200.0     210000.0     0.496100   \n",
       "420306  236 SEATON ROAD # 29-D-1        113520.0     195000.0     0.582200   \n",
       "402196    53 FALLS MOUNTAIN ROAD        944790.0    1175000.0     0.804100   \n",
       "\n",
       "        Property Type                       Full Address  Longitude   Latitude  \n",
       "93288   Single Family            48 SALTAIRE DR,Old Lyme -72.272838  41.286540  \n",
       "140852  Single Family       17 DANFORTH DRIVE,New Canaan -73.486215  41.205478  \n",
       "344818  Single Family               2 OAKWOOD LN,Clinton        NaN        NaN  \n",
       "420306          Condo  236 SEATON ROAD # 29-D-1,Stamford        NaN        NaN  \n",
       "402196  Single Family   53 FALLS MOUNTAIN ROAD,Salisbury        NaN        NaN  "
      ]
     },
     "execution_count": 140,
     "metadata": {},
     "output_type": "execute_result"
    }
   ],
   "source": [
    "df= pd.read_parquet(r'Analisis/datos_finales')\n",
    "df.sample(5)"
   ]
  },
  {
   "attachments": {},
   "cell_type": "markdown",
   "id": "d48d5a04",
   "metadata": {},
   "source": [
    "**Let´s delete some features that do not have associated latitude and longitude data:**"
   ]
  },
  {
   "cell_type": "code",
   "execution_count": 141,
   "id": "3b8a765f",
   "metadata": {},
   "outputs": [
    {
     "name": "stdout",
     "output_type": "stream",
     "text": [
      "<class 'pandas.core.frame.DataFrame'>\n",
      "Index: 347788 entries, 1 to 429568\n",
      "Data columns (total 12 columns):\n",
      " #   Column          Non-Null Count   Dtype  \n",
      "---  ------          --------------   -----  \n",
      " 0   Serial Number   347788 non-null  int64  \n",
      " 1   List Year       347788 non-null  int64  \n",
      " 2   Date Recorded   347788 non-null  object \n",
      " 3   Town            347788 non-null  object \n",
      " 4   Address         347788 non-null  object \n",
      " 5   Assessed Value  347788 non-null  float64\n",
      " 6   Sale Amount     347788 non-null  float64\n",
      " 7   Sales Ratio     347788 non-null  float64\n",
      " 8   Property Type   347788 non-null  object \n",
      " 9   Full Address    347788 non-null  object \n",
      " 10  Longitude       347788 non-null  float64\n",
      " 11  Latitude        347788 non-null  float64\n",
      "dtypes: float64(5), int64(2), object(5)\n",
      "memory usage: 34.5+ MB\n"
     ]
    }
   ],
   "source": [
    "df= df[~(df['Longitude'].isna()) & ~(df['Latitude'].isna())]\n",
    "df.info()"
   ]
  },
  {
   "attachments": {},
   "cell_type": "markdown",
   "id": "520a01c1",
   "metadata": {},
   "source": [
    "**Lets obtain additional info about the  data:**"
   ]
  },
  {
   "cell_type": "code",
   "execution_count": 142,
   "id": "260db5b6",
   "metadata": {},
   "outputs": [],
   "source": [
    "df['Year Recorded'], df['Month Recorded'] = df['Date Recorded'].apply(lambda x: x.split('/')[-1]).astype(int), df['Date Recorded'].apply(lambda x: x.split('/')[-3]).astype(int)\n",
    "df.drop(columns= ['Date Recorded'], inplace= True)\n",
    "df.reset_index(drop= True, inplace= True)"
   ]
  },
  {
   "attachments": {},
   "cell_type": "markdown",
   "id": "96de77c5",
   "metadata": {},
   "source": [
    "**Also, lets filter some values that are sparse**"
   ]
  },
  {
   "cell_type": "code",
   "execution_count": 145,
   "id": "c1f389fc",
   "metadata": {},
   "outputs": [
    {
     "data": {
      "text/html": [
       "<div>\n",
       "<style scoped>\n",
       "    .dataframe tbody tr th:only-of-type {\n",
       "        vertical-align: middle;\n",
       "    }\n",
       "\n",
       "    .dataframe tbody tr th {\n",
       "        vertical-align: top;\n",
       "    }\n",
       "\n",
       "    .dataframe thead th {\n",
       "        text-align: right;\n",
       "    }\n",
       "</style>\n",
       "<table border=\"1\" class=\"dataframe\">\n",
       "  <thead>\n",
       "    <tr style=\"text-align: right;\">\n",
       "      <th></th>\n",
       "      <th>List Year</th>\n",
       "      <th>Assessed Value</th>\n",
       "      <th>Sale Amount</th>\n",
       "      <th>Sales Ratio</th>\n",
       "      <th>Longitude</th>\n",
       "      <th>Latitude</th>\n",
       "      <th>Year Recorded</th>\n",
       "      <th>Month Recorded</th>\n",
       "      <th>Property Type_Apartments</th>\n",
       "      <th>Property Type_Commercial</th>\n",
       "      <th>Property Type_Condo</th>\n",
       "      <th>Property Type_Four Family</th>\n",
       "      <th>Property Type_Industrial</th>\n",
       "      <th>Property Type_Public Utility</th>\n",
       "      <th>Property Type_Single Family</th>\n",
       "      <th>Property Type_Three Family</th>\n",
       "      <th>Property Type_Two Family</th>\n",
       "      <th>Property Type_Vacant Land</th>\n",
       "    </tr>\n",
       "  </thead>\n",
       "  <tbody>\n",
       "    <tr>\n",
       "      <th>0</th>\n",
       "      <td>2020.0</td>\n",
       "      <td>253000.0</td>\n",
       "      <td>430000.0</td>\n",
       "      <td>0.5883</td>\n",
       "      <td>-72.207310</td>\n",
       "      <td>41.917736</td>\n",
       "      <td>2020.0</td>\n",
       "      <td>10.0</td>\n",
       "      <td>0.0</td>\n",
       "      <td>0.0</td>\n",
       "      <td>0.0</td>\n",
       "      <td>0.0</td>\n",
       "      <td>0.0</td>\n",
       "      <td>0.0</td>\n",
       "      <td>1.0</td>\n",
       "      <td>0.0</td>\n",
       "      <td>0.0</td>\n",
       "      <td>0.0</td>\n",
       "    </tr>\n",
       "    <tr>\n",
       "      <th>1</th>\n",
       "      <td>2020.0</td>\n",
       "      <td>130400.0</td>\n",
       "      <td>179900.0</td>\n",
       "      <td>0.7248</td>\n",
       "      <td>-72.875941</td>\n",
       "      <td>41.771014</td>\n",
       "      <td>2021.0</td>\n",
       "      <td>3.0</td>\n",
       "      <td>0.0</td>\n",
       "      <td>0.0</td>\n",
       "      <td>1.0</td>\n",
       "      <td>0.0</td>\n",
       "      <td>0.0</td>\n",
       "      <td>0.0</td>\n",
       "      <td>0.0</td>\n",
       "      <td>0.0</td>\n",
       "      <td>0.0</td>\n",
       "      <td>0.0</td>\n",
       "    </tr>\n",
       "    <tr>\n",
       "      <th>2</th>\n",
       "      <td>2020.0</td>\n",
       "      <td>619290.0</td>\n",
       "      <td>890000.0</td>\n",
       "      <td>0.6958</td>\n",
       "      <td>-72.902562</td>\n",
       "      <td>41.790468</td>\n",
       "      <td>2021.0</td>\n",
       "      <td>4.0</td>\n",
       "      <td>0.0</td>\n",
       "      <td>0.0</td>\n",
       "      <td>0.0</td>\n",
       "      <td>0.0</td>\n",
       "      <td>0.0</td>\n",
       "      <td>0.0</td>\n",
       "      <td>1.0</td>\n",
       "      <td>0.0</td>\n",
       "      <td>0.0</td>\n",
       "      <td>0.0</td>\n",
       "    </tr>\n",
       "    <tr>\n",
       "      <th>3</th>\n",
       "      <td>2020.0</td>\n",
       "      <td>862330.0</td>\n",
       "      <td>1447500.0</td>\n",
       "      <td>0.5957</td>\n",
       "      <td>-72.805994</td>\n",
       "      <td>41.797235</td>\n",
       "      <td>2021.0</td>\n",
       "      <td>7.0</td>\n",
       "      <td>0.0</td>\n",
       "      <td>0.0</td>\n",
       "      <td>0.0</td>\n",
       "      <td>0.0</td>\n",
       "      <td>0.0</td>\n",
       "      <td>0.0</td>\n",
       "      <td>1.0</td>\n",
       "      <td>0.0</td>\n",
       "      <td>0.0</td>\n",
       "      <td>0.0</td>\n",
       "    </tr>\n",
       "    <tr>\n",
       "      <th>4</th>\n",
       "      <td>2020.0</td>\n",
       "      <td>847520.0</td>\n",
       "      <td>1250000.0</td>\n",
       "      <td>0.6780</td>\n",
       "      <td>-72.805611</td>\n",
       "      <td>41.796180</td>\n",
       "      <td>2020.0</td>\n",
       "      <td>12.0</td>\n",
       "      <td>0.0</td>\n",
       "      <td>0.0</td>\n",
       "      <td>0.0</td>\n",
       "      <td>0.0</td>\n",
       "      <td>0.0</td>\n",
       "      <td>0.0</td>\n",
       "      <td>1.0</td>\n",
       "      <td>0.0</td>\n",
       "      <td>0.0</td>\n",
       "      <td>0.0</td>\n",
       "    </tr>\n",
       "    <tr>\n",
       "      <th>...</th>\n",
       "      <td>...</td>\n",
       "      <td>...</td>\n",
       "      <td>...</td>\n",
       "      <td>...</td>\n",
       "      <td>...</td>\n",
       "      <td>...</td>\n",
       "      <td>...</td>\n",
       "      <td>...</td>\n",
       "      <td>...</td>\n",
       "      <td>...</td>\n",
       "      <td>...</td>\n",
       "      <td>...</td>\n",
       "      <td>...</td>\n",
       "      <td>...</td>\n",
       "      <td>...</td>\n",
       "      <td>...</td>\n",
       "      <td>...</td>\n",
       "      <td>...</td>\n",
       "    </tr>\n",
       "    <tr>\n",
       "      <th>347783</th>\n",
       "      <td>2019.0</td>\n",
       "      <td>77870.0</td>\n",
       "      <td>112000.0</td>\n",
       "      <td>0.6953</td>\n",
       "      <td>-73.023781</td>\n",
       "      <td>41.552075</td>\n",
       "      <td>2019.0</td>\n",
       "      <td>11.0</td>\n",
       "      <td>0.0</td>\n",
       "      <td>0.0</td>\n",
       "      <td>0.0</td>\n",
       "      <td>0.0</td>\n",
       "      <td>0.0</td>\n",
       "      <td>0.0</td>\n",
       "      <td>0.0</td>\n",
       "      <td>1.0</td>\n",
       "      <td>0.0</td>\n",
       "      <td>0.0</td>\n",
       "    </tr>\n",
       "    <tr>\n",
       "      <th>347784</th>\n",
       "      <td>2019.0</td>\n",
       "      <td>306000.0</td>\n",
       "      <td>456000.0</td>\n",
       "      <td>0.6711</td>\n",
       "      <td>-72.714886</td>\n",
       "      <td>41.656207</td>\n",
       "      <td>2020.0</td>\n",
       "      <td>3.0</td>\n",
       "      <td>0.0</td>\n",
       "      <td>0.0</td>\n",
       "      <td>0.0</td>\n",
       "      <td>0.0</td>\n",
       "      <td>0.0</td>\n",
       "      <td>0.0</td>\n",
       "      <td>1.0</td>\n",
       "      <td>0.0</td>\n",
       "      <td>0.0</td>\n",
       "      <td>0.0</td>\n",
       "    </tr>\n",
       "    <tr>\n",
       "      <th>347785</th>\n",
       "      <td>2019.0</td>\n",
       "      <td>125230.0</td>\n",
       "      <td>246000.0</td>\n",
       "      <td>0.5091</td>\n",
       "      <td>-72.933610</td>\n",
       "      <td>41.359730</td>\n",
       "      <td>2019.0</td>\n",
       "      <td>11.0</td>\n",
       "      <td>0.0</td>\n",
       "      <td>0.0</td>\n",
       "      <td>0.0</td>\n",
       "      <td>0.0</td>\n",
       "      <td>0.0</td>\n",
       "      <td>0.0</td>\n",
       "      <td>1.0</td>\n",
       "      <td>0.0</td>\n",
       "      <td>0.0</td>\n",
       "      <td>0.0</td>\n",
       "    </tr>\n",
       "    <tr>\n",
       "      <th>347786</th>\n",
       "      <td>2019.0</td>\n",
       "      <td>121450.0</td>\n",
       "      <td>210000.0</td>\n",
       "      <td>0.5783</td>\n",
       "      <td>-72.655454</td>\n",
       "      <td>41.933305</td>\n",
       "      <td>2020.0</td>\n",
       "      <td>4.0</td>\n",
       "      <td>0.0</td>\n",
       "      <td>0.0</td>\n",
       "      <td>0.0</td>\n",
       "      <td>0.0</td>\n",
       "      <td>0.0</td>\n",
       "      <td>0.0</td>\n",
       "      <td>1.0</td>\n",
       "      <td>0.0</td>\n",
       "      <td>0.0</td>\n",
       "      <td>0.0</td>\n",
       "    </tr>\n",
       "    <tr>\n",
       "      <th>347787</th>\n",
       "      <td>2019.0</td>\n",
       "      <td>203360.0</td>\n",
       "      <td>280000.0</td>\n",
       "      <td>0.7263</td>\n",
       "      <td>-72.701376</td>\n",
       "      <td>41.582534</td>\n",
       "      <td>2020.0</td>\n",
       "      <td>6.0</td>\n",
       "      <td>0.0</td>\n",
       "      <td>0.0</td>\n",
       "      <td>0.0</td>\n",
       "      <td>0.0</td>\n",
       "      <td>0.0</td>\n",
       "      <td>0.0</td>\n",
       "      <td>1.0</td>\n",
       "      <td>0.0</td>\n",
       "      <td>0.0</td>\n",
       "      <td>0.0</td>\n",
       "    </tr>\n",
       "  </tbody>\n",
       "</table>\n",
       "<p>347788 rows × 18 columns</p>\n",
       "</div>"
      ],
      "text/plain": [
       "        List Year  Assessed Value  Sale Amount  Sales Ratio  Longitude   \n",
       "0          2020.0        253000.0     430000.0       0.5883 -72.207310  \\\n",
       "1          2020.0        130400.0     179900.0       0.7248 -72.875941   \n",
       "2          2020.0        619290.0     890000.0       0.6958 -72.902562   \n",
       "3          2020.0        862330.0    1447500.0       0.5957 -72.805994   \n",
       "4          2020.0        847520.0    1250000.0       0.6780 -72.805611   \n",
       "...           ...             ...          ...          ...        ...   \n",
       "347783     2019.0         77870.0     112000.0       0.6953 -73.023781   \n",
       "347784     2019.0        306000.0     456000.0       0.6711 -72.714886   \n",
       "347785     2019.0        125230.0     246000.0       0.5091 -72.933610   \n",
       "347786     2019.0        121450.0     210000.0       0.5783 -72.655454   \n",
       "347787     2019.0        203360.0     280000.0       0.7263 -72.701376   \n",
       "\n",
       "         Latitude  Year Recorded  Month Recorded  Property Type_Apartments   \n",
       "0       41.917736         2020.0            10.0                       0.0  \\\n",
       "1       41.771014         2021.0             3.0                       0.0   \n",
       "2       41.790468         2021.0             4.0                       0.0   \n",
       "3       41.797235         2021.0             7.0                       0.0   \n",
       "4       41.796180         2020.0            12.0                       0.0   \n",
       "...           ...            ...             ...                       ...   \n",
       "347783  41.552075         2019.0            11.0                       0.0   \n",
       "347784  41.656207         2020.0             3.0                       0.0   \n",
       "347785  41.359730         2019.0            11.0                       0.0   \n",
       "347786  41.933305         2020.0             4.0                       0.0   \n",
       "347787  41.582534         2020.0             6.0                       0.0   \n",
       "\n",
       "        Property Type_Commercial  Property Type_Condo   \n",
       "0                            0.0                  0.0  \\\n",
       "1                            0.0                  1.0   \n",
       "2                            0.0                  0.0   \n",
       "3                            0.0                  0.0   \n",
       "4                            0.0                  0.0   \n",
       "...                          ...                  ...   \n",
       "347783                       0.0                  0.0   \n",
       "347784                       0.0                  0.0   \n",
       "347785                       0.0                  0.0   \n",
       "347786                       0.0                  0.0   \n",
       "347787                       0.0                  0.0   \n",
       "\n",
       "        Property Type_Four Family  Property Type_Industrial   \n",
       "0                             0.0                       0.0  \\\n",
       "1                             0.0                       0.0   \n",
       "2                             0.0                       0.0   \n",
       "3                             0.0                       0.0   \n",
       "4                             0.0                       0.0   \n",
       "...                           ...                       ...   \n",
       "347783                        0.0                       0.0   \n",
       "347784                        0.0                       0.0   \n",
       "347785                        0.0                       0.0   \n",
       "347786                        0.0                       0.0   \n",
       "347787                        0.0                       0.0   \n",
       "\n",
       "        Property Type_Public Utility  Property Type_Single Family   \n",
       "0                                0.0                          1.0  \\\n",
       "1                                0.0                          0.0   \n",
       "2                                0.0                          1.0   \n",
       "3                                0.0                          1.0   \n",
       "4                                0.0                          1.0   \n",
       "...                              ...                          ...   \n",
       "347783                           0.0                          0.0   \n",
       "347784                           0.0                          1.0   \n",
       "347785                           0.0                          1.0   \n",
       "347786                           0.0                          1.0   \n",
       "347787                           0.0                          1.0   \n",
       "\n",
       "        Property Type_Three Family  Property Type_Two Family   \n",
       "0                              0.0                       0.0  \\\n",
       "1                              0.0                       0.0   \n",
       "2                              0.0                       0.0   \n",
       "3                              0.0                       0.0   \n",
       "4                              0.0                       0.0   \n",
       "...                            ...                       ...   \n",
       "347783                         1.0                       0.0   \n",
       "347784                         0.0                       0.0   \n",
       "347785                         0.0                       0.0   \n",
       "347786                         0.0                       0.0   \n",
       "347787                         0.0                       0.0   \n",
       "\n",
       "        Property Type_Vacant Land  \n",
       "0                             0.0  \n",
       "1                             0.0  \n",
       "2                             0.0  \n",
       "3                             0.0  \n",
       "4                             0.0  \n",
       "...                           ...  \n",
       "347783                        0.0  \n",
       "347784                        0.0  \n",
       "347785                        0.0  \n",
       "347786                        0.0  \n",
       "347787                        0.0  \n",
       "\n",
       "[347788 rows x 18 columns]"
      ]
     },
     "execution_count": 145,
     "metadata": {},
     "output_type": "execute_result"
    }
   ],
   "source": [
    "mask_1 = df['Property Type'].value_counts()/df.shape[0] > .05\n",
    "mask_2 = df['Town'].value_counts()/df.shape[0] > .1\n",
    "\n",
    "df= df[df['Property Type'].isin(mask_1.index) & df['Town'].isin(mask_2.index)]\n",
    "\n",
    "df.drop(columns= ['Address', 'Full Address', 'Serial Number', 'Town'], inplace= True) # -> this info is already contained in the longitude and latitude\n",
    "df= pd.get_dummies(df)\n",
    "# get cathegorical features as numbers:\n",
    "df= df.astype(float)\n",
    "df"
   ]
  },
  {
   "attachments": {},
   "cell_type": "markdown",
   "id": "c706aef4",
   "metadata": {},
   "source": [
    "Now, we will define the input feature columns"
   ]
  },
  {
   "cell_type": "code",
   "execution_count": 146,
   "id": "b40b675b",
   "metadata": {},
   "outputs": [
    {
     "data": {
      "text/plain": [
       "['List Year',\n",
       " 'Assessed Value',\n",
       " 'Longitude',\n",
       " 'Latitude',\n",
       " 'Year Recorded',\n",
       " 'Month Recorded',\n",
       " 'Property Type_Apartments',\n",
       " 'Property Type_Commercial',\n",
       " 'Property Type_Condo',\n",
       " 'Property Type_Four Family',\n",
       " 'Property Type_Industrial',\n",
       " 'Property Type_Public Utility',\n",
       " 'Property Type_Single Family',\n",
       " 'Property Type_Three Family',\n",
       " 'Property Type_Two Family',\n",
       " 'Property Type_Vacant Land']"
      ]
     },
     "execution_count": 146,
     "metadata": {},
     "output_type": "execute_result"
    }
   ],
   "source": [
    "x_cols= [col for col in cols if col not in ['Sale Amount', 'Sales Ratio']]\n",
    "x_cols"
   ]
  },
  {
   "attachments": {},
   "cell_type": "markdown",
   "id": "62eccb2e",
   "metadata": {},
   "source": [
    "First, lets perform a shallow grid search with the less important hyperparemters (ej.: reg lambda, reg alpha, optimization algorith, etc):\n",
    "\n",
    "Enlaces de interés: \n",
    "- **[Optimal params for the model are listed here](https://www.analyticsvidhya.com/blog/2016/03/complete-guide-parameter-tuning-xgboost-with-codes-python/#:~:text=The%20three%20main%20hyperparameters%20in,and%20performance%20of%20the%20model.)**\n",
    "- **[Full math description here](https://xgboost.readthedocs.io/en/stable/tutorials/model.html)**"
   ]
  },
  {
   "cell_type": "code",
   "execution_count": 156,
   "id": "8de6253d",
   "metadata": {},
   "outputs": [],
   "source": [
    "from xgboost import XGBRegressor\n",
    "from sklearn.model_selection import GridSearchCV\n",
    "from sklearn.model_selection import train_test_split\n",
    "from sklearn.metrics import mean_absolute_error, r2_score, mean_absolute_percentage_error\n",
    "import matplotlib.pyplot as plt\n",
    "\n",
    "xgb= XGBRegressor(tree_method='gpu_hist') # -> enables GPU\n",
    "\n",
    "# full math description here: https://xgboost.readthedocs.io/en/stable/tutorials/model.html\n",
    "\n",
    "param_grid = {\n",
    "        'min_child_weight': [1, 5, 10], #> min sum of observations required in a child\n",
    "        'gamma': [0.5, 1.5, 5], # -> entropy/loss reduction to to perform a node split in given estimator \n",
    "        'eta' : [.05, .1, .2], # el learning rate de to la vida illo\n",
    "        'subsample': [0.6, 0.8, 1.0], # fraction of observation to train each tree\n",
    "        # 'lambda': [.1, .5, .8], # Regularization lamda term L2\n",
    "        # 'alpha': [0, .5, .8] # Regularization term alpha L1 \n",
    "\n",
    "        }\n",
    "\n",
    "df_train= df.loc[np.random.randint(len(df), size= (1000))]\n",
    "\n",
    "# lets define train and test partitions stratifying in the sell price:\n",
    "X_train, X_test, y_train, y_test = train_test_split(df_train[x_cols], df_train['Sale Amount'], test_size=0.2, random_state=42)\n",
    "# fit the model\n"
   ]
  },
  {
   "attachments": {},
   "cell_type": "markdown",
   "id": "20622fcd",
   "metadata": {},
   "source": [
    "Let´s perform the grid search for the first batch of hyperparemeters:"
   ]
  },
  {
   "cell_type": "code",
   "execution_count": 157,
   "id": "89bb04f0",
   "metadata": {},
   "outputs": [
    {
     "name": "stdout",
     "output_type": "stream",
     "text": [
      "Fitting 5 folds for each of 81 candidates, totalling 405 fits\n"
     ]
    },
    {
     "data": {
      "text/html": [
       "<style>#sk-container-id-2 {color: black;background-color: white;}#sk-container-id-2 pre{padding: 0;}#sk-container-id-2 div.sk-toggleable {background-color: white;}#sk-container-id-2 label.sk-toggleable__label {cursor: pointer;display: block;width: 100%;margin-bottom: 0;padding: 0.3em;box-sizing: border-box;text-align: center;}#sk-container-id-2 label.sk-toggleable__label-arrow:before {content: \"▸\";float: left;margin-right: 0.25em;color: #696969;}#sk-container-id-2 label.sk-toggleable__label-arrow:hover:before {color: black;}#sk-container-id-2 div.sk-estimator:hover label.sk-toggleable__label-arrow:before {color: black;}#sk-container-id-2 div.sk-toggleable__content {max-height: 0;max-width: 0;overflow: hidden;text-align: left;background-color: #f0f8ff;}#sk-container-id-2 div.sk-toggleable__content pre {margin: 0.2em;color: black;border-radius: 0.25em;background-color: #f0f8ff;}#sk-container-id-2 input.sk-toggleable__control:checked~div.sk-toggleable__content {max-height: 200px;max-width: 100%;overflow: auto;}#sk-container-id-2 input.sk-toggleable__control:checked~label.sk-toggleable__label-arrow:before {content: \"▾\";}#sk-container-id-2 div.sk-estimator input.sk-toggleable__control:checked~label.sk-toggleable__label {background-color: #d4ebff;}#sk-container-id-2 div.sk-label input.sk-toggleable__control:checked~label.sk-toggleable__label {background-color: #d4ebff;}#sk-container-id-2 input.sk-hidden--visually {border: 0;clip: rect(1px 1px 1px 1px);clip: rect(1px, 1px, 1px, 1px);height: 1px;margin: -1px;overflow: hidden;padding: 0;position: absolute;width: 1px;}#sk-container-id-2 div.sk-estimator {font-family: monospace;background-color: #f0f8ff;border: 1px dotted black;border-radius: 0.25em;box-sizing: border-box;margin-bottom: 0.5em;}#sk-container-id-2 div.sk-estimator:hover {background-color: #d4ebff;}#sk-container-id-2 div.sk-parallel-item::after {content: \"\";width: 100%;border-bottom: 1px solid gray;flex-grow: 1;}#sk-container-id-2 div.sk-label:hover label.sk-toggleable__label {background-color: #d4ebff;}#sk-container-id-2 div.sk-serial::before {content: \"\";position: absolute;border-left: 1px solid gray;box-sizing: border-box;top: 0;bottom: 0;left: 50%;z-index: 0;}#sk-container-id-2 div.sk-serial {display: flex;flex-direction: column;align-items: center;background-color: white;padding-right: 0.2em;padding-left: 0.2em;position: relative;}#sk-container-id-2 div.sk-item {position: relative;z-index: 1;}#sk-container-id-2 div.sk-parallel {display: flex;align-items: stretch;justify-content: center;background-color: white;position: relative;}#sk-container-id-2 div.sk-item::before, #sk-container-id-2 div.sk-parallel-item::before {content: \"\";position: absolute;border-left: 1px solid gray;box-sizing: border-box;top: 0;bottom: 0;left: 50%;z-index: -1;}#sk-container-id-2 div.sk-parallel-item {display: flex;flex-direction: column;z-index: 1;position: relative;background-color: white;}#sk-container-id-2 div.sk-parallel-item:first-child::after {align-self: flex-end;width: 50%;}#sk-container-id-2 div.sk-parallel-item:last-child::after {align-self: flex-start;width: 50%;}#sk-container-id-2 div.sk-parallel-item:only-child::after {width: 0;}#sk-container-id-2 div.sk-dashed-wrapped {border: 1px dashed gray;margin: 0 0.4em 0.5em 0.4em;box-sizing: border-box;padding-bottom: 0.4em;background-color: white;}#sk-container-id-2 div.sk-label label {font-family: monospace;font-weight: bold;display: inline-block;line-height: 1.2em;}#sk-container-id-2 div.sk-label-container {text-align: center;}#sk-container-id-2 div.sk-container {/* jupyter's `normalize.less` sets `[hidden] { display: none; }` but bootstrap.min.css set `[hidden] { display: none !important; }` so we also need the `!important` here to be able to override the default hidden behavior on the sphinx rendered scikit-learn.org. See: https://github.com/scikit-learn/scikit-learn/issues/21755 */display: inline-block !important;position: relative;}#sk-container-id-2 div.sk-text-repr-fallback {display: none;}</style><div id=\"sk-container-id-2\" class=\"sk-top-container\"><div class=\"sk-text-repr-fallback\"><pre>GridSearchCV(estimator=XGBRegressor(base_score=None, booster=None,\n",
       "                                    callbacks=None, colsample_bylevel=None,\n",
       "                                    colsample_bynode=None,\n",
       "                                    colsample_bytree=None,\n",
       "                                    early_stopping_rounds=None,\n",
       "                                    enable_categorical=False, eval_metric=None,\n",
       "                                    feature_types=None, gamma=None, gpu_id=None,\n",
       "                                    grow_policy=None, importance_type=None,\n",
       "                                    interaction_constraints=None,\n",
       "                                    learning_rate=None, max_bi...\n",
       "                                    max_cat_to_onehot=None, max_delta_step=None,\n",
       "                                    max_depth=None, max_leaves=None,\n",
       "                                    min_child_weight=None, missing=nan,\n",
       "                                    monotone_constraints=None, n_estimators=100,\n",
       "                                    n_jobs=None, num_parallel_tree=None,\n",
       "                                    predictor=None, random_state=None, ...),\n",
       "             param_grid={&#x27;eta&#x27;: [0.05, 0.1, 0.2], &#x27;gamma&#x27;: [0.5, 1.5, 5],\n",
       "                         &#x27;min_child_weight&#x27;: [1, 5, 10],\n",
       "                         &#x27;subsample&#x27;: [0.6, 0.8, 1.0]},\n",
       "             scoring=&#x27;r2&#x27;, verbose=True)</pre><b>In a Jupyter environment, please rerun this cell to show the HTML representation or trust the notebook. <br />On GitHub, the HTML representation is unable to render, please try loading this page with nbviewer.org.</b></div><div class=\"sk-container\" hidden><div class=\"sk-item sk-dashed-wrapped\"><div class=\"sk-label-container\"><div class=\"sk-label sk-toggleable\"><input class=\"sk-toggleable__control sk-hidden--visually\" id=\"sk-estimator-id-4\" type=\"checkbox\" ><label for=\"sk-estimator-id-4\" class=\"sk-toggleable__label sk-toggleable__label-arrow\">GridSearchCV</label><div class=\"sk-toggleable__content\"><pre>GridSearchCV(estimator=XGBRegressor(base_score=None, booster=None,\n",
       "                                    callbacks=None, colsample_bylevel=None,\n",
       "                                    colsample_bynode=None,\n",
       "                                    colsample_bytree=None,\n",
       "                                    early_stopping_rounds=None,\n",
       "                                    enable_categorical=False, eval_metric=None,\n",
       "                                    feature_types=None, gamma=None, gpu_id=None,\n",
       "                                    grow_policy=None, importance_type=None,\n",
       "                                    interaction_constraints=None,\n",
       "                                    learning_rate=None, max_bi...\n",
       "                                    max_cat_to_onehot=None, max_delta_step=None,\n",
       "                                    max_depth=None, max_leaves=None,\n",
       "                                    min_child_weight=None, missing=nan,\n",
       "                                    monotone_constraints=None, n_estimators=100,\n",
       "                                    n_jobs=None, num_parallel_tree=None,\n",
       "                                    predictor=None, random_state=None, ...),\n",
       "             param_grid={&#x27;eta&#x27;: [0.05, 0.1, 0.2], &#x27;gamma&#x27;: [0.5, 1.5, 5],\n",
       "                         &#x27;min_child_weight&#x27;: [1, 5, 10],\n",
       "                         &#x27;subsample&#x27;: [0.6, 0.8, 1.0]},\n",
       "             scoring=&#x27;r2&#x27;, verbose=True)</pre></div></div></div><div class=\"sk-parallel\"><div class=\"sk-parallel-item\"><div class=\"sk-item\"><div class=\"sk-label-container\"><div class=\"sk-label sk-toggleable\"><input class=\"sk-toggleable__control sk-hidden--visually\" id=\"sk-estimator-id-5\" type=\"checkbox\" ><label for=\"sk-estimator-id-5\" class=\"sk-toggleable__label sk-toggleable__label-arrow\">estimator: XGBRegressor</label><div class=\"sk-toggleable__content\"><pre>XGBRegressor(base_score=None, booster=None, callbacks=None,\n",
       "             colsample_bylevel=None, colsample_bynode=None,\n",
       "             colsample_bytree=None, early_stopping_rounds=None,\n",
       "             enable_categorical=False, eval_metric=None, feature_types=None,\n",
       "             gamma=None, gpu_id=None, grow_policy=None, importance_type=None,\n",
       "             interaction_constraints=None, learning_rate=None, max_bin=None,\n",
       "             max_cat_threshold=None, max_cat_to_onehot=None,\n",
       "             max_delta_step=None, max_depth=None, max_leaves=None,\n",
       "             min_child_weight=None, missing=nan, monotone_constraints=None,\n",
       "             n_estimators=100, n_jobs=None, num_parallel_tree=None,\n",
       "             predictor=None, random_state=None, ...)</pre></div></div></div><div class=\"sk-serial\"><div class=\"sk-item\"><div class=\"sk-estimator sk-toggleable\"><input class=\"sk-toggleable__control sk-hidden--visually\" id=\"sk-estimator-id-6\" type=\"checkbox\" ><label for=\"sk-estimator-id-6\" class=\"sk-toggleable__label sk-toggleable__label-arrow\">XGBRegressor</label><div class=\"sk-toggleable__content\"><pre>XGBRegressor(base_score=None, booster=None, callbacks=None,\n",
       "             colsample_bylevel=None, colsample_bynode=None,\n",
       "             colsample_bytree=None, early_stopping_rounds=None,\n",
       "             enable_categorical=False, eval_metric=None, feature_types=None,\n",
       "             gamma=None, gpu_id=None, grow_policy=None, importance_type=None,\n",
       "             interaction_constraints=None, learning_rate=None, max_bin=None,\n",
       "             max_cat_threshold=None, max_cat_to_onehot=None,\n",
       "             max_delta_step=None, max_depth=None, max_leaves=None,\n",
       "             min_child_weight=None, missing=nan, monotone_constraints=None,\n",
       "             n_estimators=100, n_jobs=None, num_parallel_tree=None,\n",
       "             predictor=None, random_state=None, ...)</pre></div></div></div></div></div></div></div></div></div></div>"
      ],
      "text/plain": [
       "GridSearchCV(estimator=XGBRegressor(base_score=None, booster=None,\n",
       "                                    callbacks=None, colsample_bylevel=None,\n",
       "                                    colsample_bynode=None,\n",
       "                                    colsample_bytree=None,\n",
       "                                    early_stopping_rounds=None,\n",
       "                                    enable_categorical=False, eval_metric=None,\n",
       "                                    feature_types=None, gamma=None, gpu_id=None,\n",
       "                                    grow_policy=None, importance_type=None,\n",
       "                                    interaction_constraints=None,\n",
       "                                    learning_rate=None, max_bi...\n",
       "                                    max_cat_to_onehot=None, max_delta_step=None,\n",
       "                                    max_depth=None, max_leaves=None,\n",
       "                                    min_child_weight=None, missing=nan,\n",
       "                                    monotone_constraints=None, n_estimators=100,\n",
       "                                    n_jobs=None, num_parallel_tree=None,\n",
       "                                    predictor=None, random_state=None, ...),\n",
       "             param_grid={'eta': [0.05, 0.1, 0.2], 'gamma': [0.5, 1.5, 5],\n",
       "                         'min_child_weight': [1, 5, 10],\n",
       "                         'subsample': [0.6, 0.8, 1.0]},\n",
       "             scoring='r2', verbose=True)"
      ]
     },
     "execution_count": 157,
     "metadata": {},
     "output_type": "execute_result"
    }
   ],
   "source": [
    "grid_search = GridSearchCV(xgb, param_grid, scoring='r2', verbose= True) #-> we \n",
    "grid_search.fit(X_train, y_train)"
   ]
  },
  {
   "cell_type": "code",
   "execution_count": 159,
   "id": "9bd65b11",
   "metadata": {},
   "outputs": [
    {
     "data": {
      "text/plain": [
       "{'eta': 0.05, 'gamma': 0.5, 'min_child_weight': 1, 'subsample': 0.6}"
      ]
     },
     "execution_count": 159,
     "metadata": {},
     "output_type": "execute_result"
    }
   ],
   "source": [
    "params= grid_search.best_params_\n",
    "params"
   ]
  },
  {
   "cell_type": "code",
   "execution_count": 161,
   "id": "0bbe94b6",
   "metadata": {},
   "outputs": [
    {
     "data": {
      "text/plain": [
       "0.9182535484055716"
      ]
     },
     "execution_count": 161,
     "metadata": {},
     "output_type": "execute_result"
    }
   ],
   "source": [
    "grid_search.best_score_"
   ]
  },
  {
   "attachments": {},
   "cell_type": "markdown",
   "id": "b26cdc4b",
   "metadata": {},
   "source": [
    "**Now, lets find the number of total estimator and max depth tree (It controls the depth of each decision tree in the ensemble), a really important hyperparemeter in xgboost algorithm.**\n",
    "\n",
    "To improve this two key, the concept of learning curves will be used:"
   ]
  },
  {
   "cell_type": "code",
   "execution_count": 207,
   "id": "0553724b",
   "metadata": {},
   "outputs": [],
   "source": [
    "mae, r2, mape= [], [], []\n",
    "range_n_estimators= list(range(50, 2000, 100))\n",
    "for n_estimators in range_n_estimators:\n",
    "        params['n_estimators']= n_estimators\n",
    "        params['tree_method']= 'gpu_hist'\n",
    "        \n",
    "        xgb= XGBRegressor(**params) # -> enables multiple threads in paralell\n",
    "        xgb.fit(X_train, y_train)\n",
    "        pred= xgb.predict(X_test)\n",
    "        # measures:\n",
    "        mae+= [mean_absolute_error(pred, y_test)]\n",
    "        r2+= [r2_score(pred, y_test)]\n",
    "        mape+= [mean_absolute_percentage_error(pred, y_test)]\n",
    "\n"
   ]
  },
  {
   "cell_type": "code",
   "execution_count": 208,
   "id": "253edab4",
   "metadata": {},
   "outputs": [
    {
     "name": "stdout",
     "output_type": "stream",
     "text": [
      " best n_estimator per indicator:\n",
      "\n",
      "R2\n",
      "150\n",
      "\n",
      "mae\n",
      "150\n",
      "\n",
      "mape\n",
      "150\n",
      "\n"
     ]
    },
    {
     "data": {
      "image/png": "[encoded data removed]",
      "text/plain": [
       "<Figure size 640x480 with 1 Axes>"
      ]
     },
     "metadata": {},
     "output_type": "display_data"
    }
   ],
   "source": [
    "%matplotlib inline\n",
    "\n",
    "plt.plot(range_n_estimators, r2, range_n_estimators, mape)\n",
    "plt.legend(['r2', 'mape'])\n",
    "plt.xlabel('n_estimators')\n",
    "plt.ylabel('Perfo indicator')\n",
    "\n",
    "\n",
    "print(f\"\"\" best n_estimator per indicator:\\n\\nR2\n",
    "{range_n_estimators[np.array(r2).argmax()]}\n",
    "\\nmae\n",
    "{range_n_estimators[np.array(mae).argmin()]}\n",
    "\\nmape\n",
    "{range_n_estimators[np.array(mape).argmin()]}\n",
    "\"\"\")\n",
    "params['n_estimators']= 150"
   ]
  },
  {
   "cell_type": "code",
   "execution_count": 209,
   "id": "be5567bf",
   "metadata": {},
   "outputs": [],
   "source": [
    "mae, r2, mape= [], [], []\n",
    "range_n_depth= list(range(3, 15, 2))\n",
    "for max_depth in range_n_depth:\n",
    "        params['max_depth']= max_depth\n",
    "        \n",
    "        xgb= XGBRegressor(**params) # -> enables multiple threads in paralell\n",
    "        xgb.fit(X_train, y_train)\n",
    "        pred= xgb.predict(X_test)\n",
    "        # measures:\n",
    "        mae+= [mean_absolute_error(pred, y_test)]\n",
    "        r2+= [r2_score(pred, y_test)]\n",
    "        mape+= [mean_absolute_percentage_error(pred, y_test)]\n"
   ]
  },
  {
   "cell_type": "code",
   "execution_count": 198,
   "id": "1f2dea35",
   "metadata": {},
   "outputs": [
    {
     "name": "stdout",
     "output_type": "stream",
     "text": [
      " best max_depth per indicator:\n",
      "\n",
      "R2\n",
      "3\n",
      "\n",
      "mae\n",
      "7\n",
      "\n",
      "mape\n",
      "7\n",
      "\n"
     ]
    },
    {
     "data": {
      "image/png": "[encoded data removed]",
      "text/plain": [
       "<Figure size 640x480 with 1 Axes>"
      ]
     },
     "metadata": {},
     "output_type": "display_data"
    }
   ],
   "source": [
    "%matplotlib inline\n",
    "\n",
    "plt.plot(range_n_depth, r2, range_n_depth, mape)\n",
    "plt.legend(['r2', 'mape'])\n",
    "plt.xlabel('max_depth')\n",
    "plt.ylabel('Perfo indicator')\n",
    "\n",
    "\n",
    "\n",
    "print(f\"\"\" best max_depth per indicator:\\n\\nR2\n",
    "{range_n_depth[np.array(r2).argmax()]}\n",
    "\\nmae\n",
    "{range_n_depth[np.array(mae).argmin()]}\n",
    "\\nmape\n",
    "{range_n_depth[np.array(mape).argmin()]}\n",
    "\"\"\")\n",
    "params['max_depth']= 7"
   ]
  },
  {
   "attachments": {},
   "cell_type": "markdown",
   "id": "c36378ae",
   "metadata": {},
   "source": [
    "**Finally, the model importances will be assessed, as observed, the most important feature is the assessed value:**"
   ]
  },
  {
   "cell_type": "code",
   "execution_count": 205,
   "id": "00e76c1a",
   "metadata": {},
   "outputs": [
    {
     "data": {
      "image/png": "[encoded data removed]",
      "text/plain": [
       "<Figure size 2800x1200 with 1 Axes>"
      ]
     },
     "metadata": {},
     "output_type": "display_data"
    }
   ],
   "source": [
    "import seaborn as sns\n",
    "\n",
    "importance_of_var= xgb.feature_importances_\n",
    "df_importances= pd.DataFrame(data= importance_of_var,\n",
    "                            columns= ['Importance'], \n",
    "                             index= X_train.columns)\n",
    "df_importances= df_importances[df_importances['Importance'] > 0.01]\n",
    "\n",
    "\n",
    "\n",
    "plt.figure(figsize= (14, 6), dpi= 200)\n",
    "sns.barplot(data= df_importances.sort_values('Importance'),\n",
    "           x= df_importances.index, y= df_importances['Importance'])\n",
    "plt.xticks(rotation= 90);"
   ]
  }
 ],
 "metadata": {
  "kernelspec": {
   "display_name": "base",
   "language": "python",
   "name": "python3"
  },
  "language_info": {
   "codemirror_mode": {
    "name": "ipython",
    "version": 3
   },
   "file_extension": ".py",
   "mimetype": "text/x-python",
   "name": "python",
   "nbconvert_exporter": "python",
   "pygments_lexer": "ipython3",
   "version": "3.9.16"
  }
 },
 "nbformat": 4,
 "nbformat_minor": 5
}
