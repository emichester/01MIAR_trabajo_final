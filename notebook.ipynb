{
 "cells": [
  {
   "cell_type": "code",
   "execution_count": 2,
   "metadata": {},
   "outputs": [],
   "source": [
    "import pandas as pd\n",
    "import plotly.graph_objects as go\n",
    "import numpy as np\n",
    "import datetime"
   ]
  },
  {
   "cell_type": "code",
   "execution_count": 3,
   "id": "74183496",
   "metadata": {},
   "outputs": [],
   "source": [
    "# # https://catalog.data.gov/dataset/alzheimers-disease-and-healthy-aging-data/resource/b2443e45-68aa-4004-b97a-e62c4c28502f\n",
    "# df= pd.read_csv('https://catalog.data.gov/dataset/real-estate-sales-2001-2018')\n",
    "# display(df)"
   ]
  },
  {
   "cell_type": "code",
   "execution_count": 4,
   "id": "0ff44cec",
   "metadata": {},
   "outputs": [],
   "source": [
    "# df.astype(str).to_parquet(path= 'data_frame.gzip', compression='gzip')\n",
    "df= pd.read_parquet('data_frame.gzip')"
   ]
  },
  {
   "cell_type": "code",
   "execution_count": 5,
   "id": "cf1ee5f1",
   "metadata": {},
   "outputs": [
    {
     "data": {
      "text/html": [
       "<div>\n",
       "<style scoped>\n",
       "    .dataframe tbody tr th:only-of-type {\n",
       "        vertical-align: middle;\n",
       "    }\n",
       "\n",
       "    .dataframe tbody tr th {\n",
       "        vertical-align: top;\n",
       "    }\n",
       "\n",
       "    .dataframe thead th {\n",
       "        text-align: right;\n",
       "    }\n",
       "</style>\n",
       "<table border=\"1\" class=\"dataframe\">\n",
       "  <thead>\n",
       "    <tr style=\"text-align: right;\">\n",
       "      <th></th>\n",
       "      <th>Serial Number</th>\n",
       "      <th>List Year</th>\n",
       "      <th>Date Recorded</th>\n",
       "      <th>Town</th>\n",
       "      <th>Address</th>\n",
       "      <th>Assessed Value</th>\n",
       "      <th>Sale Amount</th>\n",
       "      <th>Sales Ratio</th>\n",
       "      <th>Property Type</th>\n",
       "      <th>Residential Type</th>\n",
       "      <th>Non Use Code</th>\n",
       "      <th>Assessor Remarks</th>\n",
       "      <th>OPM remarks</th>\n",
       "      <th>Location</th>\n",
       "    </tr>\n",
       "  </thead>\n",
       "  <tbody>\n",
       "    <tr>\n",
       "      <th>0</th>\n",
       "      <td>2020177</td>\n",
       "      <td>2020</td>\n",
       "      <td>04/14/2021</td>\n",
       "      <td>Ansonia</td>\n",
       "      <td>323 BEAVER ST</td>\n",
       "      <td>133000.0</td>\n",
       "      <td>248400.0</td>\n",
       "      <td>0.535400</td>\n",
       "      <td>Residential</td>\n",
       "      <td>Single Family</td>\n",
       "      <td>nan</td>\n",
       "      <td>nan</td>\n",
       "      <td>nan</td>\n",
       "      <td>POINT (-73.06822 41.35014)</td>\n",
       "    </tr>\n",
       "    <tr>\n",
       "      <th>1</th>\n",
       "      <td>2020225</td>\n",
       "      <td>2020</td>\n",
       "      <td>05/26/2021</td>\n",
       "      <td>Ansonia</td>\n",
       "      <td>152 JACKSON ST</td>\n",
       "      <td>110500.0</td>\n",
       "      <td>239900.0</td>\n",
       "      <td>0.460600</td>\n",
       "      <td>Residential</td>\n",
       "      <td>Three Family</td>\n",
       "      <td>nan</td>\n",
       "      <td>nan</td>\n",
       "      <td>nan</td>\n",
       "      <td>nan</td>\n",
       "    </tr>\n",
       "    <tr>\n",
       "      <th>2</th>\n",
       "      <td>2020348</td>\n",
       "      <td>2020</td>\n",
       "      <td>09/13/2021</td>\n",
       "      <td>Ansonia</td>\n",
       "      <td>230 WAKELEE AVE</td>\n",
       "      <td>150500.0</td>\n",
       "      <td>325000.0</td>\n",
       "      <td>0.463000</td>\n",
       "      <td>Commercial</td>\n",
       "      <td>nan</td>\n",
       "      <td>nan</td>\n",
       "      <td>nan</td>\n",
       "      <td>nan</td>\n",
       "      <td>nan</td>\n",
       "    </tr>\n",
       "    <tr>\n",
       "      <th>3</th>\n",
       "      <td>2020090</td>\n",
       "      <td>2020</td>\n",
       "      <td>12/14/2020</td>\n",
       "      <td>Ansonia</td>\n",
       "      <td>57 PLATT ST</td>\n",
       "      <td>127400.0</td>\n",
       "      <td>202500.0</td>\n",
       "      <td>0.629100</td>\n",
       "      <td>Residential</td>\n",
       "      <td>Two Family</td>\n",
       "      <td>nan</td>\n",
       "      <td>nan</td>\n",
       "      <td>nan</td>\n",
       "      <td>nan</td>\n",
       "    </tr>\n",
       "    <tr>\n",
       "      <th>4</th>\n",
       "      <td>200500</td>\n",
       "      <td>2020</td>\n",
       "      <td>09/07/2021</td>\n",
       "      <td>Avon</td>\n",
       "      <td>245 NEW ROAD</td>\n",
       "      <td>217640.0</td>\n",
       "      <td>400000.0</td>\n",
       "      <td>0.544100</td>\n",
       "      <td>Residential</td>\n",
       "      <td>Single Family</td>\n",
       "      <td>nan</td>\n",
       "      <td>nan</td>\n",
       "      <td>nan</td>\n",
       "      <td>nan</td>\n",
       "    </tr>\n",
       "    <tr>\n",
       "      <th>...</th>\n",
       "      <td>...</td>\n",
       "      <td>...</td>\n",
       "      <td>...</td>\n",
       "      <td>...</td>\n",
       "      <td>...</td>\n",
       "      <td>...</td>\n",
       "      <td>...</td>\n",
       "      <td>...</td>\n",
       "      <td>...</td>\n",
       "      <td>...</td>\n",
       "      <td>...</td>\n",
       "      <td>...</td>\n",
       "      <td>...</td>\n",
       "      <td>...</td>\n",
       "    </tr>\n",
       "    <tr>\n",
       "      <th>997208</th>\n",
       "      <td>190272</td>\n",
       "      <td>2019</td>\n",
       "      <td>06/24/2020</td>\n",
       "      <td>New London</td>\n",
       "      <td>4 BISHOP CT</td>\n",
       "      <td>60410.0</td>\n",
       "      <td>53100.0</td>\n",
       "      <td>1.137665</td>\n",
       "      <td>Single Family</td>\n",
       "      <td>Single Family</td>\n",
       "      <td>14 - Foreclosure</td>\n",
       "      <td>nan</td>\n",
       "      <td>nan</td>\n",
       "      <td>nan</td>\n",
       "    </tr>\n",
       "    <tr>\n",
       "      <th>997209</th>\n",
       "      <td>190284</td>\n",
       "      <td>2019</td>\n",
       "      <td>11/27/2019</td>\n",
       "      <td>Waterbury</td>\n",
       "      <td>126 PERKINS AVE</td>\n",
       "      <td>68280.0</td>\n",
       "      <td>76000.0</td>\n",
       "      <td>0.898400</td>\n",
       "      <td>Single Family</td>\n",
       "      <td>Single Family</td>\n",
       "      <td>25 - Other</td>\n",
       "      <td>PRIVATE SALE</td>\n",
       "      <td>nan</td>\n",
       "      <td>nan</td>\n",
       "    </tr>\n",
       "    <tr>\n",
       "      <th>997210</th>\n",
       "      <td>190129</td>\n",
       "      <td>2019</td>\n",
       "      <td>04/27/2020</td>\n",
       "      <td>Windsor Locks</td>\n",
       "      <td>19 HATHAWAY ST</td>\n",
       "      <td>121450.0</td>\n",
       "      <td>210000.0</td>\n",
       "      <td>0.578300</td>\n",
       "      <td>Single Family</td>\n",
       "      <td>Single Family</td>\n",
       "      <td>nan</td>\n",
       "      <td>nan</td>\n",
       "      <td>nan</td>\n",
       "      <td>nan</td>\n",
       "    </tr>\n",
       "    <tr>\n",
       "      <th>997211</th>\n",
       "      <td>190504</td>\n",
       "      <td>2019</td>\n",
       "      <td>06/03/2020</td>\n",
       "      <td>Middletown</td>\n",
       "      <td>8 BYSTREK DR</td>\n",
       "      <td>203360.0</td>\n",
       "      <td>280000.0</td>\n",
       "      <td>0.726300</td>\n",
       "      <td>Single Family</td>\n",
       "      <td>Single Family</td>\n",
       "      <td>nan</td>\n",
       "      <td>nan</td>\n",
       "      <td>nan</td>\n",
       "      <td>nan</td>\n",
       "    </tr>\n",
       "    <tr>\n",
       "      <th>997212</th>\n",
       "      <td>190344</td>\n",
       "      <td>2019</td>\n",
       "      <td>12/20/2019</td>\n",
       "      <td>Milford</td>\n",
       "      <td>250 RESEARCH DR</td>\n",
       "      <td>4035970.0</td>\n",
       "      <td>7450000.0</td>\n",
       "      <td>0.541700</td>\n",
       "      <td>nan</td>\n",
       "      <td>nan</td>\n",
       "      <td>nan</td>\n",
       "      <td>nan</td>\n",
       "      <td>nan</td>\n",
       "      <td>nan</td>\n",
       "    </tr>\n",
       "  </tbody>\n",
       "</table>\n",
       "<p>997213 rows × 14 columns</p>\n",
       "</div>"
      ],
      "text/plain": [
       "        Serial Number  List Year Date Recorded           Town   \n",
       "0             2020177       2020    04/14/2021        Ansonia  \\\n",
       "1             2020225       2020    05/26/2021        Ansonia   \n",
       "2             2020348       2020    09/13/2021        Ansonia   \n",
       "3             2020090       2020    12/14/2020        Ansonia   \n",
       "4              200500       2020    09/07/2021           Avon   \n",
       "...               ...        ...           ...            ...   \n",
       "997208         190272       2019    06/24/2020     New London   \n",
       "997209         190284       2019    11/27/2019      Waterbury   \n",
       "997210         190129       2019    04/27/2020  Windsor Locks   \n",
       "997211         190504       2019    06/03/2020     Middletown   \n",
       "997212         190344       2019    12/20/2019        Milford   \n",
       "\n",
       "                Address  Assessed Value  Sale Amount  Sales Ratio   \n",
       "0         323 BEAVER ST        133000.0     248400.0     0.535400  \\\n",
       "1        152 JACKSON ST        110500.0     239900.0     0.460600   \n",
       "2       230 WAKELEE AVE        150500.0     325000.0     0.463000   \n",
       "3           57 PLATT ST        127400.0     202500.0     0.629100   \n",
       "4          245 NEW ROAD        217640.0     400000.0     0.544100   \n",
       "...                 ...             ...          ...          ...   \n",
       "997208      4 BISHOP CT         60410.0      53100.0     1.137665   \n",
       "997209  126 PERKINS AVE         68280.0      76000.0     0.898400   \n",
       "997210   19 HATHAWAY ST        121450.0     210000.0     0.578300   \n",
       "997211     8 BYSTREK DR        203360.0     280000.0     0.726300   \n",
       "997212  250 RESEARCH DR       4035970.0    7450000.0     0.541700   \n",
       "\n",
       "        Property Type Residential Type      Non Use Code Assessor Remarks   \n",
       "0         Residential    Single Family               nan              nan  \\\n",
       "1         Residential     Three Family               nan              nan   \n",
       "2          Commercial              nan               nan              nan   \n",
       "3         Residential       Two Family               nan              nan   \n",
       "4         Residential    Single Family               nan              nan   \n",
       "...               ...              ...               ...              ...   \n",
       "997208  Single Family    Single Family  14 - Foreclosure              nan   \n",
       "997209  Single Family    Single Family        25 - Other     PRIVATE SALE   \n",
       "997210  Single Family    Single Family               nan              nan   \n",
       "997211  Single Family    Single Family               nan              nan   \n",
       "997212            nan              nan               nan              nan   \n",
       "\n",
       "       OPM remarks                    Location  \n",
       "0              nan  POINT (-73.06822 41.35014)  \n",
       "1              nan                         nan  \n",
       "2              nan                         nan  \n",
       "3              nan                         nan  \n",
       "4              nan                         nan  \n",
       "...            ...                         ...  \n",
       "997208         nan                         nan  \n",
       "997209         nan                         nan  \n",
       "997210         nan                         nan  \n",
       "997211         nan                         nan  \n",
       "997212         nan                         nan  \n",
       "\n",
       "[997213 rows x 14 columns]"
      ]
     },
     "execution_count": 5,
     "metadata": {},
     "output_type": "execute_result"
    }
   ],
   "source": [
    "df[['Serial Number', 'List Year']]= df[['Serial Number', 'List Year']].astype(int)\n",
    "df[['Assessed Value', 'Sale Amount', 'Sales Ratio']]= df[['Assessed Value', 'Sale Amount', 'Sales Ratio']].astype(float)\n",
    "# df['Date Recorded']= pd.to_datetime(df['Date Recorded'], format= '%d/%M/%Y')\n",
    "\n",
    "df"
   ]
  },
  {
   "cell_type": "code",
   "execution_count": 6,
   "id": "4c3b9a51",
   "metadata": {},
   "outputs": [
    {
     "name": "stderr",
     "output_type": "stream",
     "text": [
      "C:\\Users\\jmart\\AppData\\Local\\Temp\\ipykernel_11204\\608499965.py:4: SettingWithCopyWarning: \n",
      "A value is trying to be set on a copy of a slice from a DataFrame.\n",
      "Try using .loc[row_indexer,col_indexer] = value instead\n",
      "\n",
      "See the caveats in the documentation: https://pandas.pydata.org/pandas-docs/stable/user_guide/indexing.html#returning-a-view-versus-a-copy\n",
      "  df['year']= df['Date Recorded'].apply(lambda x: x[6:])\n",
      "C:\\Users\\jmart\\AppData\\Local\\Temp\\ipykernel_11204\\608499965.py:5: SettingWithCopyWarning: \n",
      "A value is trying to be set on a copy of a slice from a DataFrame.\n",
      "Try using .loc[row_indexer,col_indexer] = value instead\n",
      "\n",
      "See the caveats in the documentation: https://pandas.pydata.org/pandas-docs/stable/user_guide/indexing.html#returning-a-view-versus-a-copy\n",
      "  df['month']= df['Date Recorded'].apply(lambda x: x[3:5])\n",
      "C:\\Users\\jmart\\AppData\\Local\\Temp\\ipykernel_11204\\608499965.py:6: SettingWithCopyWarning: \n",
      "A value is trying to be set on a copy of a slice from a DataFrame.\n",
      "Try using .loc[row_indexer,col_indexer] = value instead\n",
      "\n",
      "See the caveats in the documentation: https://pandas.pydata.org/pandas-docs/stable/user_guide/indexing.html#returning-a-view-versus-a-copy\n",
      "  df['day']= df['Date Recorded'].apply(lambda x: x[:2])\n"
     ]
    }
   ],
   "source": [
    "df= df[df['Date Recorded'].apply(lambda x: len(x)) == 10]\n",
    "\n",
    "\n",
    "df['year']= df['Date Recorded'].apply(lambda x: x[6:])\n",
    "df['month']= df['Date Recorded'].apply(lambda x: x[3:5])\n",
    "df['day']= df['Date Recorded'].apply(lambda x: x[:2])\n",
    "\n",
    "\n"
   ]
  },
  {
   "cell_type": "code",
   "execution_count": 7,
   "id": "ced83c3d",
   "metadata": {},
   "outputs": [],
   "source": [
    "df= df[(df['month'].astype(int) <= 12) & (df['day'].astype(int) != 0)]\n"
   ]
  },
  {
   "cell_type": "code",
   "execution_count": 8,
   "id": "912d49a6",
   "metadata": {},
   "outputs": [
    {
     "data": {
      "text/html": [
       "<div>\n",
       "<style scoped>\n",
       "    .dataframe tbody tr th:only-of-type {\n",
       "        vertical-align: middle;\n",
       "    }\n",
       "\n",
       "    .dataframe tbody tr th {\n",
       "        vertical-align: top;\n",
       "    }\n",
       "\n",
       "    .dataframe thead th {\n",
       "        text-align: right;\n",
       "    }\n",
       "</style>\n",
       "<table border=\"1\" class=\"dataframe\">\n",
       "  <thead>\n",
       "    <tr style=\"text-align: right;\">\n",
       "      <th></th>\n",
       "      <th>Serial Number</th>\n",
       "      <th>List Year</th>\n",
       "      <th>Date Recorded</th>\n",
       "      <th>Town</th>\n",
       "      <th>Address</th>\n",
       "      <th>Assessed Value</th>\n",
       "      <th>Sale Amount</th>\n",
       "      <th>Sales Ratio</th>\n",
       "      <th>Property Type</th>\n",
       "      <th>Residential Type</th>\n",
       "      <th>Non Use Code</th>\n",
       "      <th>Assessor Remarks</th>\n",
       "      <th>OPM remarks</th>\n",
       "      <th>Location</th>\n",
       "      <th>year</th>\n",
       "      <th>month</th>\n",
       "      <th>day</th>\n",
       "    </tr>\n",
       "  </thead>\n",
       "  <tbody>\n",
       "    <tr>\n",
       "      <th>4</th>\n",
       "      <td>200500</td>\n",
       "      <td>2020</td>\n",
       "      <td>09/07/2021</td>\n",
       "      <td>Avon</td>\n",
       "      <td>245 NEW ROAD</td>\n",
       "      <td>217640.0</td>\n",
       "      <td>400000.0</td>\n",
       "      <td>0.544100</td>\n",
       "      <td>Residential</td>\n",
       "      <td>Single Family</td>\n",
       "      <td>nan</td>\n",
       "      <td>nan</td>\n",
       "      <td>nan</td>\n",
       "      <td>nan</td>\n",
       "      <td>2021</td>\n",
       "      <td>07</td>\n",
       "      <td>09</td>\n",
       "    </tr>\n",
       "    <tr>\n",
       "      <th>6</th>\n",
       "      <td>20058</td>\n",
       "      <td>2020</td>\n",
       "      <td>06/01/2021</td>\n",
       "      <td>Barkhamsted</td>\n",
       "      <td>46 RATLUM MTN RD</td>\n",
       "      <td>203530.0</td>\n",
       "      <td>415000.0</td>\n",
       "      <td>0.490434</td>\n",
       "      <td>Residential</td>\n",
       "      <td>Single Family</td>\n",
       "      <td>nan</td>\n",
       "      <td>2003 COLONIAL, 2140 SFLA, 2.99 AC</td>\n",
       "      <td>nan</td>\n",
       "      <td>nan</td>\n",
       "      <td>2021</td>\n",
       "      <td>01</td>\n",
       "      <td>06</td>\n",
       "    </tr>\n",
       "    <tr>\n",
       "      <th>9</th>\n",
       "      <td>2020360</td>\n",
       "      <td>2020</td>\n",
       "      <td>08/10/2021</td>\n",
       "      <td>Berlin</td>\n",
       "      <td>94 PERCIVAL AVE</td>\n",
       "      <td>140600.0</td>\n",
       "      <td>190790.0</td>\n",
       "      <td>0.736900</td>\n",
       "      <td>Residential</td>\n",
       "      <td>Single Family</td>\n",
       "      <td>nan</td>\n",
       "      <td>nan</td>\n",
       "      <td>nan</td>\n",
       "      <td>nan</td>\n",
       "      <td>2021</td>\n",
       "      <td>10</td>\n",
       "      <td>08</td>\n",
       "    </tr>\n",
       "    <tr>\n",
       "      <th>15</th>\n",
       "      <td>20062</td>\n",
       "      <td>2020</td>\n",
       "      <td>05/10/2021</td>\n",
       "      <td>Bolton</td>\n",
       "      <td>39 STONEHEDGE LN</td>\n",
       "      <td>189400.0</td>\n",
       "      <td>273750.0</td>\n",
       "      <td>0.691800</td>\n",
       "      <td>Residential</td>\n",
       "      <td>Single Family</td>\n",
       "      <td>nan</td>\n",
       "      <td>nan</td>\n",
       "      <td>nan</td>\n",
       "      <td>nan</td>\n",
       "      <td>2021</td>\n",
       "      <td>10</td>\n",
       "      <td>05</td>\n",
       "    </tr>\n",
       "    <tr>\n",
       "      <th>17</th>\n",
       "      <td>200400</td>\n",
       "      <td>2020</td>\n",
       "      <td>04/08/2021</td>\n",
       "      <td>Branford</td>\n",
       "      <td>460 MAIN ST</td>\n",
       "      <td>180500.0</td>\n",
       "      <td>355000.0</td>\n",
       "      <td>0.508400</td>\n",
       "      <td>Residential</td>\n",
       "      <td>Two Family</td>\n",
       "      <td>nan</td>\n",
       "      <td>nan</td>\n",
       "      <td>nan</td>\n",
       "      <td>nan</td>\n",
       "      <td>2021</td>\n",
       "      <td>08</td>\n",
       "      <td>04</td>\n",
       "    </tr>\n",
       "    <tr>\n",
       "      <th>...</th>\n",
       "      <td>...</td>\n",
       "      <td>...</td>\n",
       "      <td>...</td>\n",
       "      <td>...</td>\n",
       "      <td>...</td>\n",
       "      <td>...</td>\n",
       "      <td>...</td>\n",
       "      <td>...</td>\n",
       "      <td>...</td>\n",
       "      <td>...</td>\n",
       "      <td>...</td>\n",
       "      <td>...</td>\n",
       "      <td>...</td>\n",
       "      <td>...</td>\n",
       "      <td>...</td>\n",
       "      <td>...</td>\n",
       "      <td>...</td>\n",
       "    </tr>\n",
       "    <tr>\n",
       "      <th>997197</th>\n",
       "      <td>190310</td>\n",
       "      <td>2019</td>\n",
       "      <td>06/04/2020</td>\n",
       "      <td>Westport</td>\n",
       "      <td>11 FRAGRANT PINES COURT</td>\n",
       "      <td>410300.0</td>\n",
       "      <td>722000.0</td>\n",
       "      <td>0.568300</td>\n",
       "      <td>Single Family</td>\n",
       "      <td>Single Family</td>\n",
       "      <td>nan</td>\n",
       "      <td>nan</td>\n",
       "      <td>nan</td>\n",
       "      <td>nan</td>\n",
       "      <td>2020</td>\n",
       "      <td>04</td>\n",
       "      <td>06</td>\n",
       "    </tr>\n",
       "    <tr>\n",
       "      <th>997199</th>\n",
       "      <td>190365</td>\n",
       "      <td>2019</td>\n",
       "      <td>02/10/2020</td>\n",
       "      <td>West Hartford</td>\n",
       "      <td>191 HUNTER DRIVE</td>\n",
       "      <td>315420.0</td>\n",
       "      <td>380000.0</td>\n",
       "      <td>0.830100</td>\n",
       "      <td>Single Family</td>\n",
       "      <td>Single Family</td>\n",
       "      <td>nan</td>\n",
       "      <td>nan</td>\n",
       "      <td>nan</td>\n",
       "      <td>nan</td>\n",
       "      <td>2020</td>\n",
       "      <td>10</td>\n",
       "      <td>02</td>\n",
       "    </tr>\n",
       "    <tr>\n",
       "      <th>997205</th>\n",
       "      <td>190161</td>\n",
       "      <td>2019</td>\n",
       "      <td>03/02/2020</td>\n",
       "      <td>Newington</td>\n",
       "      <td>22 ROCKLEDGE DR</td>\n",
       "      <td>306000.0</td>\n",
       "      <td>456000.0</td>\n",
       "      <td>0.671100</td>\n",
       "      <td>Single Family</td>\n",
       "      <td>Single Family</td>\n",
       "      <td>nan</td>\n",
       "      <td>nan</td>\n",
       "      <td>nan</td>\n",
       "      <td>nan</td>\n",
       "      <td>2020</td>\n",
       "      <td>02</td>\n",
       "      <td>03</td>\n",
       "    </tr>\n",
       "    <tr>\n",
       "      <th>997207</th>\n",
       "      <td>190272</td>\n",
       "      <td>2019</td>\n",
       "      <td>08/03/2020</td>\n",
       "      <td>Wilton</td>\n",
       "      <td>145 WHIPSTICK RD</td>\n",
       "      <td>681870.0</td>\n",
       "      <td>1134708.0</td>\n",
       "      <td>0.600900</td>\n",
       "      <td>Single Family</td>\n",
       "      <td>Single Family</td>\n",
       "      <td>25 - Other</td>\n",
       "      <td>nan</td>\n",
       "      <td>PER MLS CLOSING PRICE = $1,145,000</td>\n",
       "      <td>nan</td>\n",
       "      <td>2020</td>\n",
       "      <td>03</td>\n",
       "      <td>08</td>\n",
       "    </tr>\n",
       "    <tr>\n",
       "      <th>997211</th>\n",
       "      <td>190504</td>\n",
       "      <td>2019</td>\n",
       "      <td>06/03/2020</td>\n",
       "      <td>Middletown</td>\n",
       "      <td>8 BYSTREK DR</td>\n",
       "      <td>203360.0</td>\n",
       "      <td>280000.0</td>\n",
       "      <td>0.726300</td>\n",
       "      <td>Single Family</td>\n",
       "      <td>Single Family</td>\n",
       "      <td>nan</td>\n",
       "      <td>nan</td>\n",
       "      <td>nan</td>\n",
       "      <td>nan</td>\n",
       "      <td>2020</td>\n",
       "      <td>03</td>\n",
       "      <td>06</td>\n",
       "    </tr>\n",
       "  </tbody>\n",
       "</table>\n",
       "<p>385643 rows × 17 columns</p>\n",
       "</div>"
      ],
      "text/plain": [
       "        Serial Number  List Year Date Recorded           Town   \n",
       "4              200500       2020    09/07/2021           Avon  \\\n",
       "6               20058       2020    06/01/2021    Barkhamsted   \n",
       "9             2020360       2020    08/10/2021         Berlin   \n",
       "15              20062       2020    05/10/2021         Bolton   \n",
       "17             200400       2020    04/08/2021       Branford   \n",
       "...               ...        ...           ...            ...   \n",
       "997197         190310       2019    06/04/2020       Westport   \n",
       "997199         190365       2019    02/10/2020  West Hartford   \n",
       "997205         190161       2019    03/02/2020      Newington   \n",
       "997207         190272       2019    08/03/2020         Wilton   \n",
       "997211         190504       2019    06/03/2020     Middletown   \n",
       "\n",
       "                        Address  Assessed Value  Sale Amount  Sales Ratio   \n",
       "4                  245 NEW ROAD        217640.0     400000.0     0.544100  \\\n",
       "6              46 RATLUM MTN RD        203530.0     415000.0     0.490434   \n",
       "9               94 PERCIVAL AVE        140600.0     190790.0     0.736900   \n",
       "15             39 STONEHEDGE LN        189400.0     273750.0     0.691800   \n",
       "17                  460 MAIN ST        180500.0     355000.0     0.508400   \n",
       "...                         ...             ...          ...          ...   \n",
       "997197  11 FRAGRANT PINES COURT        410300.0     722000.0     0.568300   \n",
       "997199         191 HUNTER DRIVE        315420.0     380000.0     0.830100   \n",
       "997205          22 ROCKLEDGE DR        306000.0     456000.0     0.671100   \n",
       "997207         145 WHIPSTICK RD        681870.0    1134708.0     0.600900   \n",
       "997211             8 BYSTREK DR        203360.0     280000.0     0.726300   \n",
       "\n",
       "        Property Type Residential Type Non Use Code   \n",
       "4         Residential    Single Family          nan  \\\n",
       "6         Residential    Single Family          nan   \n",
       "9         Residential    Single Family          nan   \n",
       "15        Residential    Single Family          nan   \n",
       "17        Residential       Two Family          nan   \n",
       "...               ...              ...          ...   \n",
       "997197  Single Family    Single Family          nan   \n",
       "997199  Single Family    Single Family          nan   \n",
       "997205  Single Family    Single Family          nan   \n",
       "997207  Single Family    Single Family   25 - Other   \n",
       "997211  Single Family    Single Family          nan   \n",
       "\n",
       "                         Assessor Remarks                         OPM remarks   \n",
       "4                                     nan                                 nan  \\\n",
       "6       2003 COLONIAL, 2140 SFLA, 2.99 AC                                 nan   \n",
       "9                                     nan                                 nan   \n",
       "15                                    nan                                 nan   \n",
       "17                                    nan                                 nan   \n",
       "...                                   ...                                 ...   \n",
       "997197                                nan                                 nan   \n",
       "997199                                nan                                 nan   \n",
       "997205                                nan                                 nan   \n",
       "997207                                nan  PER MLS CLOSING PRICE = $1,145,000   \n",
       "997211                                nan                                 nan   \n",
       "\n",
       "       Location  year month day  \n",
       "4           nan  2021    07  09  \n",
       "6           nan  2021    01  06  \n",
       "9           nan  2021    10  08  \n",
       "15          nan  2021    10  05  \n",
       "17          nan  2021    08  04  \n",
       "...         ...   ...   ...  ..  \n",
       "997197      nan  2020    04  06  \n",
       "997199      nan  2020    10  02  \n",
       "997205      nan  2020    02  03  \n",
       "997207      nan  2020    03  08  \n",
       "997211      nan  2020    03  06  \n",
       "\n",
       "[385643 rows x 17 columns]"
      ]
     },
     "execution_count": 8,
     "metadata": {},
     "output_type": "execute_result"
    }
   ],
   "source": [
    "df"
   ]
  },
  {
   "cell_type": "code",
   "execution_count": 41,
   "id": "f86cf742",
   "metadata": {},
   "outputs": [
    {
     "data": {
      "text/plain": [
       "4         0\n",
       "6         0\n",
       "9         0\n",
       "15        0\n",
       "17        0\n",
       "         ..\n",
       "997197    0\n",
       "997199    0\n",
       "997205    0\n",
       "997207    1\n",
       "997211    0\n",
       "Name: is_weekend, Length: 385643, dtype: int64"
      ]
     },
     "execution_count": 41,
     "metadata": {},
     "output_type": "execute_result"
    }
   ],
   "source": [
    "df['is_weekend']= df[['year', 'month', 'day']].astype(int).apply(lambda x: datetime.date(*x.values.tolist()).weekday(), axis=1)\n",
    "df['is_weekend']= df['is_weekend'].apply(lambda x: 1 if x in (6, 7) else 0)\n",
    "df['is_weekend']"
   ]
  },
  {
   "cell_type": "code",
   "execution_count": 39,
   "id": "c87fcdd6",
   "metadata": {},
   "outputs": [
    {
     "data": {
      "text/plain": [
       "4         4\n",
       "6         2\n",
       "9         4\n",
       "15        1\n",
       "17        2\n",
       "         ..\n",
       "997197    0\n",
       "997199    4\n",
       "997205    0\n",
       "997207    6\n",
       "997211    4\n",
       "Name: is_weekend, Length: 385643, dtype: int64"
      ]
     },
     "execution_count": 39,
     "metadata": {},
     "output_type": "execute_result"
    }
   ],
   "source": [
    "df['is_weekend']"
   ]
  },
  {
   "cell_type": "code",
   "execution_count": 10,
   "id": "38c931f9",
   "metadata": {},
   "outputs": [
    {
     "data": {
      "text/plain": [
       "4         4\n",
       "6         2\n",
       "9         4\n",
       "15        1\n",
       "17        2\n",
       "         ..\n",
       "997197    0\n",
       "997199    4\n",
       "997205    0\n",
       "997207    6\n",
       "997211    4\n",
       "Name: is_weekend, Length: 385643, dtype: int64"
      ]
     },
     "execution_count": 10,
     "metadata": {},
     "output_type": "execute_result"
    }
   ],
   "source": [
    "df['is_weekend']"
   ]
  },
  {
   "cell_type": "code",
   "execution_count": 12,
   "id": "31a59187",
   "metadata": {},
   "outputs": [
    {
     "data": {
      "text/html": [
       "<div>\n",
       "<style scoped>\n",
       "    .dataframe tbody tr th:only-of-type {\n",
       "        vertical-align: middle;\n",
       "    }\n",
       "\n",
       "    .dataframe tbody tr th {\n",
       "        vertical-align: top;\n",
       "    }\n",
       "\n",
       "    .dataframe thead th {\n",
       "        text-align: right;\n",
       "    }\n",
       "</style>\n",
       "<table border=\"1\" class=\"dataframe\">\n",
       "  <thead>\n",
       "    <tr style=\"text-align: right;\">\n",
       "      <th></th>\n",
       "      <th>Serial Number</th>\n",
       "      <th>List Year</th>\n",
       "      <th>Assessed Value</th>\n",
       "      <th>Sale Amount</th>\n",
       "      <th>Sales Ratio</th>\n",
       "      <th>is_weekend</th>\n",
       "    </tr>\n",
       "  </thead>\n",
       "  <tbody>\n",
       "    <tr>\n",
       "      <th>Serial Number</th>\n",
       "      <td>1.000000</td>\n",
       "      <td>0.086949</td>\n",
       "      <td>-0.001450</td>\n",
       "      <td>0.001049</td>\n",
       "      <td>-0.000375</td>\n",
       "      <td>-0.002949</td>\n",
       "    </tr>\n",
       "    <tr>\n",
       "      <th>List Year</th>\n",
       "      <td>0.086949</td>\n",
       "      <td>1.000000</td>\n",
       "      <td>0.034909</td>\n",
       "      <td>0.020230</td>\n",
       "      <td>-0.004364</td>\n",
       "      <td>-0.012982</td>\n",
       "    </tr>\n",
       "    <tr>\n",
       "      <th>Assessed Value</th>\n",
       "      <td>-0.001450</td>\n",
       "      <td>0.034909</td>\n",
       "      <td>1.000000</td>\n",
       "      <td>0.348077</td>\n",
       "      <td>0.006065</td>\n",
       "      <td>0.001425</td>\n",
       "    </tr>\n",
       "    <tr>\n",
       "      <th>Sale Amount</th>\n",
       "      <td>0.001049</td>\n",
       "      <td>0.020230</td>\n",
       "      <td>0.348077</td>\n",
       "      <td>1.000000</td>\n",
       "      <td>-0.000993</td>\n",
       "      <td>0.006154</td>\n",
       "    </tr>\n",
       "    <tr>\n",
       "      <th>Sales Ratio</th>\n",
       "      <td>-0.000375</td>\n",
       "      <td>-0.004364</td>\n",
       "      <td>0.006065</td>\n",
       "      <td>-0.000993</td>\n",
       "      <td>1.000000</td>\n",
       "      <td>0.002754</td>\n",
       "    </tr>\n",
       "    <tr>\n",
       "      <th>is_weekend</th>\n",
       "      <td>-0.002949</td>\n",
       "      <td>-0.012982</td>\n",
       "      <td>0.001425</td>\n",
       "      <td>0.006154</td>\n",
       "      <td>0.002754</td>\n",
       "      <td>1.000000</td>\n",
       "    </tr>\n",
       "  </tbody>\n",
       "</table>\n",
       "</div>"
      ],
      "text/plain": [
       "                Serial Number  List Year  Assessed Value  Sale Amount   \n",
       "Serial Number        1.000000   0.086949       -0.001450     0.001049  \\\n",
       "List Year            0.086949   1.000000        0.034909     0.020230   \n",
       "Assessed Value      -0.001450   0.034909        1.000000     0.348077   \n",
       "Sale Amount          0.001049   0.020230        0.348077     1.000000   \n",
       "Sales Ratio         -0.000375  -0.004364        0.006065    -0.000993   \n",
       "is_weekend          -0.002949  -0.012982        0.001425     0.006154   \n",
       "\n",
       "                Sales Ratio  is_weekend  \n",
       "Serial Number     -0.000375   -0.002949  \n",
       "List Year         -0.004364   -0.012982  \n",
       "Assessed Value     0.006065    0.001425  \n",
       "Sale Amount       -0.000993    0.006154  \n",
       "Sales Ratio        1.000000    0.002754  \n",
       "is_weekend         0.002754    1.000000  "
      ]
     },
     "execution_count": 12,
     "metadata": {},
     "output_type": "execute_result"
    }
   ],
   "source": [
    "df.corr(numeric_only= True)"
   ]
  },
  {
   "cell_type": "code",
   "execution_count": 13,
   "id": "934c03ad",
   "metadata": {},
   "outputs": [],
   "source": [
    "df['year_and_month']= df['year'] + '/' + df['month']"
   ]
  },
  {
   "cell_type": "code",
   "execution_count": 14,
   "id": "1e929a03",
   "metadata": {},
   "outputs": [
    {
     "data": {
      "text/plain": [
       "4         <class 'float'>\n",
       "6         <class 'float'>\n",
       "9         <class 'float'>\n",
       "15        <class 'float'>\n",
       "17        <class 'float'>\n",
       "               ...       \n",
       "997197    <class 'float'>\n",
       "997199    <class 'float'>\n",
       "997205    <class 'float'>\n",
       "997207    <class 'float'>\n",
       "997211    <class 'float'>\n",
       "Name: Sale Amount, Length: 385643, dtype: object"
      ]
     },
     "execution_count": 14,
     "metadata": {},
     "output_type": "execute_result"
    }
   ],
   "source": [
    "df['Sale Amount'].apply(lambda x: type(x))"
   ]
  },
  {
   "cell_type": "code",
   "execution_count": 15,
   "id": "3c93434e",
   "metadata": {},
   "outputs": [],
   "source": [
    "df_sales_stat= pd.DataFrame(df[['year_and_month', 'Assessed Value']].groupby('year_and_month').mean()['Assessed Value'])\n"
   ]
  },
  {
   "cell_type": "code",
   "execution_count": 16,
   "id": "193f336b",
   "metadata": {},
   "outputs": [
    {
     "data": {
      "text/plain": [
       "Index(['Serial Number', 'List Year', 'Date Recorded', 'Town', 'Address',\n",
       "       'Assessed Value', 'Sale Amount', 'Sales Ratio', 'Property Type',\n",
       "       'Residential Type', 'Non Use Code', 'Assessor Remarks', 'OPM remarks',\n",
       "       'Location', 'year', 'month', 'day', 'is_weekend', 'year_and_month'],\n",
       "      dtype='object')"
      ]
     },
     "execution_count": 16,
     "metadata": {},
     "output_type": "execute_result"
    }
   ],
   "source": [
    "df.columns"
   ]
  },
  {
   "cell_type": "code",
   "execution_count": 17,
   "id": "020a57f4",
   "metadata": {},
   "outputs": [
    {
     "data": {
      "application/vnd.plotly.v1+json": {
       "config": {
        "plotlyServerURL": "https://plot.ly"
       },
       "data": [
        {
         "mode": "markers+lines",
         "type": "scatter",
         "x": [
          "1999/05",
          "2001/01",
          "2001/02",
          "2001/03",
          "2001/04",
          "2001/05",
          "2001/06",
          "2001/07",
          "2001/08",
          "2001/09",
          "2001/10",
          "2001/11",
          "2001/12",
          "2002/01",
          "2002/02",
          "2002/03",
          "2002/04",
          "2002/05",
          "2002/06",
          "2002/07",
          "2002/08",
          "2002/09",
          "2002/10",
          "2002/11",
          "2002/12",
          "2003/01",
          "2003/02",
          "2003/03",
          "2003/04",
          "2003/05",
          "2003/06",
          "2003/07",
          "2003/08",
          "2003/09",
          "2003/10",
          "2003/11",
          "2003/12",
          "2004/01",
          "2004/02",
          "2004/03",
          "2004/04",
          "2004/05",
          "2004/06",
          "2004/07",
          "2004/08",
          "2004/09",
          "2004/10",
          "2004/11",
          "2004/12",
          "2005/01",
          "2005/02",
          "2005/03",
          "2005/04",
          "2005/05",
          "2005/06",
          "2005/07",
          "2005/08",
          "2005/09",
          "2005/10",
          "2005/11",
          "2005/12",
          "2006/01",
          "2006/02",
          "2006/03",
          "2006/04",
          "2006/05",
          "2006/06",
          "2006/07",
          "2006/08",
          "2006/09",
          "2006/10",
          "2006/11",
          "2006/12",
          "2007/01",
          "2007/02",
          "2007/03",
          "2007/04",
          "2007/05",
          "2007/06",
          "2007/07",
          "2007/08",
          "2007/09",
          "2007/10",
          "2007/11",
          "2007/12",
          "2008/01",
          "2008/02",
          "2008/03",
          "2008/04",
          "2008/05",
          "2008/06",
          "2008/07",
          "2008/08",
          "2008/09",
          "2008/10",
          "2008/11",
          "2008/12",
          "2009/01",
          "2009/02",
          "2009/03",
          "2009/04",
          "2009/05",
          "2009/06",
          "2009/07",
          "2009/08",
          "2009/09",
          "2009/10",
          "2009/11",
          "2009/12",
          "2010/01",
          "2010/02",
          "2010/03",
          "2010/04",
          "2010/05",
          "2010/06",
          "2010/07",
          "2010/08",
          "2010/09",
          "2010/10",
          "2010/11",
          "2010/12",
          "2011/01",
          "2011/02",
          "2011/03",
          "2011/04",
          "2011/05",
          "2011/06",
          "2011/07",
          "2011/08",
          "2011/09",
          "2011/10",
          "2011/11",
          "2011/12",
          "2012/01",
          "2012/02",
          "2012/03",
          "2012/04",
          "2012/05",
          "2012/06",
          "2012/07",
          "2012/08",
          "2012/09",
          "2012/10",
          "2012/11",
          "2012/12",
          "2013/01",
          "2013/02",
          "2013/03",
          "2013/04",
          "2013/05",
          "2013/06",
          "2013/07",
          "2013/08",
          "2013/09",
          "2013/10",
          "2013/11",
          "2013/12",
          "2014/01",
          "2014/02",
          "2014/03",
          "2014/04",
          "2014/05",
          "2014/06",
          "2014/07",
          "2014/08",
          "2014/09",
          "2014/10",
          "2014/11",
          "2014/12",
          "2015/01",
          "2015/02",
          "2015/03",
          "2015/04",
          "2015/05",
          "2015/06",
          "2015/07",
          "2015/08",
          "2015/09",
          "2015/10",
          "2015/11",
          "2015/12",
          "2016/01",
          "2016/02",
          "2016/03",
          "2016/04",
          "2016/05",
          "2016/06",
          "2016/07",
          "2016/08",
          "2016/09",
          "2016/10",
          "2016/11",
          "2016/12",
          "2017/01",
          "2017/02",
          "2017/03",
          "2017/04",
          "2017/05",
          "2017/06",
          "2017/07",
          "2017/08",
          "2017/09",
          "2017/10",
          "2017/11",
          "2017/12",
          "2018/01",
          "2018/02",
          "2018/03",
          "2018/04",
          "2018/05",
          "2018/06",
          "2018/07",
          "2018/08",
          "2018/09",
          "2018/10",
          "2018/11",
          "2018/12",
          "2019/01",
          "2019/02",
          "2019/03",
          "2019/04",
          "2019/05",
          "2019/06",
          "2019/07",
          "2019/08",
          "2019/09",
          "2019/10",
          "2019/11",
          "2019/12",
          "2020/01",
          "2020/02",
          "2020/03",
          "2020/04",
          "2020/05",
          "2020/06",
          "2020/07",
          "2020/08",
          "2020/09",
          "2020/10",
          "2020/11",
          "2020/12",
          "2021/01",
          "2021/02",
          "2021/03",
          "2021/04",
          "2021/05",
          "2021/06",
          "2021/07",
          "2021/08",
          "2021/09",
          "2021/10",
          "2021/11",
          "2021/12"
         ],
         "y": [
          46690,
          116198.96313364056,
          129475.75,
          114584.15323645971,
          132130.70544554456,
          123287.33499170812,
          163979.74404761905,
          132256.0353982301,
          156208.37588652482,
          135700.1171875,
          129488.82633053222,
          135500.80626780627,
          140379.13896457767,
          135310.62575266327,
          166714.72866817156,
          161598.3895944285,
          146347.63120229007,
          139216.9827053737,
          139389.89100126742,
          146387.05053380784,
          166930.4078862314,
          127932.02590320382,
          158938.6267507003,
          140608.11304870716,
          178461.39154411765,
          176350.13964742483,
          195492.3222308288,
          180737.59731543623,
          207717.52329098608,
          166352.32232496698,
          217584.84604105572,
          168743.4482984293,
          165167.96864111497,
          171495.35223245926,
          160542.64610011643,
          225105.12254570075,
          199443.77607585705,
          199093.88262282548,
          194622.94709677418,
          201461.3213367609,
          220299.9623655914,
          216869.78277153557,
          163013.85313615503,
          213492.3727319855,
          181949.24908088235,
          188178.05876731963,
          228917.0203862661,
          175400.0979547901,
          185176.43673276677,
          202482.77872795297,
          188893.3619883041,
          218933.45836298933,
          181197.39806234205,
          227735.56307129798,
          172646.30812064966,
          226930.04647499014,
          242867.621253406,
          242953.3695047301,
          169845.46808510637,
          194951.08190954773,
          178768.9064983637,
          195204.86572925284,
          218337.48498498497,
          204358.40734557595,
          282625.8488612836,
          213162.5320275278,
          197969.54617676267,
          315213.6959418534,
          248856.61549295776,
          202421.80883472963,
          210887.47881899873,
          208301.72662798196,
          211492.2959945689,
          298810.70547945204,
          378847.38771518,
          336430.74774774775,
          411205.7039187228,
          410492.3563432836,
          416678.44314079423,
          355988.86225895316,
          373532.1952479339,
          319219.7971014493,
          347612.62468931236,
          361217.91694915254,
          504550.2413793103,
          298541.2505319149,
          347266.60754017305,
          261455.70983050848,
          361781.96088888886,
          319203.3152654867,
          255749.11170212767,
          375820.4486373166,
          353511.0904572565,
          257150.0348387097,
          313678.4167507568,
          456623.4826839827,
          285822.3233333333,
          279209.6576980568,
          248367.78634577602,
          295899.5476973684,
          299404.98642533936,
          234362.3886310905,
          251409.22685656155,
          443107.3725,
          291536.0957207207,
          254723.13580246913,
          284187.4705882353,
          226548.67486338798,
          259692.40084985836,
          319250.34359341447,
          351230.9029066172,
          316759.8324407039,
          402115.84256816184,
          450188.49796334014,
          431982.30372807017,
          424833.9192200557,
          368403.9925496689,
          308400.8430404738,
          309953.1569595262,
          266584.63328631874,
          293187.24377682403,
          300274.83987761347,
          382174.9444918873,
          298830.1557788945,
          375331.32104637334,
          337693.4387254902,
          389616.1984036488,
          369750.2623426912,
          277243.0966029724,
          380546.20106524637,
          318665.42459736456,
          402900.16083916085,
          306051.75,
          473611.6856772521,
          353447.33053221286,
          485386.66638152266,
          398972.8606557377,
          354227.55383211677,
          509735.59367945825,
          455705.66242774564,
          359931.3488372093,
          297222.85908141965,
          431541.1517467249,
          359489.40265486727,
          289531.07308584685,
          374900.8452157598,
          361008.47439544805,
          338832.7922437673,
          407056.3135338346,
          397784.75855689176,
          347966.0888429752,
          309157.9686147186,
          428312.2529989095,
          413991.60731021554,
          588023.665634675,
          385195.0691943128,
          407434.8616932104,
          268761.8197706172,
          274404.5118507312,
          300341.736697751,
          315634.6275468623,
          349914.47708894877,
          353147.68333333335,
          287056.6825531915,
          367502.7885462555,
          271305.676199262,
          324463.29907209135,
          378659.1562216167,
          276542.0026041667,
          262814.35727932747,
          272088.35986307234,
          316457.65944997076,
          268560.3589918256,
          363151.61344537814,
          421088.6178299931,
          304929.3552123552,
          270979.6987951807,
          315705.7696929239,
          262835.4890945142,
          308764.1107110711,
          323204.05574043264,
          277915.8360170884,
          310640.7826330532,
          243785.71218795888,
          231142.18433931484,
          247689.91180866965,
          544072.65,
          383480.20238095237,
          297092.9633507853,
          294285.8901601831,
          255258.6601520087,
          260550.09486447932,
          296351.19267299864,
          294108.4265329734,
          362508.5521143538,
          335719.12884411454,
          311317.21393998066,
          280586.3192429022,
          278383.39640162507,
          366988.05162659124,
          342396.08532695373,
          244487.43366336633,
          248658.37491289197,
          288190.2757255937,
          314899.1008339651,
          315645.2085287846,
          319095.9594827586,
          342997.4416722859,
          324031.0278824416,
          262757.3742010459,
          300763.5931834663,
          321771.44773358,
          372606.002994012,
          344161.0805837563,
          276269.8951965066,
          249436.43946188342,
          311710.6491611962,
          348189.31163106137,
          299911.02383474575,
          296407.85506543866,
          380458.9106659448,
          280835.4129032258,
          440312.6223922114,
          236381.8231441048,
          268280.6129476584,
          291456.05056980054,
          281894.0497159091,
          269504.6436781609,
          272187.8693349029,
          332589.1308485329,
          281191.97908496734,
          300881.65478927206,
          277470.8397196262,
          318666.4492140266,
          297525.73003992013,
          321980.40067529544,
          376610.3431829964,
          322122.3807673628,
          272575.39222797926,
          266554.92817294283,
          358300.61631663976,
          328579.49542168673,
          356170.3275478416,
          381187.1896197328,
          284048.8430079156,
          361079.4452753229,
          444613.6144404332,
          289858.0077704722,
          437873.59734257654,
          310949.67115384614,
          322578.56077554065,
          278549.60216718266,
          378646.8709280885
         ]
        }
       ],
       "layout": {
        "template": {
         "data": {
          "bar": [
           {
            "error_x": {
             "color": "#2a3f5f"
            },
            "error_y": {
             "color": "#2a3f5f"
            },
            "marker": {
             "line": {
              "color": "#E5ECF6",
              "width": 0.5
             },
             "pattern": {
              "fillmode": "overlay",
              "size": 10,
              "solidity": 0.2
             }
            },
            "type": "bar"
           }
          ],
          "barpolar": [
           {
            "marker": {
             "line": {
              "color": "#E5ECF6",
              "width": 0.5
             },
             "pattern": {
              "fillmode": "overlay",
              "size": 10,
              "solidity": 0.2
             }
            },
            "type": "barpolar"
           }
          ],
          "carpet": [
           {
            "aaxis": {
             "endlinecolor": "#2a3f5f",
             "gridcolor": "white",
             "linecolor": "white",
             "minorgridcolor": "white",
             "startlinecolor": "#2a3f5f"
            },
            "baxis": {
             "endlinecolor": "#2a3f5f",
             "gridcolor": "white",
             "linecolor": "white",
             "minorgridcolor": "white",
             "startlinecolor": "#2a3f5f"
            },
            "type": "carpet"
           }
          ],
          "choropleth": [
           {
            "colorbar": {
             "outlinewidth": 0,
             "ticks": ""
            },
            "type": "choropleth"
           }
          ],
          "contour": [
           {
            "colorbar": {
             "outlinewidth": 0,
             "ticks": ""
            },
            "colorscale": [
             [
              0,
              "#0d0887"
             ],
             [
              0.1111111111111111,
              "#46039f"
             ],
             [
              0.2222222222222222,
              "#7201a8"
             ],
             [
              0.3333333333333333,
              "#9c179e"
             ],
             [
              0.4444444444444444,
              "#bd3786"
             ],
             [
              0.5555555555555556,
              "#d8576b"
             ],
             [
              0.6666666666666666,
              "#ed7953"
             ],
             [
              0.7777777777777778,
              "#fb9f3a"
             ],
             [
              0.8888888888888888,
              "#fdca26"
             ],
             [
              1,
              "#f0f921"
             ]
            ],
            "type": "contour"
           }
          ],
          "contourcarpet": [
           {
            "colorbar": {
             "outlinewidth": 0,
             "ticks": ""
            },
            "type": "contourcarpet"
           }
          ],
          "heatmap": [
           {
            "colorbar": {
             "outlinewidth": 0,
             "ticks": ""
            },
            "colorscale": [
             [
              0,
              "#0d0887"
             ],
             [
              0.1111111111111111,
              "#46039f"
             ],
             [
              0.2222222222222222,
              "#7201a8"
             ],
             [
              0.3333333333333333,
              "#9c179e"
             ],
             [
              0.4444444444444444,
              "#bd3786"
             ],
             [
              0.5555555555555556,
              "#d8576b"
             ],
             [
              0.6666666666666666,
              "#ed7953"
             ],
             [
              0.7777777777777778,
              "#fb9f3a"
             ],
             [
              0.8888888888888888,
              "#fdca26"
             ],
             [
              1,
              "#f0f921"
             ]
            ],
            "type": "heatmap"
           }
          ],
          "heatmapgl": [
           {
            "colorbar": {
             "outlinewidth": 0,
             "ticks": ""
            },
            "colorscale": [
             [
              0,
              "#0d0887"
             ],
             [
              0.1111111111111111,
              "#46039f"
             ],
             [
              0.2222222222222222,
              "#7201a8"
             ],
             [
              0.3333333333333333,
              "#9c179e"
             ],
             [
              0.4444444444444444,
              "#bd3786"
             ],
             [
              0.5555555555555556,
              "#d8576b"
             ],
             [
              0.6666666666666666,
              "#ed7953"
             ],
             [
              0.7777777777777778,
              "#fb9f3a"
             ],
             [
              0.8888888888888888,
              "#fdca26"
             ],
             [
              1,
              "#f0f921"
             ]
            ],
            "type": "heatmapgl"
           }
          ],
          "histogram": [
           {
            "marker": {
             "pattern": {
              "fillmode": "overlay",
              "size": 10,
              "solidity": 0.2
             }
            },
            "type": "histogram"
           }
          ],
          "histogram2d": [
           {
            "colorbar": {
             "outlinewidth": 0,
             "ticks": ""
            },
            "colorscale": [
             [
              0,
              "#0d0887"
             ],
             [
              0.1111111111111111,
              "#46039f"
             ],
             [
              0.2222222222222222,
              "#7201a8"
             ],
             [
              0.3333333333333333,
              "#9c179e"
             ],
             [
              0.4444444444444444,
              "#bd3786"
             ],
             [
              0.5555555555555556,
              "#d8576b"
             ],
             [
              0.6666666666666666,
              "#ed7953"
             ],
             [
              0.7777777777777778,
              "#fb9f3a"
             ],
             [
              0.8888888888888888,
              "#fdca26"
             ],
             [
              1,
              "#f0f921"
             ]
            ],
            "type": "histogram2d"
           }
          ],
          "histogram2dcontour": [
           {
            "colorbar": {
             "outlinewidth": 0,
             "ticks": ""
            },
            "colorscale": [
             [
              0,
              "#0d0887"
             ],
             [
              0.1111111111111111,
              "#46039f"
             ],
             [
              0.2222222222222222,
              "#7201a8"
             ],
             [
              0.3333333333333333,
              "#9c179e"
             ],
             [
              0.4444444444444444,
              "#bd3786"
             ],
             [
              0.5555555555555556,
              "#d8576b"
             ],
             [
              0.6666666666666666,
              "#ed7953"
             ],
             [
              0.7777777777777778,
              "#fb9f3a"
             ],
             [
              0.8888888888888888,
              "#fdca26"
             ],
             [
              1,
              "#f0f921"
             ]
            ],
            "type": "histogram2dcontour"
           }
          ],
          "mesh3d": [
           {
            "colorbar": {
             "outlinewidth": 0,
             "ticks": ""
            },
            "type": "mesh3d"
           }
          ],
          "parcoords": [
           {
            "line": {
             "colorbar": {
              "outlinewidth": 0,
              "ticks": ""
             }
            },
            "type": "parcoords"
           }
          ],
          "pie": [
           {
            "automargin": true,
            "type": "pie"
           }
          ],
          "scatter": [
           {
            "fillpattern": {
             "fillmode": "overlay",
             "size": 10,
             "solidity": 0.2
            },
            "type": "scatter"
           }
          ],
          "scatter3d": [
           {
            "line": {
             "colorbar": {
              "outlinewidth": 0,
              "ticks": ""
             }
            },
            "marker": {
             "colorbar": {
              "outlinewidth": 0,
              "ticks": ""
             }
            },
            "type": "scatter3d"
           }
          ],
          "scattercarpet": [
           {
            "marker": {
             "colorbar": {
              "outlinewidth": 0,
              "ticks": ""
             }
            },
            "type": "scattercarpet"
           }
          ],
          "scattergeo": [
           {
            "marker": {
             "colorbar": {
              "outlinewidth": 0,
              "ticks": ""
             }
            },
            "type": "scattergeo"
           }
          ],
          "scattergl": [
           {
            "marker": {
             "colorbar": {
              "outlinewidth": 0,
              "ticks": ""
             }
            },
            "type": "scattergl"
           }
          ],
          "scattermapbox": [
           {
            "marker": {
             "colorbar": {
              "outlinewidth": 0,
              "ticks": ""
             }
            },
            "type": "scattermapbox"
           }
          ],
          "scatterpolar": [
           {
            "marker": {
             "colorbar": {
              "outlinewidth": 0,
              "ticks": ""
             }
            },
            "type": "scatterpolar"
           }
          ],
          "scatterpolargl": [
           {
            "marker": {
             "colorbar": {
              "outlinewidth": 0,
              "ticks": ""
             }
            },
            "type": "scatterpolargl"
           }
          ],
          "scatterternary": [
           {
            "marker": {
             "colorbar": {
              "outlinewidth": 0,
              "ticks": ""
             }
            },
            "type": "scatterternary"
           }
          ],
          "surface": [
           {
            "colorbar": {
             "outlinewidth": 0,
             "ticks": ""
            },
            "colorscale": [
             [
              0,
              "#0d0887"
             ],
             [
              0.1111111111111111,
              "#46039f"
             ],
             [
              0.2222222222222222,
              "#7201a8"
             ],
             [
              0.3333333333333333,
              "#9c179e"
             ],
             [
              0.4444444444444444,
              "#bd3786"
             ],
             [
              0.5555555555555556,
              "#d8576b"
             ],
             [
              0.6666666666666666,
              "#ed7953"
             ],
             [
              0.7777777777777778,
              "#fb9f3a"
             ],
             [
              0.8888888888888888,
              "#fdca26"
             ],
             [
              1,
              "#f0f921"
             ]
            ],
            "type": "surface"
           }
          ],
          "table": [
           {
            "cells": {
             "fill": {
              "color": "#EBF0F8"
             },
             "line": {
              "color": "white"
             }
            },
            "header": {
             "fill": {
              "color": "#C8D4E3"
             },
             "line": {
              "color": "white"
             }
            },
            "type": "table"
           }
          ]
         },
         "layout": {
          "annotationdefaults": {
           "arrowcolor": "#2a3f5f",
           "arrowhead": 0,
           "arrowwidth": 1
          },
          "autotypenumbers": "strict",
          "coloraxis": {
           "colorbar": {
            "outlinewidth": 0,
            "ticks": ""
           }
          },
          "colorscale": {
           "diverging": [
            [
             0,
             "#8e0152"
            ],
            [
             0.1,
             "#c51b7d"
            ],
            [
             0.2,
             "#de77ae"
            ],
            [
             0.3,
             "#f1b6da"
            ],
            [
             0.4,
             "#fde0ef"
            ],
            [
             0.5,
             "#f7f7f7"
            ],
            [
             0.6,
             "#e6f5d0"
            ],
            [
             0.7,
             "#b8e186"
            ],
            [
             0.8,
             "#7fbc41"
            ],
            [
             0.9,
             "#4d9221"
            ],
            [
             1,
             "#276419"
            ]
           ],
           "sequential": [
            [
             0,
             "#0d0887"
            ],
            [
             0.1111111111111111,
             "#46039f"
            ],
            [
             0.2222222222222222,
             "#7201a8"
            ],
            [
             0.3333333333333333,
             "#9c179e"
            ],
            [
             0.4444444444444444,
             "#bd3786"
            ],
            [
             0.5555555555555556,
             "#d8576b"
            ],
            [
             0.6666666666666666,
             "#ed7953"
            ],
            [
             0.7777777777777778,
             "#fb9f3a"
            ],
            [
             0.8888888888888888,
             "#fdca26"
            ],
            [
             1,
             "#f0f921"
            ]
           ],
           "sequentialminus": [
            [
             0,
             "#0d0887"
            ],
            [
             0.1111111111111111,
             "#46039f"
            ],
            [
             0.2222222222222222,
             "#7201a8"
            ],
            [
             0.3333333333333333,
             "#9c179e"
            ],
            [
             0.4444444444444444,
             "#bd3786"
            ],
            [
             0.5555555555555556,
             "#d8576b"
            ],
            [
             0.6666666666666666,
             "#ed7953"
            ],
            [
             0.7777777777777778,
             "#fb9f3a"
            ],
            [
             0.8888888888888888,
             "#fdca26"
            ],
            [
             1,
             "#f0f921"
            ]
           ]
          },
          "colorway": [
           "#636efa",
           "#EF553B",
           "#00cc96",
           "#ab63fa",
           "#FFA15A",
           "#19d3f3",
           "#FF6692",
           "#B6E880",
           "#FF97FF",
           "#FECB52"
          ],
          "font": {
           "color": "#2a3f5f"
          },
          "geo": {
           "bgcolor": "white",
           "lakecolor": "white",
           "landcolor": "#E5ECF6",
           "showlakes": true,
           "showland": true,
           "subunitcolor": "white"
          },
          "hoverlabel": {
           "align": "left"
          },
          "hovermode": "closest",
          "mapbox": {
           "style": "light"
          },
          "paper_bgcolor": "white",
          "plot_bgcolor": "#E5ECF6",
          "polar": {
           "angularaxis": {
            "gridcolor": "white",
            "linecolor": "white",
            "ticks": ""
           },
           "bgcolor": "#E5ECF6",
           "radialaxis": {
            "gridcolor": "white",
            "linecolor": "white",
            "ticks": ""
           }
          },
          "scene": {
           "xaxis": {
            "backgroundcolor": "#E5ECF6",
            "gridcolor": "white",
            "gridwidth": 2,
            "linecolor": "white",
            "showbackground": true,
            "ticks": "",
            "zerolinecolor": "white"
           },
           "yaxis": {
            "backgroundcolor": "#E5ECF6",
            "gridcolor": "white",
            "gridwidth": 2,
            "linecolor": "white",
            "showbackground": true,
            "ticks": "",
            "zerolinecolor": "white"
           },
           "zaxis": {
            "backgroundcolor": "#E5ECF6",
            "gridcolor": "white",
            "gridwidth": 2,
            "linecolor": "white",
            "showbackground": true,
            "ticks": "",
            "zerolinecolor": "white"
           }
          },
          "shapedefaults": {
           "line": {
            "color": "#2a3f5f"
           }
          },
          "ternary": {
           "aaxis": {
            "gridcolor": "white",
            "linecolor": "white",
            "ticks": ""
           },
           "baxis": {
            "gridcolor": "white",
            "linecolor": "white",
            "ticks": ""
           },
           "bgcolor": "#E5ECF6",
           "caxis": {
            "gridcolor": "white",
            "linecolor": "white",
            "ticks": ""
           }
          },
          "title": {
           "x": 0.05
          },
          "xaxis": {
           "automargin": true,
           "gridcolor": "white",
           "linecolor": "white",
           "ticks": "",
           "title": {
            "standoff": 15
           },
           "zerolinecolor": "white",
           "zerolinewidth": 2
          },
          "yaxis": {
           "automargin": true,
           "gridcolor": "white",
           "linecolor": "white",
           "ticks": "",
           "title": {
            "standoff": 15
           },
           "zerolinecolor": "white",
           "zerolinewidth": 2
          }
         }
        }
       }
      }
     },
     "metadata": {},
     "output_type": "display_data"
    }
   ],
   "source": [
    "fig= go.Figure(data= [\n",
    "                        go.Scatter(x= df_sales_stat.index, y= df_sales_stat.iloc[:, 0], mode= 'markers+lines')\n",
    "\n",
    "])\n",
    "fig.show()"
   ]
  },
  {
   "cell_type": "code",
   "execution_count": 18,
   "id": "c61ad960",
   "metadata": {},
   "outputs": [
    {
     "data": {
      "application/vnd.plotly.v1+json": {
       "config": {
        "plotlyServerURL": "https://plot.ly"
       },
       "data": [
        {
         "mode": "markers+lines",
         "type": "scatter",
         "x": [
          "1999/05",
          "2001/01",
          "2001/02",
          "2001/03",
          "2001/04",
          "2001/05",
          "2001/06",
          "2001/07",
          "2001/08",
          "2001/09",
          "2001/10",
          "2001/11",
          "2001/12",
          "2002/01",
          "2002/02",
          "2002/03",
          "2002/04",
          "2002/05",
          "2002/06",
          "2002/07",
          "2002/08",
          "2002/09",
          "2002/10",
          "2002/11",
          "2002/12",
          "2003/01",
          "2003/02",
          "2003/03",
          "2003/04",
          "2003/05",
          "2003/06",
          "2003/07",
          "2003/08",
          "2003/09",
          "2003/10",
          "2003/11",
          "2003/12",
          "2004/01",
          "2004/02",
          "2004/03",
          "2004/04",
          "2004/05",
          "2004/06",
          "2004/07",
          "2004/08",
          "2004/09",
          "2004/10",
          "2004/11",
          "2004/12",
          "2005/01",
          "2005/02",
          "2005/03",
          "2005/04",
          "2005/05",
          "2005/06",
          "2005/07",
          "2005/08",
          "2005/09",
          "2005/10",
          "2005/11",
          "2005/12",
          "2006/01",
          "2006/02",
          "2006/03",
          "2006/04",
          "2006/05",
          "2006/06",
          "2006/07",
          "2006/08",
          "2006/09",
          "2006/10",
          "2006/11",
          "2006/12",
          "2007/01",
          "2007/02",
          "2007/03",
          "2007/04",
          "2007/05",
          "2007/06",
          "2007/07",
          "2007/08",
          "2007/09",
          "2007/10",
          "2007/11",
          "2007/12",
          "2008/01",
          "2008/02",
          "2008/03",
          "2008/04",
          "2008/05",
          "2008/06",
          "2008/07",
          "2008/08",
          "2008/09",
          "2008/10",
          "2008/11",
          "2008/12",
          "2009/01",
          "2009/02",
          "2009/03",
          "2009/04",
          "2009/05",
          "2009/06",
          "2009/07",
          "2009/08",
          "2009/09",
          "2009/10",
          "2009/11",
          "2009/12",
          "2010/01",
          "2010/02",
          "2010/03",
          "2010/04",
          "2010/05",
          "2010/06",
          "2010/07",
          "2010/08",
          "2010/09",
          "2010/10",
          "2010/11",
          "2010/12",
          "2011/01",
          "2011/02",
          "2011/03",
          "2011/04",
          "2011/05",
          "2011/06",
          "2011/07",
          "2011/08",
          "2011/09",
          "2011/10",
          "2011/11",
          "2011/12",
          "2012/01",
          "2012/02",
          "2012/03",
          "2012/04",
          "2012/05",
          "2012/06",
          "2012/07",
          "2012/08",
          "2012/09",
          "2012/10",
          "2012/11",
          "2012/12",
          "2013/01",
          "2013/02",
          "2013/03",
          "2013/04",
          "2013/05",
          "2013/06",
          "2013/07",
          "2013/08",
          "2013/09",
          "2013/10",
          "2013/11",
          "2013/12",
          "2014/01",
          "2014/02",
          "2014/03",
          "2014/04",
          "2014/05",
          "2014/06",
          "2014/07",
          "2014/08",
          "2014/09",
          "2014/10",
          "2014/11",
          "2014/12",
          "2015/01",
          "2015/02",
          "2015/03",
          "2015/04",
          "2015/05",
          "2015/06",
          "2015/07",
          "2015/08",
          "2015/09",
          "2015/10",
          "2015/11",
          "2015/12",
          "2016/01",
          "2016/02",
          "2016/03",
          "2016/04",
          "2016/05",
          "2016/06",
          "2016/07",
          "2016/08",
          "2016/09",
          "2016/10",
          "2016/11",
          "2016/12",
          "2017/01",
          "2017/02",
          "2017/03",
          "2017/04",
          "2017/05",
          "2017/06",
          "2017/07",
          "2017/08",
          "2017/09",
          "2017/10",
          "2017/11",
          "2017/12",
          "2018/01",
          "2018/02",
          "2018/03",
          "2018/04",
          "2018/05",
          "2018/06",
          "2018/07",
          "2018/08",
          "2018/09",
          "2018/10",
          "2018/11",
          "2018/12",
          "2019/01",
          "2019/02",
          "2019/03",
          "2019/04",
          "2019/05",
          "2019/06",
          "2019/07",
          "2019/08",
          "2019/09",
          "2019/10",
          "2019/11",
          "2019/12",
          "2020/01",
          "2020/02",
          "2020/03",
          "2020/04",
          "2020/05",
          "2020/06",
          "2020/07",
          "2020/08",
          "2020/09",
          "2020/10",
          "2020/11",
          "2020/12",
          "2021/01",
          "2021/02",
          "2021/03",
          "2021/04",
          "2021/05",
          "2021/06",
          "2021/07",
          "2021/08",
          "2021/09",
          "2021/10",
          "2021/11",
          "2021/12"
         ],
         "y": [
          46690,
          116198.96313364056,
          129475.75,
          114584.15323645971,
          132130.70544554456,
          123287.33499170812,
          163979.74404761905,
          132256.0353982301,
          156208.37588652482,
          135700.1171875,
          129488.82633053222,
          135500.80626780627,
          140379.13896457767,
          135310.62575266327,
          166714.72866817156,
          161598.3895944285,
          146347.63120229007,
          139216.9827053737,
          139389.89100126742,
          146387.05053380784,
          166930.4078862314,
          127932.02590320382,
          158938.6267507003,
          140608.11304870716,
          178461.39154411765,
          176350.13964742483,
          195492.3222308288,
          180737.59731543623,
          207717.52329098608,
          166352.32232496698,
          217584.84604105572,
          168743.4482984293,
          165167.96864111497,
          171495.35223245926,
          160542.64610011643,
          225105.12254570075,
          199443.77607585705,
          199093.88262282548,
          194622.94709677418,
          201461.3213367609,
          220299.9623655914,
          216869.78277153557,
          163013.85313615503,
          213492.3727319855,
          181949.24908088235,
          188178.05876731963,
          228917.0203862661,
          175400.0979547901,
          185176.43673276677,
          202482.77872795297,
          188893.3619883041,
          218933.45836298933,
          181197.39806234205,
          227735.56307129798,
          172646.30812064966,
          226930.04647499014,
          242867.621253406,
          242953.3695047301,
          169845.46808510637,
          194951.08190954773,
          178768.9064983637,
          195204.86572925284,
          218337.48498498497,
          204358.40734557595,
          282625.8488612836,
          213162.5320275278,
          197969.54617676267,
          315213.6959418534,
          248856.61549295776,
          202421.80883472963,
          210887.47881899873,
          208301.72662798196,
          211492.2959945689,
          298810.70547945204,
          378847.38771518,
          336430.74774774775,
          411205.7039187228,
          410492.3563432836,
          416678.44314079423,
          355988.86225895316,
          373532.1952479339,
          319219.7971014493,
          347612.62468931236,
          361217.91694915254,
          504550.2413793103,
          298541.2505319149,
          347266.60754017305,
          261455.70983050848,
          361781.96088888886,
          319203.3152654867,
          255749.11170212767,
          375820.4486373166,
          353511.0904572565,
          257150.0348387097,
          313678.4167507568,
          456623.4826839827,
          285822.3233333333,
          279209.6576980568,
          248367.78634577602,
          295899.5476973684,
          299404.98642533936,
          234362.3886310905,
          251409.22685656155,
          443107.3725,
          291536.0957207207,
          254723.13580246913,
          284187.4705882353,
          226548.67486338798,
          259692.40084985836,
          319250.34359341447,
          351230.9029066172,
          316759.8324407039,
          402115.84256816184,
          450188.49796334014,
          431982.30372807017,
          424833.9192200557,
          368403.9925496689,
          308400.8430404738,
          309953.1569595262,
          266584.63328631874,
          293187.24377682403,
          300274.83987761347,
          382174.9444918873,
          298830.1557788945,
          375331.32104637334,
          337693.4387254902,
          389616.1984036488,
          369750.2623426912,
          277243.0966029724,
          380546.20106524637,
          318665.42459736456,
          402900.16083916085,
          306051.75,
          473611.6856772521,
          353447.33053221286,
          485386.66638152266,
          398972.8606557377,
          354227.55383211677,
          509735.59367945825,
          455705.66242774564,
          359931.3488372093,
          297222.85908141965,
          431541.1517467249,
          359489.40265486727,
          289531.07308584685,
          374900.8452157598,
          361008.47439544805,
          338832.7922437673,
          407056.3135338346,
          397784.75855689176,
          347966.0888429752,
          309157.9686147186,
          428312.2529989095,
          413991.60731021554,
          588023.665634675,
          385195.0691943128,
          407434.8616932104,
          268761.8197706172,
          274404.5118507312,
          300341.736697751,
          315634.6275468623,
          349914.47708894877,
          353147.68333333335,
          287056.6825531915,
          367502.7885462555,
          271305.676199262,
          324463.29907209135,
          378659.1562216167,
          276542.0026041667,
          262814.35727932747,
          272088.35986307234,
          316457.65944997076,
          268560.3589918256,
          363151.61344537814,
          421088.6178299931,
          304929.3552123552,
          270979.6987951807,
          315705.7696929239,
          262835.4890945142,
          308764.1107110711,
          323204.05574043264,
          277915.8360170884,
          310640.7826330532,
          243785.71218795888,
          231142.18433931484,
          247689.91180866965,
          544072.65,
          383480.20238095237,
          297092.9633507853,
          294285.8901601831,
          255258.6601520087,
          260550.09486447932,
          296351.19267299864,
          294108.4265329734,
          362508.5521143538,
          335719.12884411454,
          311317.21393998066,
          280586.3192429022,
          278383.39640162507,
          366988.05162659124,
          342396.08532695373,
          244487.43366336633,
          248658.37491289197,
          288190.2757255937,
          314899.1008339651,
          315645.2085287846,
          319095.9594827586,
          342997.4416722859,
          324031.0278824416,
          262757.3742010459,
          300763.5931834663,
          321771.44773358,
          372606.002994012,
          344161.0805837563,
          276269.8951965066,
          249436.43946188342,
          311710.6491611962,
          348189.31163106137,
          299911.02383474575,
          296407.85506543866,
          380458.9106659448,
          280835.4129032258,
          440312.6223922114,
          236381.8231441048,
          268280.6129476584,
          291456.05056980054,
          281894.0497159091,
          269504.6436781609,
          272187.8693349029,
          332589.1308485329,
          281191.97908496734,
          300881.65478927206,
          277470.8397196262,
          318666.4492140266,
          297525.73003992013,
          321980.40067529544,
          376610.3431829964,
          322122.3807673628,
          272575.39222797926,
          266554.92817294283,
          358300.61631663976,
          328579.49542168673,
          356170.3275478416,
          381187.1896197328,
          284048.8430079156,
          361079.4452753229,
          444613.6144404332,
          289858.0077704722,
          437873.59734257654,
          310949.67115384614,
          322578.56077554065,
          278549.60216718266,
          378646.8709280885
         ]
        }
       ],
       "layout": {
        "template": {
         "data": {
          "bar": [
           {
            "error_x": {
             "color": "#2a3f5f"
            },
            "error_y": {
             "color": "#2a3f5f"
            },
            "marker": {
             "line": {
              "color": "#E5ECF6",
              "width": 0.5
             },
             "pattern": {
              "fillmode": "overlay",
              "size": 10,
              "solidity": 0.2
             }
            },
            "type": "bar"
           }
          ],
          "barpolar": [
           {
            "marker": {
             "line": {
              "color": "#E5ECF6",
              "width": 0.5
             },
             "pattern": {
              "fillmode": "overlay",
              "size": 10,
              "solidity": 0.2
             }
            },
            "type": "barpolar"
           }
          ],
          "carpet": [
           {
            "aaxis": {
             "endlinecolor": "#2a3f5f",
             "gridcolor": "white",
             "linecolor": "white",
             "minorgridcolor": "white",
             "startlinecolor": "#2a3f5f"
            },
            "baxis": {
             "endlinecolor": "#2a3f5f",
             "gridcolor": "white",
             "linecolor": "white",
             "minorgridcolor": "white",
             "startlinecolor": "#2a3f5f"
            },
            "type": "carpet"
           }
          ],
          "choropleth": [
           {
            "colorbar": {
             "outlinewidth": 0,
             "ticks": ""
            },
            "type": "choropleth"
           }
          ],
          "contour": [
           {
            "colorbar": {
             "outlinewidth": 0,
             "ticks": ""
            },
            "colorscale": [
             [
              0,
              "#0d0887"
             ],
             [
              0.1111111111111111,
              "#46039f"
             ],
             [
              0.2222222222222222,
              "#7201a8"
             ],
             [
              0.3333333333333333,
              "#9c179e"
             ],
             [
              0.4444444444444444,
              "#bd3786"
             ],
             [
              0.5555555555555556,
              "#d8576b"
             ],
             [
              0.6666666666666666,
              "#ed7953"
             ],
             [
              0.7777777777777778,
              "#fb9f3a"
             ],
             [
              0.8888888888888888,
              "#fdca26"
             ],
             [
              1,
              "#f0f921"
             ]
            ],
            "type": "contour"
           }
          ],
          "contourcarpet": [
           {
            "colorbar": {
             "outlinewidth": 0,
             "ticks": ""
            },
            "type": "contourcarpet"
           }
          ],
          "heatmap": [
           {
            "colorbar": {
             "outlinewidth": 0,
             "ticks": ""
            },
            "colorscale": [
             [
              0,
              "#0d0887"
             ],
             [
              0.1111111111111111,
              "#46039f"
             ],
             [
              0.2222222222222222,
              "#7201a8"
             ],
             [
              0.3333333333333333,
              "#9c179e"
             ],
             [
              0.4444444444444444,
              "#bd3786"
             ],
             [
              0.5555555555555556,
              "#d8576b"
             ],
             [
              0.6666666666666666,
              "#ed7953"
             ],
             [
              0.7777777777777778,
              "#fb9f3a"
             ],
             [
              0.8888888888888888,
              "#fdca26"
             ],
             [
              1,
              "#f0f921"
             ]
            ],
            "type": "heatmap"
           }
          ],
          "heatmapgl": [
           {
            "colorbar": {
             "outlinewidth": 0,
             "ticks": ""
            },
            "colorscale": [
             [
              0,
              "#0d0887"
             ],
             [
              0.1111111111111111,
              "#46039f"
             ],
             [
              0.2222222222222222,
              "#7201a8"
             ],
             [
              0.3333333333333333,
              "#9c179e"
             ],
             [
              0.4444444444444444,
              "#bd3786"
             ],
             [
              0.5555555555555556,
              "#d8576b"
             ],
             [
              0.6666666666666666,
              "#ed7953"
             ],
             [
              0.7777777777777778,
              "#fb9f3a"
             ],
             [
              0.8888888888888888,
              "#fdca26"
             ],
             [
              1,
              "#f0f921"
             ]
            ],
            "type": "heatmapgl"
           }
          ],
          "histogram": [
           {
            "marker": {
             "pattern": {
              "fillmode": "overlay",
              "size": 10,
              "solidity": 0.2
             }
            },
            "type": "histogram"
           }
          ],
          "histogram2d": [
           {
            "colorbar": {
             "outlinewidth": 0,
             "ticks": ""
            },
            "colorscale": [
             [
              0,
              "#0d0887"
             ],
             [
              0.1111111111111111,
              "#46039f"
             ],
             [
              0.2222222222222222,
              "#7201a8"
             ],
             [
              0.3333333333333333,
              "#9c179e"
             ],
             [
              0.4444444444444444,
              "#bd3786"
             ],
             [
              0.5555555555555556,
              "#d8576b"
             ],
             [
              0.6666666666666666,
              "#ed7953"
             ],
             [
              0.7777777777777778,
              "#fb9f3a"
             ],
             [
              0.8888888888888888,
              "#fdca26"
             ],
             [
              1,
              "#f0f921"
             ]
            ],
            "type": "histogram2d"
           }
          ],
          "histogram2dcontour": [
           {
            "colorbar": {
             "outlinewidth": 0,
             "ticks": ""
            },
            "colorscale": [
             [
              0,
              "#0d0887"
             ],
             [
              0.1111111111111111,
              "#46039f"
             ],
             [
              0.2222222222222222,
              "#7201a8"
             ],
             [
              0.3333333333333333,
              "#9c179e"
             ],
             [
              0.4444444444444444,
              "#bd3786"
             ],
             [
              0.5555555555555556,
              "#d8576b"
             ],
             [
              0.6666666666666666,
              "#ed7953"
             ],
             [
              0.7777777777777778,
              "#fb9f3a"
             ],
             [
              0.8888888888888888,
              "#fdca26"
             ],
             [
              1,
              "#f0f921"
             ]
            ],
            "type": "histogram2dcontour"
           }
          ],
          "mesh3d": [
           {
            "colorbar": {
             "outlinewidth": 0,
             "ticks": ""
            },
            "type": "mesh3d"
           }
          ],
          "parcoords": [
           {
            "line": {
             "colorbar": {
              "outlinewidth": 0,
              "ticks": ""
             }
            },
            "type": "parcoords"
           }
          ],
          "pie": [
           {
            "automargin": true,
            "type": "pie"
           }
          ],
          "scatter": [
           {
            "fillpattern": {
             "fillmode": "overlay",
             "size": 10,
             "solidity": 0.2
            },
            "type": "scatter"
           }
          ],
          "scatter3d": [
           {
            "line": {
             "colorbar": {
              "outlinewidth": 0,
              "ticks": ""
             }
            },
            "marker": {
             "colorbar": {
              "outlinewidth": 0,
              "ticks": ""
             }
            },
            "type": "scatter3d"
           }
          ],
          "scattercarpet": [
           {
            "marker": {
             "colorbar": {
              "outlinewidth": 0,
              "ticks": ""
             }
            },
            "type": "scattercarpet"
           }
          ],
          "scattergeo": [
           {
            "marker": {
             "colorbar": {
              "outlinewidth": 0,
              "ticks": ""
             }
            },
            "type": "scattergeo"
           }
          ],
          "scattergl": [
           {
            "marker": {
             "colorbar": {
              "outlinewidth": 0,
              "ticks": ""
             }
            },
            "type": "scattergl"
           }
          ],
          "scattermapbox": [
           {
            "marker": {
             "colorbar": {
              "outlinewidth": 0,
              "ticks": ""
             }
            },
            "type": "scattermapbox"
           }
          ],
          "scatterpolar": [
           {
            "marker": {
             "colorbar": {
              "outlinewidth": 0,
              "ticks": ""
             }
            },
            "type": "scatterpolar"
           }
          ],
          "scatterpolargl": [
           {
            "marker": {
             "colorbar": {
              "outlinewidth": 0,
              "ticks": ""
             }
            },
            "type": "scatterpolargl"
           }
          ],
          "scatterternary": [
           {
            "marker": {
             "colorbar": {
              "outlinewidth": 0,
              "ticks": ""
             }
            },
            "type": "scatterternary"
           }
          ],
          "surface": [
           {
            "colorbar": {
             "outlinewidth": 0,
             "ticks": ""
            },
            "colorscale": [
             [
              0,
              "#0d0887"
             ],
             [
              0.1111111111111111,
              "#46039f"
             ],
             [
              0.2222222222222222,
              "#7201a8"
             ],
             [
              0.3333333333333333,
              "#9c179e"
             ],
             [
              0.4444444444444444,
              "#bd3786"
             ],
             [
              0.5555555555555556,
              "#d8576b"
             ],
             [
              0.6666666666666666,
              "#ed7953"
             ],
             [
              0.7777777777777778,
              "#fb9f3a"
             ],
             [
              0.8888888888888888,
              "#fdca26"
             ],
             [
              1,
              "#f0f921"
             ]
            ],
            "type": "surface"
           }
          ],
          "table": [
           {
            "cells": {
             "fill": {
              "color": "#EBF0F8"
             },
             "line": {
              "color": "white"
             }
            },
            "header": {
             "fill": {
              "color": "#C8D4E3"
             },
             "line": {
              "color": "white"
             }
            },
            "type": "table"
           }
          ]
         },
         "layout": {
          "annotationdefaults": {
           "arrowcolor": "#2a3f5f",
           "arrowhead": 0,
           "arrowwidth": 1
          },
          "autotypenumbers": "strict",
          "coloraxis": {
           "colorbar": {
            "outlinewidth": 0,
            "ticks": ""
           }
          },
          "colorscale": {
           "diverging": [
            [
             0,
             "#8e0152"
            ],
            [
             0.1,
             "#c51b7d"
            ],
            [
             0.2,
             "#de77ae"
            ],
            [
             0.3,
             "#f1b6da"
            ],
            [
             0.4,
             "#fde0ef"
            ],
            [
             0.5,
             "#f7f7f7"
            ],
            [
             0.6,
             "#e6f5d0"
            ],
            [
             0.7,
             "#b8e186"
            ],
            [
             0.8,
             "#7fbc41"
            ],
            [
             0.9,
             "#4d9221"
            ],
            [
             1,
             "#276419"
            ]
           ],
           "sequential": [
            [
             0,
             "#0d0887"
            ],
            [
             0.1111111111111111,
             "#46039f"
            ],
            [
             0.2222222222222222,
             "#7201a8"
            ],
            [
             0.3333333333333333,
             "#9c179e"
            ],
            [
             0.4444444444444444,
             "#bd3786"
            ],
            [
             0.5555555555555556,
             "#d8576b"
            ],
            [
             0.6666666666666666,
             "#ed7953"
            ],
            [
             0.7777777777777778,
             "#fb9f3a"
            ],
            [
             0.8888888888888888,
             "#fdca26"
            ],
            [
             1,
             "#f0f921"
            ]
           ],
           "sequentialminus": [
            [
             0,
             "#0d0887"
            ],
            [
             0.1111111111111111,
             "#46039f"
            ],
            [
             0.2222222222222222,
             "#7201a8"
            ],
            [
             0.3333333333333333,
             "#9c179e"
            ],
            [
             0.4444444444444444,
             "#bd3786"
            ],
            [
             0.5555555555555556,
             "#d8576b"
            ],
            [
             0.6666666666666666,
             "#ed7953"
            ],
            [
             0.7777777777777778,
             "#fb9f3a"
            ],
            [
             0.8888888888888888,
             "#fdca26"
            ],
            [
             1,
             "#f0f921"
            ]
           ]
          },
          "colorway": [
           "#636efa",
           "#EF553B",
           "#00cc96",
           "#ab63fa",
           "#FFA15A",
           "#19d3f3",
           "#FF6692",
           "#B6E880",
           "#FF97FF",
           "#FECB52"
          ],
          "font": {
           "color": "#2a3f5f"
          },
          "geo": {
           "bgcolor": "white",
           "lakecolor": "white",
           "landcolor": "#E5ECF6",
           "showlakes": true,
           "showland": true,
           "subunitcolor": "white"
          },
          "hoverlabel": {
           "align": "left"
          },
          "hovermode": "closest",
          "mapbox": {
           "style": "light"
          },
          "paper_bgcolor": "white",
          "plot_bgcolor": "#E5ECF6",
          "polar": {
           "angularaxis": {
            "gridcolor": "white",
            "linecolor": "white",
            "ticks": ""
           },
           "bgcolor": "#E5ECF6",
           "radialaxis": {
            "gridcolor": "white",
            "linecolor": "white",
            "ticks": ""
           }
          },
          "scene": {
           "xaxis": {
            "backgroundcolor": "#E5ECF6",
            "gridcolor": "white",
            "gridwidth": 2,
            "linecolor": "white",
            "showbackground": true,
            "ticks": "",
            "zerolinecolor": "white"
           },
           "yaxis": {
            "backgroundcolor": "#E5ECF6",
            "gridcolor": "white",
            "gridwidth": 2,
            "linecolor": "white",
            "showbackground": true,
            "ticks": "",
            "zerolinecolor": "white"
           },
           "zaxis": {
            "backgroundcolor": "#E5ECF6",
            "gridcolor": "white",
            "gridwidth": 2,
            "linecolor": "white",
            "showbackground": true,
            "ticks": "",
            "zerolinecolor": "white"
           }
          },
          "shapedefaults": {
           "line": {
            "color": "#2a3f5f"
           }
          },
          "ternary": {
           "aaxis": {
            "gridcolor": "white",
            "linecolor": "white",
            "ticks": ""
           },
           "baxis": {
            "gridcolor": "white",
            "linecolor": "white",
            "ticks": ""
           },
           "bgcolor": "#E5ECF6",
           "caxis": {
            "gridcolor": "white",
            "linecolor": "white",
            "ticks": ""
           }
          },
          "title": {
           "x": 0.05
          },
          "xaxis": {
           "automargin": true,
           "gridcolor": "white",
           "linecolor": "white",
           "ticks": "",
           "title": {
            "standoff": 15
           },
           "zerolinecolor": "white",
           "zerolinewidth": 2
          },
          "yaxis": {
           "automargin": true,
           "gridcolor": "white",
           "linecolor": "white",
           "ticks": "",
           "title": {
            "standoff": 15
           },
           "zerolinecolor": "white",
           "zerolinewidth": 2
          }
         }
        }
       }
      }
     },
     "metadata": {},
     "output_type": "display_data"
    }
   ],
   "source": [
    "fig= go.Figure(data= [\n",
    "                        go.Scatter(x= df_sales_stat.index, y= df_sales_stat.iloc[:, 0], mode= 'markers+lines')\n",
    "\n",
    "])\n",
    "fig.show()"
   ]
  },
  {
   "cell_type": "code",
   "execution_count": 19,
   "id": "fd2ff431",
   "metadata": {},
   "outputs": [
    {
     "data": {
      "text/plain": [
       "{'Address',\n",
       " 'Assessed Value',\n",
       " 'Assessor Remarks',\n",
       " 'Date Recorded',\n",
       " 'List Year',\n",
       " 'Location',\n",
       " 'Non Use Code',\n",
       " 'OPM remarks',\n",
       " 'Property Type',\n",
       " 'Residential Type',\n",
       " 'Sale Amount',\n",
       " 'Sales Ratio',\n",
       " 'Serial Number',\n",
       " 'Town',\n",
       " 'day',\n",
       " 'is_weekend',\n",
       " 'month',\n",
       " 'year',\n",
       " 'year_and_month'}"
      ]
     },
     "execution_count": 19,
     "metadata": {},
     "output_type": "execute_result"
    }
   ],
   "source": [
    "set(df.columns)"
   ]
  },
  {
   "cell_type": "code",
   "execution_count": 20,
   "id": "022fd934",
   "metadata": {},
   "outputs": [
    {
     "data": {
      "text/plain": [
       "Residential Type\n",
       "Single Family    170214\n",
       "nan              151316\n",
       "Condo             46102\n",
       "Two Family        11659\n",
       "Three Family       5414\n",
       "Four Family         938\n",
       "Name: count, dtype: int64"
      ]
     },
     "execution_count": 20,
     "metadata": {},
     "output_type": "execute_result"
    }
   ],
   "source": [
    "df['Residential Type'].value_counts()"
   ]
  },
  {
   "cell_type": "code",
   "execution_count": 21,
   "id": "84648c15",
   "metadata": {},
   "outputs": [
    {
     "data": {
      "text/html": [
       "<div>\n",
       "<style scoped>\n",
       "    .dataframe tbody tr th:only-of-type {\n",
       "        vertical-align: middle;\n",
       "    }\n",
       "\n",
       "    .dataframe tbody tr th {\n",
       "        vertical-align: top;\n",
       "    }\n",
       "\n",
       "    .dataframe thead th {\n",
       "        text-align: right;\n",
       "    }\n",
       "</style>\n",
       "<table border=\"1\" class=\"dataframe\">\n",
       "  <thead>\n",
       "    <tr style=\"text-align: right;\">\n",
       "      <th></th>\n",
       "      <th>Serial Number</th>\n",
       "      <th>List Year</th>\n",
       "      <th>Date Recorded</th>\n",
       "      <th>Town</th>\n",
       "      <th>Address</th>\n",
       "      <th>Assessed Value</th>\n",
       "      <th>Sale Amount</th>\n",
       "      <th>Sales Ratio</th>\n",
       "      <th>Property Type</th>\n",
       "      <th>Residential Type</th>\n",
       "      <th>Non Use Code</th>\n",
       "      <th>Assessor Remarks</th>\n",
       "      <th>OPM remarks</th>\n",
       "      <th>Location</th>\n",
       "      <th>year</th>\n",
       "      <th>month</th>\n",
       "      <th>day</th>\n",
       "      <th>is_weekend</th>\n",
       "      <th>year_and_month</th>\n",
       "    </tr>\n",
       "  </thead>\n",
       "  <tbody>\n",
       "    <tr>\n",
       "      <th>4</th>\n",
       "      <td>200500</td>\n",
       "      <td>2020</td>\n",
       "      <td>09/07/2021</td>\n",
       "      <td>Avon</td>\n",
       "      <td>245 NEW ROAD</td>\n",
       "      <td>217640.0</td>\n",
       "      <td>400000.0</td>\n",
       "      <td>0.544100</td>\n",
       "      <td>Residential</td>\n",
       "      <td>Single Family</td>\n",
       "      <td>nan</td>\n",
       "      <td>nan</td>\n",
       "      <td>nan</td>\n",
       "      <td>nan</td>\n",
       "      <td>2021</td>\n",
       "      <td>07</td>\n",
       "      <td>09</td>\n",
       "      <td>4</td>\n",
       "      <td>2021/07</td>\n",
       "    </tr>\n",
       "    <tr>\n",
       "      <th>6</th>\n",
       "      <td>20058</td>\n",
       "      <td>2020</td>\n",
       "      <td>06/01/2021</td>\n",
       "      <td>Barkhamsted</td>\n",
       "      <td>46 RATLUM MTN RD</td>\n",
       "      <td>203530.0</td>\n",
       "      <td>415000.0</td>\n",
       "      <td>0.490434</td>\n",
       "      <td>Residential</td>\n",
       "      <td>Single Family</td>\n",
       "      <td>nan</td>\n",
       "      <td>2003 COLONIAL, 2140 SFLA, 2.99 AC</td>\n",
       "      <td>nan</td>\n",
       "      <td>nan</td>\n",
       "      <td>2021</td>\n",
       "      <td>01</td>\n",
       "      <td>06</td>\n",
       "      <td>2</td>\n",
       "      <td>2021/01</td>\n",
       "    </tr>\n",
       "    <tr>\n",
       "      <th>9</th>\n",
       "      <td>2020360</td>\n",
       "      <td>2020</td>\n",
       "      <td>08/10/2021</td>\n",
       "      <td>Berlin</td>\n",
       "      <td>94 PERCIVAL AVE</td>\n",
       "      <td>140600.0</td>\n",
       "      <td>190790.0</td>\n",
       "      <td>0.736900</td>\n",
       "      <td>Residential</td>\n",
       "      <td>Single Family</td>\n",
       "      <td>nan</td>\n",
       "      <td>nan</td>\n",
       "      <td>nan</td>\n",
       "      <td>nan</td>\n",
       "      <td>2021</td>\n",
       "      <td>10</td>\n",
       "      <td>08</td>\n",
       "      <td>4</td>\n",
       "      <td>2021/10</td>\n",
       "    </tr>\n",
       "    <tr>\n",
       "      <th>15</th>\n",
       "      <td>20062</td>\n",
       "      <td>2020</td>\n",
       "      <td>05/10/2021</td>\n",
       "      <td>Bolton</td>\n",
       "      <td>39 STONEHEDGE LN</td>\n",
       "      <td>189400.0</td>\n",
       "      <td>273750.0</td>\n",
       "      <td>0.691800</td>\n",
       "      <td>Residential</td>\n",
       "      <td>Single Family</td>\n",
       "      <td>nan</td>\n",
       "      <td>nan</td>\n",
       "      <td>nan</td>\n",
       "      <td>nan</td>\n",
       "      <td>2021</td>\n",
       "      <td>10</td>\n",
       "      <td>05</td>\n",
       "      <td>1</td>\n",
       "      <td>2021/10</td>\n",
       "    </tr>\n",
       "    <tr>\n",
       "      <th>17</th>\n",
       "      <td>200400</td>\n",
       "      <td>2020</td>\n",
       "      <td>04/08/2021</td>\n",
       "      <td>Branford</td>\n",
       "      <td>460 MAIN ST</td>\n",
       "      <td>180500.0</td>\n",
       "      <td>355000.0</td>\n",
       "      <td>0.508400</td>\n",
       "      <td>Residential</td>\n",
       "      <td>Two Family</td>\n",
       "      <td>nan</td>\n",
       "      <td>nan</td>\n",
       "      <td>nan</td>\n",
       "      <td>nan</td>\n",
       "      <td>2021</td>\n",
       "      <td>08</td>\n",
       "      <td>04</td>\n",
       "      <td>2</td>\n",
       "      <td>2021/08</td>\n",
       "    </tr>\n",
       "    <tr>\n",
       "      <th>...</th>\n",
       "      <td>...</td>\n",
       "      <td>...</td>\n",
       "      <td>...</td>\n",
       "      <td>...</td>\n",
       "      <td>...</td>\n",
       "      <td>...</td>\n",
       "      <td>...</td>\n",
       "      <td>...</td>\n",
       "      <td>...</td>\n",
       "      <td>...</td>\n",
       "      <td>...</td>\n",
       "      <td>...</td>\n",
       "      <td>...</td>\n",
       "      <td>...</td>\n",
       "      <td>...</td>\n",
       "      <td>...</td>\n",
       "      <td>...</td>\n",
       "      <td>...</td>\n",
       "      <td>...</td>\n",
       "    </tr>\n",
       "    <tr>\n",
       "      <th>997197</th>\n",
       "      <td>190310</td>\n",
       "      <td>2019</td>\n",
       "      <td>06/04/2020</td>\n",
       "      <td>Westport</td>\n",
       "      <td>11 FRAGRANT PINES COURT</td>\n",
       "      <td>410300.0</td>\n",
       "      <td>722000.0</td>\n",
       "      <td>0.568300</td>\n",
       "      <td>Single Family</td>\n",
       "      <td>Single Family</td>\n",
       "      <td>nan</td>\n",
       "      <td>nan</td>\n",
       "      <td>nan</td>\n",
       "      <td>nan</td>\n",
       "      <td>2020</td>\n",
       "      <td>04</td>\n",
       "      <td>06</td>\n",
       "      <td>0</td>\n",
       "      <td>2020/04</td>\n",
       "    </tr>\n",
       "    <tr>\n",
       "      <th>997199</th>\n",
       "      <td>190365</td>\n",
       "      <td>2019</td>\n",
       "      <td>02/10/2020</td>\n",
       "      <td>West Hartford</td>\n",
       "      <td>191 HUNTER DRIVE</td>\n",
       "      <td>315420.0</td>\n",
       "      <td>380000.0</td>\n",
       "      <td>0.830100</td>\n",
       "      <td>Single Family</td>\n",
       "      <td>Single Family</td>\n",
       "      <td>nan</td>\n",
       "      <td>nan</td>\n",
       "      <td>nan</td>\n",
       "      <td>nan</td>\n",
       "      <td>2020</td>\n",
       "      <td>10</td>\n",
       "      <td>02</td>\n",
       "      <td>4</td>\n",
       "      <td>2020/10</td>\n",
       "    </tr>\n",
       "    <tr>\n",
       "      <th>997205</th>\n",
       "      <td>190161</td>\n",
       "      <td>2019</td>\n",
       "      <td>03/02/2020</td>\n",
       "      <td>Newington</td>\n",
       "      <td>22 ROCKLEDGE DR</td>\n",
       "      <td>306000.0</td>\n",
       "      <td>456000.0</td>\n",
       "      <td>0.671100</td>\n",
       "      <td>Single Family</td>\n",
       "      <td>Single Family</td>\n",
       "      <td>nan</td>\n",
       "      <td>nan</td>\n",
       "      <td>nan</td>\n",
       "      <td>nan</td>\n",
       "      <td>2020</td>\n",
       "      <td>02</td>\n",
       "      <td>03</td>\n",
       "      <td>0</td>\n",
       "      <td>2020/02</td>\n",
       "    </tr>\n",
       "    <tr>\n",
       "      <th>997207</th>\n",
       "      <td>190272</td>\n",
       "      <td>2019</td>\n",
       "      <td>08/03/2020</td>\n",
       "      <td>Wilton</td>\n",
       "      <td>145 WHIPSTICK RD</td>\n",
       "      <td>681870.0</td>\n",
       "      <td>1134708.0</td>\n",
       "      <td>0.600900</td>\n",
       "      <td>Single Family</td>\n",
       "      <td>Single Family</td>\n",
       "      <td>25 - Other</td>\n",
       "      <td>nan</td>\n",
       "      <td>PER MLS CLOSING PRICE = $1,145,000</td>\n",
       "      <td>nan</td>\n",
       "      <td>2020</td>\n",
       "      <td>03</td>\n",
       "      <td>08</td>\n",
       "      <td>6</td>\n",
       "      <td>2020/03</td>\n",
       "    </tr>\n",
       "    <tr>\n",
       "      <th>997211</th>\n",
       "      <td>190504</td>\n",
       "      <td>2019</td>\n",
       "      <td>06/03/2020</td>\n",
       "      <td>Middletown</td>\n",
       "      <td>8 BYSTREK DR</td>\n",
       "      <td>203360.0</td>\n",
       "      <td>280000.0</td>\n",
       "      <td>0.726300</td>\n",
       "      <td>Single Family</td>\n",
       "      <td>Single Family</td>\n",
       "      <td>nan</td>\n",
       "      <td>nan</td>\n",
       "      <td>nan</td>\n",
       "      <td>nan</td>\n",
       "      <td>2020</td>\n",
       "      <td>03</td>\n",
       "      <td>06</td>\n",
       "      <td>4</td>\n",
       "      <td>2020/03</td>\n",
       "    </tr>\n",
       "  </tbody>\n",
       "</table>\n",
       "<p>385643 rows × 19 columns</p>\n",
       "</div>"
      ],
      "text/plain": [
       "        Serial Number  List Year Date Recorded           Town   \n",
       "4              200500       2020    09/07/2021           Avon  \\\n",
       "6               20058       2020    06/01/2021    Barkhamsted   \n",
       "9             2020360       2020    08/10/2021         Berlin   \n",
       "15              20062       2020    05/10/2021         Bolton   \n",
       "17             200400       2020    04/08/2021       Branford   \n",
       "...               ...        ...           ...            ...   \n",
       "997197         190310       2019    06/04/2020       Westport   \n",
       "997199         190365       2019    02/10/2020  West Hartford   \n",
       "997205         190161       2019    03/02/2020      Newington   \n",
       "997207         190272       2019    08/03/2020         Wilton   \n",
       "997211         190504       2019    06/03/2020     Middletown   \n",
       "\n",
       "                        Address  Assessed Value  Sale Amount  Sales Ratio   \n",
       "4                  245 NEW ROAD        217640.0     400000.0     0.544100  \\\n",
       "6              46 RATLUM MTN RD        203530.0     415000.0     0.490434   \n",
       "9               94 PERCIVAL AVE        140600.0     190790.0     0.736900   \n",
       "15             39 STONEHEDGE LN        189400.0     273750.0     0.691800   \n",
       "17                  460 MAIN ST        180500.0     355000.0     0.508400   \n",
       "...                         ...             ...          ...          ...   \n",
       "997197  11 FRAGRANT PINES COURT        410300.0     722000.0     0.568300   \n",
       "997199         191 HUNTER DRIVE        315420.0     380000.0     0.830100   \n",
       "997205          22 ROCKLEDGE DR        306000.0     456000.0     0.671100   \n",
       "997207         145 WHIPSTICK RD        681870.0    1134708.0     0.600900   \n",
       "997211             8 BYSTREK DR        203360.0     280000.0     0.726300   \n",
       "\n",
       "        Property Type Residential Type Non Use Code   \n",
       "4         Residential    Single Family          nan  \\\n",
       "6         Residential    Single Family          nan   \n",
       "9         Residential    Single Family          nan   \n",
       "15        Residential    Single Family          nan   \n",
       "17        Residential       Two Family          nan   \n",
       "...               ...              ...          ...   \n",
       "997197  Single Family    Single Family          nan   \n",
       "997199  Single Family    Single Family          nan   \n",
       "997205  Single Family    Single Family          nan   \n",
       "997207  Single Family    Single Family   25 - Other   \n",
       "997211  Single Family    Single Family          nan   \n",
       "\n",
       "                         Assessor Remarks                         OPM remarks   \n",
       "4                                     nan                                 nan  \\\n",
       "6       2003 COLONIAL, 2140 SFLA, 2.99 AC                                 nan   \n",
       "9                                     nan                                 nan   \n",
       "15                                    nan                                 nan   \n",
       "17                                    nan                                 nan   \n",
       "...                                   ...                                 ...   \n",
       "997197                                nan                                 nan   \n",
       "997199                                nan                                 nan   \n",
       "997205                                nan                                 nan   \n",
       "997207                                nan  PER MLS CLOSING PRICE = $1,145,000   \n",
       "997211                                nan                                 nan   \n",
       "\n",
       "       Location  year month day  is_weekend year_and_month  \n",
       "4           nan  2021    07  09           4        2021/07  \n",
       "6           nan  2021    01  06           2        2021/01  \n",
       "9           nan  2021    10  08           4        2021/10  \n",
       "15          nan  2021    10  05           1        2021/10  \n",
       "17          nan  2021    08  04           2        2021/08  \n",
       "...         ...   ...   ...  ..         ...            ...  \n",
       "997197      nan  2020    04  06           0        2020/04  \n",
       "997199      nan  2020    10  02           4        2020/10  \n",
       "997205      nan  2020    02  03           0        2020/02  \n",
       "997207      nan  2020    03  08           6        2020/03  \n",
       "997211      nan  2020    03  06           4        2020/03  \n",
       "\n",
       "[385643 rows x 19 columns]"
      ]
     },
     "execution_count": 21,
     "metadata": {},
     "output_type": "execute_result"
    }
   ],
   "source": [
    "df"
   ]
  },
  {
   "cell_type": "code",
   "execution_count": 22,
   "id": "7974b6f3",
   "metadata": {},
   "outputs": [
    {
     "data": {
      "text/plain": [
       "4                    Avon\n",
       "6             Barkhamsted\n",
       "9                  Berlin\n",
       "15                 Bolton\n",
       "17               Branford\n",
       "               ...       \n",
       "67998           Salisbury\n",
       "68184      North Branford\n",
       "68268         Marlborough\n",
       "69790    North Stonington\n",
       "69880           Voluntown\n",
       "Name: Town, Length: 169, dtype: object"
      ]
     },
     "execution_count": 22,
     "metadata": {},
     "output_type": "execute_result"
    }
   ],
   "source": [
    "df['Town'].drop_duplicates()"
   ]
  },
  {
   "cell_type": "code",
   "execution_count": 23,
   "id": "ec34da38",
   "metadata": {},
   "outputs": [
    {
     "data": {
      "text/html": [
       "<div>\n",
       "<style scoped>\n",
       "    .dataframe tbody tr th:only-of-type {\n",
       "        vertical-align: middle;\n",
       "    }\n",
       "\n",
       "    .dataframe tbody tr th {\n",
       "        vertical-align: top;\n",
       "    }\n",
       "\n",
       "    .dataframe thead th {\n",
       "        text-align: right;\n",
       "    }\n",
       "</style>\n",
       "<table border=\"1\" class=\"dataframe\">\n",
       "  <thead>\n",
       "    <tr style=\"text-align: right;\">\n",
       "      <th></th>\n",
       "      <th>Serial Number</th>\n",
       "      <th>List Year</th>\n",
       "      <th>Date Recorded</th>\n",
       "      <th>Town</th>\n",
       "      <th>Address</th>\n",
       "      <th>Assessed Value</th>\n",
       "      <th>Sale Amount</th>\n",
       "      <th>Sales Ratio</th>\n",
       "      <th>Property Type</th>\n",
       "      <th>Residential Type</th>\n",
       "      <th>Non Use Code</th>\n",
       "      <th>Assessor Remarks</th>\n",
       "      <th>OPM remarks</th>\n",
       "      <th>Location</th>\n",
       "      <th>year</th>\n",
       "      <th>month</th>\n",
       "      <th>day</th>\n",
       "      <th>is_weekend</th>\n",
       "      <th>year_and_month</th>\n",
       "    </tr>\n",
       "  </thead>\n",
       "  <tbody>\n",
       "    <tr>\n",
       "      <th>4</th>\n",
       "      <td>200500</td>\n",
       "      <td>2020</td>\n",
       "      <td>09/07/2021</td>\n",
       "      <td>Avon</td>\n",
       "      <td>245 NEW ROAD</td>\n",
       "      <td>217640.0</td>\n",
       "      <td>400000.0</td>\n",
       "      <td>0.544100</td>\n",
       "      <td>Residential</td>\n",
       "      <td>Single Family</td>\n",
       "      <td>nan</td>\n",
       "      <td>nan</td>\n",
       "      <td>nan</td>\n",
       "      <td>nan</td>\n",
       "      <td>2021</td>\n",
       "      <td>07</td>\n",
       "      <td>09</td>\n",
       "      <td>4</td>\n",
       "      <td>2021/07</td>\n",
       "    </tr>\n",
       "    <tr>\n",
       "      <th>6</th>\n",
       "      <td>20058</td>\n",
       "      <td>2020</td>\n",
       "      <td>06/01/2021</td>\n",
       "      <td>Barkhamsted</td>\n",
       "      <td>46 RATLUM MTN RD</td>\n",
       "      <td>203530.0</td>\n",
       "      <td>415000.0</td>\n",
       "      <td>0.490434</td>\n",
       "      <td>Residential</td>\n",
       "      <td>Single Family</td>\n",
       "      <td>nan</td>\n",
       "      <td>2003 COLONIAL, 2140 SFLA, 2.99 AC</td>\n",
       "      <td>nan</td>\n",
       "      <td>nan</td>\n",
       "      <td>2021</td>\n",
       "      <td>01</td>\n",
       "      <td>06</td>\n",
       "      <td>2</td>\n",
       "      <td>2021/01</td>\n",
       "    </tr>\n",
       "    <tr>\n",
       "      <th>9</th>\n",
       "      <td>2020360</td>\n",
       "      <td>2020</td>\n",
       "      <td>08/10/2021</td>\n",
       "      <td>Berlin</td>\n",
       "      <td>94 PERCIVAL AVE</td>\n",
       "      <td>140600.0</td>\n",
       "      <td>190790.0</td>\n",
       "      <td>0.736900</td>\n",
       "      <td>Residential</td>\n",
       "      <td>Single Family</td>\n",
       "      <td>nan</td>\n",
       "      <td>nan</td>\n",
       "      <td>nan</td>\n",
       "      <td>nan</td>\n",
       "      <td>2021</td>\n",
       "      <td>10</td>\n",
       "      <td>08</td>\n",
       "      <td>4</td>\n",
       "      <td>2021/10</td>\n",
       "    </tr>\n",
       "    <tr>\n",
       "      <th>15</th>\n",
       "      <td>20062</td>\n",
       "      <td>2020</td>\n",
       "      <td>05/10/2021</td>\n",
       "      <td>Bolton</td>\n",
       "      <td>39 STONEHEDGE LN</td>\n",
       "      <td>189400.0</td>\n",
       "      <td>273750.0</td>\n",
       "      <td>0.691800</td>\n",
       "      <td>Residential</td>\n",
       "      <td>Single Family</td>\n",
       "      <td>nan</td>\n",
       "      <td>nan</td>\n",
       "      <td>nan</td>\n",
       "      <td>nan</td>\n",
       "      <td>2021</td>\n",
       "      <td>10</td>\n",
       "      <td>05</td>\n",
       "      <td>1</td>\n",
       "      <td>2021/10</td>\n",
       "    </tr>\n",
       "    <tr>\n",
       "      <th>17</th>\n",
       "      <td>200400</td>\n",
       "      <td>2020</td>\n",
       "      <td>04/08/2021</td>\n",
       "      <td>Branford</td>\n",
       "      <td>460 MAIN ST</td>\n",
       "      <td>180500.0</td>\n",
       "      <td>355000.0</td>\n",
       "      <td>0.508400</td>\n",
       "      <td>Residential</td>\n",
       "      <td>Two Family</td>\n",
       "      <td>nan</td>\n",
       "      <td>nan</td>\n",
       "      <td>nan</td>\n",
       "      <td>nan</td>\n",
       "      <td>2021</td>\n",
       "      <td>08</td>\n",
       "      <td>04</td>\n",
       "      <td>2</td>\n",
       "      <td>2021/08</td>\n",
       "    </tr>\n",
       "    <tr>\n",
       "      <th>...</th>\n",
       "      <td>...</td>\n",
       "      <td>...</td>\n",
       "      <td>...</td>\n",
       "      <td>...</td>\n",
       "      <td>...</td>\n",
       "      <td>...</td>\n",
       "      <td>...</td>\n",
       "      <td>...</td>\n",
       "      <td>...</td>\n",
       "      <td>...</td>\n",
       "      <td>...</td>\n",
       "      <td>...</td>\n",
       "      <td>...</td>\n",
       "      <td>...</td>\n",
       "      <td>...</td>\n",
       "      <td>...</td>\n",
       "      <td>...</td>\n",
       "      <td>...</td>\n",
       "      <td>...</td>\n",
       "    </tr>\n",
       "    <tr>\n",
       "      <th>997197</th>\n",
       "      <td>190310</td>\n",
       "      <td>2019</td>\n",
       "      <td>06/04/2020</td>\n",
       "      <td>Westport</td>\n",
       "      <td>11 FRAGRANT PINES COURT</td>\n",
       "      <td>410300.0</td>\n",
       "      <td>722000.0</td>\n",
       "      <td>0.568300</td>\n",
       "      <td>Single Family</td>\n",
       "      <td>Single Family</td>\n",
       "      <td>nan</td>\n",
       "      <td>nan</td>\n",
       "      <td>nan</td>\n",
       "      <td>nan</td>\n",
       "      <td>2020</td>\n",
       "      <td>04</td>\n",
       "      <td>06</td>\n",
       "      <td>0</td>\n",
       "      <td>2020/04</td>\n",
       "    </tr>\n",
       "    <tr>\n",
       "      <th>997199</th>\n",
       "      <td>190365</td>\n",
       "      <td>2019</td>\n",
       "      <td>02/10/2020</td>\n",
       "      <td>West Hartford</td>\n",
       "      <td>191 HUNTER DRIVE</td>\n",
       "      <td>315420.0</td>\n",
       "      <td>380000.0</td>\n",
       "      <td>0.830100</td>\n",
       "      <td>Single Family</td>\n",
       "      <td>Single Family</td>\n",
       "      <td>nan</td>\n",
       "      <td>nan</td>\n",
       "      <td>nan</td>\n",
       "      <td>nan</td>\n",
       "      <td>2020</td>\n",
       "      <td>10</td>\n",
       "      <td>02</td>\n",
       "      <td>4</td>\n",
       "      <td>2020/10</td>\n",
       "    </tr>\n",
       "    <tr>\n",
       "      <th>997205</th>\n",
       "      <td>190161</td>\n",
       "      <td>2019</td>\n",
       "      <td>03/02/2020</td>\n",
       "      <td>Newington</td>\n",
       "      <td>22 ROCKLEDGE DR</td>\n",
       "      <td>306000.0</td>\n",
       "      <td>456000.0</td>\n",
       "      <td>0.671100</td>\n",
       "      <td>Single Family</td>\n",
       "      <td>Single Family</td>\n",
       "      <td>nan</td>\n",
       "      <td>nan</td>\n",
       "      <td>nan</td>\n",
       "      <td>nan</td>\n",
       "      <td>2020</td>\n",
       "      <td>02</td>\n",
       "      <td>03</td>\n",
       "      <td>0</td>\n",
       "      <td>2020/02</td>\n",
       "    </tr>\n",
       "    <tr>\n",
       "      <th>997207</th>\n",
       "      <td>190272</td>\n",
       "      <td>2019</td>\n",
       "      <td>08/03/2020</td>\n",
       "      <td>Wilton</td>\n",
       "      <td>145 WHIPSTICK RD</td>\n",
       "      <td>681870.0</td>\n",
       "      <td>1134708.0</td>\n",
       "      <td>0.600900</td>\n",
       "      <td>Single Family</td>\n",
       "      <td>Single Family</td>\n",
       "      <td>25 - Other</td>\n",
       "      <td>nan</td>\n",
       "      <td>PER MLS CLOSING PRICE = $1,145,000</td>\n",
       "      <td>nan</td>\n",
       "      <td>2020</td>\n",
       "      <td>03</td>\n",
       "      <td>08</td>\n",
       "      <td>6</td>\n",
       "      <td>2020/03</td>\n",
       "    </tr>\n",
       "    <tr>\n",
       "      <th>997211</th>\n",
       "      <td>190504</td>\n",
       "      <td>2019</td>\n",
       "      <td>06/03/2020</td>\n",
       "      <td>Middletown</td>\n",
       "      <td>8 BYSTREK DR</td>\n",
       "      <td>203360.0</td>\n",
       "      <td>280000.0</td>\n",
       "      <td>0.726300</td>\n",
       "      <td>Single Family</td>\n",
       "      <td>Single Family</td>\n",
       "      <td>nan</td>\n",
       "      <td>nan</td>\n",
       "      <td>nan</td>\n",
       "      <td>nan</td>\n",
       "      <td>2020</td>\n",
       "      <td>03</td>\n",
       "      <td>06</td>\n",
       "      <td>4</td>\n",
       "      <td>2020/03</td>\n",
       "    </tr>\n",
       "  </tbody>\n",
       "</table>\n",
       "<p>385643 rows × 19 columns</p>\n",
       "</div>"
      ],
      "text/plain": [
       "        Serial Number  List Year Date Recorded           Town   \n",
       "4              200500       2020    09/07/2021           Avon  \\\n",
       "6               20058       2020    06/01/2021    Barkhamsted   \n",
       "9             2020360       2020    08/10/2021         Berlin   \n",
       "15              20062       2020    05/10/2021         Bolton   \n",
       "17             200400       2020    04/08/2021       Branford   \n",
       "...               ...        ...           ...            ...   \n",
       "997197         190310       2019    06/04/2020       Westport   \n",
       "997199         190365       2019    02/10/2020  West Hartford   \n",
       "997205         190161       2019    03/02/2020      Newington   \n",
       "997207         190272       2019    08/03/2020         Wilton   \n",
       "997211         190504       2019    06/03/2020     Middletown   \n",
       "\n",
       "                        Address  Assessed Value  Sale Amount  Sales Ratio   \n",
       "4                  245 NEW ROAD        217640.0     400000.0     0.544100  \\\n",
       "6              46 RATLUM MTN RD        203530.0     415000.0     0.490434   \n",
       "9               94 PERCIVAL AVE        140600.0     190790.0     0.736900   \n",
       "15             39 STONEHEDGE LN        189400.0     273750.0     0.691800   \n",
       "17                  460 MAIN ST        180500.0     355000.0     0.508400   \n",
       "...                         ...             ...          ...          ...   \n",
       "997197  11 FRAGRANT PINES COURT        410300.0     722000.0     0.568300   \n",
       "997199         191 HUNTER DRIVE        315420.0     380000.0     0.830100   \n",
       "997205          22 ROCKLEDGE DR        306000.0     456000.0     0.671100   \n",
       "997207         145 WHIPSTICK RD        681870.0    1134708.0     0.600900   \n",
       "997211             8 BYSTREK DR        203360.0     280000.0     0.726300   \n",
       "\n",
       "        Property Type Residential Type Non Use Code   \n",
       "4         Residential    Single Family          nan  \\\n",
       "6         Residential    Single Family          nan   \n",
       "9         Residential    Single Family          nan   \n",
       "15        Residential    Single Family          nan   \n",
       "17        Residential       Two Family          nan   \n",
       "...               ...              ...          ...   \n",
       "997197  Single Family    Single Family          nan   \n",
       "997199  Single Family    Single Family          nan   \n",
       "997205  Single Family    Single Family          nan   \n",
       "997207  Single Family    Single Family   25 - Other   \n",
       "997211  Single Family    Single Family          nan   \n",
       "\n",
       "                         Assessor Remarks                         OPM remarks   \n",
       "4                                     nan                                 nan  \\\n",
       "6       2003 COLONIAL, 2140 SFLA, 2.99 AC                                 nan   \n",
       "9                                     nan                                 nan   \n",
       "15                                    nan                                 nan   \n",
       "17                                    nan                                 nan   \n",
       "...                                   ...                                 ...   \n",
       "997197                                nan                                 nan   \n",
       "997199                                nan                                 nan   \n",
       "997205                                nan                                 nan   \n",
       "997207                                nan  PER MLS CLOSING PRICE = $1,145,000   \n",
       "997211                                nan                                 nan   \n",
       "\n",
       "       Location  year month day  is_weekend year_and_month  \n",
       "4           nan  2021    07  09           4        2021/07  \n",
       "6           nan  2021    01  06           2        2021/01  \n",
       "9           nan  2021    10  08           4        2021/10  \n",
       "15          nan  2021    10  05           1        2021/10  \n",
       "17          nan  2021    08  04           2        2021/08  \n",
       "...         ...   ...   ...  ..         ...            ...  \n",
       "997197      nan  2020    04  06           0        2020/04  \n",
       "997199      nan  2020    10  02           4        2020/10  \n",
       "997205      nan  2020    02  03           0        2020/02  \n",
       "997207      nan  2020    03  08           6        2020/03  \n",
       "997211      nan  2020    03  06           4        2020/03  \n",
       "\n",
       "[385643 rows x 19 columns]"
      ]
     },
     "metadata": {},
     "output_type": "display_data"
    }
   ],
   "source": [
    "display(df)"
   ]
  },
  {
   "cell_type": "code",
   "execution_count": 24,
   "id": "b9e9c6d3",
   "metadata": {},
   "outputs": [
    {
     "data": {
      "application/vnd.plotly.v1+json": {
       "config": {
        "plotlyServerURL": "https://plot.ly"
       },
       "data": [
        {
         "type": "bar",
         "x": [
          "Fairfield",
          "Ridgefield",
          "Roxbury",
          "Washington",
          "Willington",
          "Wilton",
          "Weston",
          "Stamford",
          "Westport",
          "New Canaan",
          "Darien",
          "Greenwich"
         ],
         "y": [
          683246.926842883,
          730630.7630708141,
          750589.0916230367,
          845847.762345679,
          901675.046184739,
          933811.0265557163,
          939844.3750985027,
          1023422.3095853907,
          1389200.4406215316,
          1516890.807928075,
          1539040.4211728866,
          2129592.242253973
         ]
        }
       ],
       "layout": {
        "template": {
         "data": {
          "bar": [
           {
            "error_x": {
             "color": "#2a3f5f"
            },
            "error_y": {
             "color": "#2a3f5f"
            },
            "marker": {
             "line": {
              "color": "#E5ECF6",
              "width": 0.5
             },
             "pattern": {
              "fillmode": "overlay",
              "size": 10,
              "solidity": 0.2
             }
            },
            "type": "bar"
           }
          ],
          "barpolar": [
           {
            "marker": {
             "line": {
              "color": "#E5ECF6",
              "width": 0.5
             },
             "pattern": {
              "fillmode": "overlay",
              "size": 10,
              "solidity": 0.2
             }
            },
            "type": "barpolar"
           }
          ],
          "carpet": [
           {
            "aaxis": {
             "endlinecolor": "#2a3f5f",
             "gridcolor": "white",
             "linecolor": "white",
             "minorgridcolor": "white",
             "startlinecolor": "#2a3f5f"
            },
            "baxis": {
             "endlinecolor": "#2a3f5f",
             "gridcolor": "white",
             "linecolor": "white",
             "minorgridcolor": "white",
             "startlinecolor": "#2a3f5f"
            },
            "type": "carpet"
           }
          ],
          "choropleth": [
           {
            "colorbar": {
             "outlinewidth": 0,
             "ticks": ""
            },
            "type": "choropleth"
           }
          ],
          "contour": [
           {
            "colorbar": {
             "outlinewidth": 0,
             "ticks": ""
            },
            "colorscale": [
             [
              0,
              "#0d0887"
             ],
             [
              0.1111111111111111,
              "#46039f"
             ],
             [
              0.2222222222222222,
              "#7201a8"
             ],
             [
              0.3333333333333333,
              "#9c179e"
             ],
             [
              0.4444444444444444,
              "#bd3786"
             ],
             [
              0.5555555555555556,
              "#d8576b"
             ],
             [
              0.6666666666666666,
              "#ed7953"
             ],
             [
              0.7777777777777778,
              "#fb9f3a"
             ],
             [
              0.8888888888888888,
              "#fdca26"
             ],
             [
              1,
              "#f0f921"
             ]
            ],
            "type": "contour"
           }
          ],
          "contourcarpet": [
           {
            "colorbar": {
             "outlinewidth": 0,
             "ticks": ""
            },
            "type": "contourcarpet"
           }
          ],
          "heatmap": [
           {
            "colorbar": {
             "outlinewidth": 0,
             "ticks": ""
            },
            "colorscale": [
             [
              0,
              "#0d0887"
             ],
             [
              0.1111111111111111,
              "#46039f"
             ],
             [
              0.2222222222222222,
              "#7201a8"
             ],
             [
              0.3333333333333333,
              "#9c179e"
             ],
             [
              0.4444444444444444,
              "#bd3786"
             ],
             [
              0.5555555555555556,
              "#d8576b"
             ],
             [
              0.6666666666666666,
              "#ed7953"
             ],
             [
              0.7777777777777778,
              "#fb9f3a"
             ],
             [
              0.8888888888888888,
              "#fdca26"
             ],
             [
              1,
              "#f0f921"
             ]
            ],
            "type": "heatmap"
           }
          ],
          "heatmapgl": [
           {
            "colorbar": {
             "outlinewidth": 0,
             "ticks": ""
            },
            "colorscale": [
             [
              0,
              "#0d0887"
             ],
             [
              0.1111111111111111,
              "#46039f"
             ],
             [
              0.2222222222222222,
              "#7201a8"
             ],
             [
              0.3333333333333333,
              "#9c179e"
             ],
             [
              0.4444444444444444,
              "#bd3786"
             ],
             [
              0.5555555555555556,
              "#d8576b"
             ],
             [
              0.6666666666666666,
              "#ed7953"
             ],
             [
              0.7777777777777778,
              "#fb9f3a"
             ],
             [
              0.8888888888888888,
              "#fdca26"
             ],
             [
              1,
              "#f0f921"
             ]
            ],
            "type": "heatmapgl"
           }
          ],
          "histogram": [
           {
            "marker": {
             "pattern": {
              "fillmode": "overlay",
              "size": 10,
              "solidity": 0.2
             }
            },
            "type": "histogram"
           }
          ],
          "histogram2d": [
           {
            "colorbar": {
             "outlinewidth": 0,
             "ticks": ""
            },
            "colorscale": [
             [
              0,
              "#0d0887"
             ],
             [
              0.1111111111111111,
              "#46039f"
             ],
             [
              0.2222222222222222,
              "#7201a8"
             ],
             [
              0.3333333333333333,
              "#9c179e"
             ],
             [
              0.4444444444444444,
              "#bd3786"
             ],
             [
              0.5555555555555556,
              "#d8576b"
             ],
             [
              0.6666666666666666,
              "#ed7953"
             ],
             [
              0.7777777777777778,
              "#fb9f3a"
             ],
             [
              0.8888888888888888,
              "#fdca26"
             ],
             [
              1,
              "#f0f921"
             ]
            ],
            "type": "histogram2d"
           }
          ],
          "histogram2dcontour": [
           {
            "colorbar": {
             "outlinewidth": 0,
             "ticks": ""
            },
            "colorscale": [
             [
              0,
              "#0d0887"
             ],
             [
              0.1111111111111111,
              "#46039f"
             ],
             [
              0.2222222222222222,
              "#7201a8"
             ],
             [
              0.3333333333333333,
              "#9c179e"
             ],
             [
              0.4444444444444444,
              "#bd3786"
             ],
             [
              0.5555555555555556,
              "#d8576b"
             ],
             [
              0.6666666666666666,
              "#ed7953"
             ],
             [
              0.7777777777777778,
              "#fb9f3a"
             ],
             [
              0.8888888888888888,
              "#fdca26"
             ],
             [
              1,
              "#f0f921"
             ]
            ],
            "type": "histogram2dcontour"
           }
          ],
          "mesh3d": [
           {
            "colorbar": {
             "outlinewidth": 0,
             "ticks": ""
            },
            "type": "mesh3d"
           }
          ],
          "parcoords": [
           {
            "line": {
             "colorbar": {
              "outlinewidth": 0,
              "ticks": ""
             }
            },
            "type": "parcoords"
           }
          ],
          "pie": [
           {
            "automargin": true,
            "type": "pie"
           }
          ],
          "scatter": [
           {
            "fillpattern": {
             "fillmode": "overlay",
             "size": 10,
             "solidity": 0.2
            },
            "type": "scatter"
           }
          ],
          "scatter3d": [
           {
            "line": {
             "colorbar": {
              "outlinewidth": 0,
              "ticks": ""
             }
            },
            "marker": {
             "colorbar": {
              "outlinewidth": 0,
              "ticks": ""
             }
            },
            "type": "scatter3d"
           }
          ],
          "scattercarpet": [
           {
            "marker": {
             "colorbar": {
              "outlinewidth": 0,
              "ticks": ""
             }
            },
            "type": "scattercarpet"
           }
          ],
          "scattergeo": [
           {
            "marker": {
             "colorbar": {
              "outlinewidth": 0,
              "ticks": ""
             }
            },
            "type": "scattergeo"
           }
          ],
          "scattergl": [
           {
            "marker": {
             "colorbar": {
              "outlinewidth": 0,
              "ticks": ""
             }
            },
            "type": "scattergl"
           }
          ],
          "scattermapbox": [
           {
            "marker": {
             "colorbar": {
              "outlinewidth": 0,
              "ticks": ""
             }
            },
            "type": "scattermapbox"
           }
          ],
          "scatterpolar": [
           {
            "marker": {
             "colorbar": {
              "outlinewidth": 0,
              "ticks": ""
             }
            },
            "type": "scatterpolar"
           }
          ],
          "scatterpolargl": [
           {
            "marker": {
             "colorbar": {
              "outlinewidth": 0,
              "ticks": ""
             }
            },
            "type": "scatterpolargl"
           }
          ],
          "scatterternary": [
           {
            "marker": {
             "colorbar": {
              "outlinewidth": 0,
              "ticks": ""
             }
            },
            "type": "scatterternary"
           }
          ],
          "surface": [
           {
            "colorbar": {
             "outlinewidth": 0,
             "ticks": ""
            },
            "colorscale": [
             [
              0,
              "#0d0887"
             ],
             [
              0.1111111111111111,
              "#46039f"
             ],
             [
              0.2222222222222222,
              "#7201a8"
             ],
             [
              0.3333333333333333,
              "#9c179e"
             ],
             [
              0.4444444444444444,
              "#bd3786"
             ],
             [
              0.5555555555555556,
              "#d8576b"
             ],
             [
              0.6666666666666666,
              "#ed7953"
             ],
             [
              0.7777777777777778,
              "#fb9f3a"
             ],
             [
              0.8888888888888888,
              "#fdca26"
             ],
             [
              1,
              "#f0f921"
             ]
            ],
            "type": "surface"
           }
          ],
          "table": [
           {
            "cells": {
             "fill": {
              "color": "#EBF0F8"
             },
             "line": {
              "color": "white"
             }
            },
            "header": {
             "fill": {
              "color": "#C8D4E3"
             },
             "line": {
              "color": "white"
             }
            },
            "type": "table"
           }
          ]
         },
         "layout": {
          "annotationdefaults": {
           "arrowcolor": "#2a3f5f",
           "arrowhead": 0,
           "arrowwidth": 1
          },
          "autotypenumbers": "strict",
          "coloraxis": {
           "colorbar": {
            "outlinewidth": 0,
            "ticks": ""
           }
          },
          "colorscale": {
           "diverging": [
            [
             0,
             "#8e0152"
            ],
            [
             0.1,
             "#c51b7d"
            ],
            [
             0.2,
             "#de77ae"
            ],
            [
             0.3,
             "#f1b6da"
            ],
            [
             0.4,
             "#fde0ef"
            ],
            [
             0.5,
             "#f7f7f7"
            ],
            [
             0.6,
             "#e6f5d0"
            ],
            [
             0.7,
             "#b8e186"
            ],
            [
             0.8,
             "#7fbc41"
            ],
            [
             0.9,
             "#4d9221"
            ],
            [
             1,
             "#276419"
            ]
           ],
           "sequential": [
            [
             0,
             "#0d0887"
            ],
            [
             0.1111111111111111,
             "#46039f"
            ],
            [
             0.2222222222222222,
             "#7201a8"
            ],
            [
             0.3333333333333333,
             "#9c179e"
            ],
            [
             0.4444444444444444,
             "#bd3786"
            ],
            [
             0.5555555555555556,
             "#d8576b"
            ],
            [
             0.6666666666666666,
             "#ed7953"
            ],
            [
             0.7777777777777778,
             "#fb9f3a"
            ],
            [
             0.8888888888888888,
             "#fdca26"
            ],
            [
             1,
             "#f0f921"
            ]
           ],
           "sequentialminus": [
            [
             0,
             "#0d0887"
            ],
            [
             0.1111111111111111,
             "#46039f"
            ],
            [
             0.2222222222222222,
             "#7201a8"
            ],
            [
             0.3333333333333333,
             "#9c179e"
            ],
            [
             0.4444444444444444,
             "#bd3786"
            ],
            [
             0.5555555555555556,
             "#d8576b"
            ],
            [
             0.6666666666666666,
             "#ed7953"
            ],
            [
             0.7777777777777778,
             "#fb9f3a"
            ],
            [
             0.8888888888888888,
             "#fdca26"
            ],
            [
             1,
             "#f0f921"
            ]
           ]
          },
          "colorway": [
           "#636efa",
           "#EF553B",
           "#00cc96",
           "#ab63fa",
           "#FFA15A",
           "#19d3f3",
           "#FF6692",
           "#B6E880",
           "#FF97FF",
           "#FECB52"
          ],
          "font": {
           "color": "#2a3f5f"
          },
          "geo": {
           "bgcolor": "white",
           "lakecolor": "white",
           "landcolor": "#E5ECF6",
           "showlakes": true,
           "showland": true,
           "subunitcolor": "white"
          },
          "hoverlabel": {
           "align": "left"
          },
          "hovermode": "closest",
          "mapbox": {
           "style": "light"
          },
          "paper_bgcolor": "white",
          "plot_bgcolor": "#E5ECF6",
          "polar": {
           "angularaxis": {
            "gridcolor": "white",
            "linecolor": "white",
            "ticks": ""
           },
           "bgcolor": "#E5ECF6",
           "radialaxis": {
            "gridcolor": "white",
            "linecolor": "white",
            "ticks": ""
           }
          },
          "scene": {
           "xaxis": {
            "backgroundcolor": "#E5ECF6",
            "gridcolor": "white",
            "gridwidth": 2,
            "linecolor": "white",
            "showbackground": true,
            "ticks": "",
            "zerolinecolor": "white"
           },
           "yaxis": {
            "backgroundcolor": "#E5ECF6",
            "gridcolor": "white",
            "gridwidth": 2,
            "linecolor": "white",
            "showbackground": true,
            "ticks": "",
            "zerolinecolor": "white"
           },
           "zaxis": {
            "backgroundcolor": "#E5ECF6",
            "gridcolor": "white",
            "gridwidth": 2,
            "linecolor": "white",
            "showbackground": true,
            "ticks": "",
            "zerolinecolor": "white"
           }
          },
          "shapedefaults": {
           "line": {
            "color": "#2a3f5f"
           }
          },
          "ternary": {
           "aaxis": {
            "gridcolor": "white",
            "linecolor": "white",
            "ticks": ""
           },
           "baxis": {
            "gridcolor": "white",
            "linecolor": "white",
            "ticks": ""
           },
           "bgcolor": "#E5ECF6",
           "caxis": {
            "gridcolor": "white",
            "linecolor": "white",
            "ticks": ""
           }
          },
          "title": {
           "x": 0.05
          },
          "xaxis": {
           "automargin": true,
           "gridcolor": "white",
           "linecolor": "white",
           "ticks": "",
           "title": {
            "standoff": 15
           },
           "zerolinecolor": "white",
           "zerolinewidth": 2
          },
          "yaxis": {
           "automargin": true,
           "gridcolor": "white",
           "linecolor": "white",
           "ticks": "",
           "title": {
            "standoff": 15
           },
           "zerolinecolor": "white",
           "zerolinewidth": 2
          }
         }
        }
       }
      }
     },
     "metadata": {},
     "output_type": "display_data"
    }
   ],
   "source": [
    "df_expensive_towns= df[['Town', 'Assessed Value', 'Sale Amount', 'Sales Ratio']].groupby('Town').mean().sort_values(by= 'Sale Amount', ascending= True)\n",
    "df_expensive_towns= df_expensive_towns.iloc[-12:].sort_values(by= 'Sale Amount', ascending= True)\n",
    "# fig= go.Figure(data= [\n",
    "#                             go.Histogram(x= df_expensive_towns.index, y= df_expensive_towns['Sales Ratio'])\n",
    "\n",
    "# ])\n",
    "fig = go.Figure([go.Bar(y= df_expensive_towns['Sale Amount'], x=list(df_expensive_towns.index))])\n",
    "fig.show()"
   ]
  },
  {
   "cell_type": "code",
   "execution_count": 25,
   "id": "18b1937b",
   "metadata": {},
   "outputs": [
    {
     "data": {
      "text/plain": [
       "Town\n",
       "Fairfield     4.558580e+05\n",
       "Ridgefield    4.766150e+05\n",
       "Roxbury       4.687955e+05\n",
       "Washington    4.907229e+05\n",
       "Willington    1.663151e+05\n",
       "Wilton        5.863877e+05\n",
       "Weston        6.063468e+05\n",
       "Stamford      5.058892e+05\n",
       "Westport      8.604188e+05\n",
       "New Canaan    1.121975e+06\n",
       "Darien        9.626772e+05\n",
       "Greenwich     2.533998e+06\n",
       "Name: Assessed Value, dtype: float64"
      ]
     },
     "execution_count": 25,
     "metadata": {},
     "output_type": "execute_result"
    }
   ],
   "source": [
    "df_expensive_towns['Assessed Value']"
   ]
  },
  {
   "cell_type": "code",
   "execution_count": 27,
   "id": "4f2111a0",
   "metadata": {},
   "outputs": [
    {
     "data": {
      "text/html": [
       "<div>\n",
       "<style scoped>\n",
       "    .dataframe tbody tr th:only-of-type {\n",
       "        vertical-align: middle;\n",
       "    }\n",
       "\n",
       "    .dataframe tbody tr th {\n",
       "        vertical-align: top;\n",
       "    }\n",
       "\n",
       "    .dataframe thead th {\n",
       "        text-align: right;\n",
       "    }\n",
       "</style>\n",
       "<table border=\"1\" class=\"dataframe\">\n",
       "  <thead>\n",
       "    <tr style=\"text-align: right;\">\n",
       "      <th></th>\n",
       "      <th>Serial Number</th>\n",
       "      <th>List Year</th>\n",
       "      <th>Date Recorded</th>\n",
       "      <th>Town</th>\n",
       "      <th>Address</th>\n",
       "      <th>Assessed Value</th>\n",
       "      <th>Sale Amount</th>\n",
       "      <th>Sales Ratio</th>\n",
       "      <th>Property Type</th>\n",
       "      <th>Residential Type</th>\n",
       "      <th>Non Use Code</th>\n",
       "      <th>Assessor Remarks</th>\n",
       "      <th>OPM remarks</th>\n",
       "      <th>Location</th>\n",
       "      <th>year</th>\n",
       "      <th>month</th>\n",
       "      <th>day</th>\n",
       "      <th>is_weekend</th>\n",
       "      <th>year_and_month</th>\n",
       "    </tr>\n",
       "  </thead>\n",
       "  <tbody>\n",
       "    <tr>\n",
       "      <th>4</th>\n",
       "      <td>200500</td>\n",
       "      <td>2020</td>\n",
       "      <td>09/07/2021</td>\n",
       "      <td>Avon</td>\n",
       "      <td>245 NEW ROAD</td>\n",
       "      <td>217640.0</td>\n",
       "      <td>400000.0</td>\n",
       "      <td>0.544100</td>\n",
       "      <td>Residential</td>\n",
       "      <td>Single Family</td>\n",
       "      <td>nan</td>\n",
       "      <td>nan</td>\n",
       "      <td>nan</td>\n",
       "      <td>nan</td>\n",
       "      <td>2021</td>\n",
       "      <td>07</td>\n",
       "      <td>09</td>\n",
       "      <td>4</td>\n",
       "      <td>2021/07</td>\n",
       "    </tr>\n",
       "    <tr>\n",
       "      <th>6</th>\n",
       "      <td>20058</td>\n",
       "      <td>2020</td>\n",
       "      <td>06/01/2021</td>\n",
       "      <td>Barkhamsted</td>\n",
       "      <td>46 RATLUM MTN RD</td>\n",
       "      <td>203530.0</td>\n",
       "      <td>415000.0</td>\n",
       "      <td>0.490434</td>\n",
       "      <td>Residential</td>\n",
       "      <td>Single Family</td>\n",
       "      <td>nan</td>\n",
       "      <td>2003 COLONIAL, 2140 SFLA, 2.99 AC</td>\n",
       "      <td>nan</td>\n",
       "      <td>nan</td>\n",
       "      <td>2021</td>\n",
       "      <td>01</td>\n",
       "      <td>06</td>\n",
       "      <td>2</td>\n",
       "      <td>2021/01</td>\n",
       "    </tr>\n",
       "    <tr>\n",
       "      <th>9</th>\n",
       "      <td>2020360</td>\n",
       "      <td>2020</td>\n",
       "      <td>08/10/2021</td>\n",
       "      <td>Berlin</td>\n",
       "      <td>94 PERCIVAL AVE</td>\n",
       "      <td>140600.0</td>\n",
       "      <td>190790.0</td>\n",
       "      <td>0.736900</td>\n",
       "      <td>Residential</td>\n",
       "      <td>Single Family</td>\n",
       "      <td>nan</td>\n",
       "      <td>nan</td>\n",
       "      <td>nan</td>\n",
       "      <td>nan</td>\n",
       "      <td>2021</td>\n",
       "      <td>10</td>\n",
       "      <td>08</td>\n",
       "      <td>4</td>\n",
       "      <td>2021/10</td>\n",
       "    </tr>\n",
       "    <tr>\n",
       "      <th>15</th>\n",
       "      <td>20062</td>\n",
       "      <td>2020</td>\n",
       "      <td>05/10/2021</td>\n",
       "      <td>Bolton</td>\n",
       "      <td>39 STONEHEDGE LN</td>\n",
       "      <td>189400.0</td>\n",
       "      <td>273750.0</td>\n",
       "      <td>0.691800</td>\n",
       "      <td>Residential</td>\n",
       "      <td>Single Family</td>\n",
       "      <td>nan</td>\n",
       "      <td>nan</td>\n",
       "      <td>nan</td>\n",
       "      <td>nan</td>\n",
       "      <td>2021</td>\n",
       "      <td>10</td>\n",
       "      <td>05</td>\n",
       "      <td>1</td>\n",
       "      <td>2021/10</td>\n",
       "    </tr>\n",
       "    <tr>\n",
       "      <th>17</th>\n",
       "      <td>200400</td>\n",
       "      <td>2020</td>\n",
       "      <td>04/08/2021</td>\n",
       "      <td>Branford</td>\n",
       "      <td>460 MAIN ST</td>\n",
       "      <td>180500.0</td>\n",
       "      <td>355000.0</td>\n",
       "      <td>0.508400</td>\n",
       "      <td>Residential</td>\n",
       "      <td>Two Family</td>\n",
       "      <td>nan</td>\n",
       "      <td>nan</td>\n",
       "      <td>nan</td>\n",
       "      <td>nan</td>\n",
       "      <td>2021</td>\n",
       "      <td>08</td>\n",
       "      <td>04</td>\n",
       "      <td>2</td>\n",
       "      <td>2021/08</td>\n",
       "    </tr>\n",
       "    <tr>\n",
       "      <th>...</th>\n",
       "      <td>...</td>\n",
       "      <td>...</td>\n",
       "      <td>...</td>\n",
       "      <td>...</td>\n",
       "      <td>...</td>\n",
       "      <td>...</td>\n",
       "      <td>...</td>\n",
       "      <td>...</td>\n",
       "      <td>...</td>\n",
       "      <td>...</td>\n",
       "      <td>...</td>\n",
       "      <td>...</td>\n",
       "      <td>...</td>\n",
       "      <td>...</td>\n",
       "      <td>...</td>\n",
       "      <td>...</td>\n",
       "      <td>...</td>\n",
       "      <td>...</td>\n",
       "      <td>...</td>\n",
       "    </tr>\n",
       "    <tr>\n",
       "      <th>997197</th>\n",
       "      <td>190310</td>\n",
       "      <td>2019</td>\n",
       "      <td>06/04/2020</td>\n",
       "      <td>Westport</td>\n",
       "      <td>11 FRAGRANT PINES COURT</td>\n",
       "      <td>410300.0</td>\n",
       "      <td>722000.0</td>\n",
       "      <td>0.568300</td>\n",
       "      <td>Single Family</td>\n",
       "      <td>Single Family</td>\n",
       "      <td>nan</td>\n",
       "      <td>nan</td>\n",
       "      <td>nan</td>\n",
       "      <td>nan</td>\n",
       "      <td>2020</td>\n",
       "      <td>04</td>\n",
       "      <td>06</td>\n",
       "      <td>0</td>\n",
       "      <td>2020/04</td>\n",
       "    </tr>\n",
       "    <tr>\n",
       "      <th>997199</th>\n",
       "      <td>190365</td>\n",
       "      <td>2019</td>\n",
       "      <td>02/10/2020</td>\n",
       "      <td>West Hartford</td>\n",
       "      <td>191 HUNTER DRIVE</td>\n",
       "      <td>315420.0</td>\n",
       "      <td>380000.0</td>\n",
       "      <td>0.830100</td>\n",
       "      <td>Single Family</td>\n",
       "      <td>Single Family</td>\n",
       "      <td>nan</td>\n",
       "      <td>nan</td>\n",
       "      <td>nan</td>\n",
       "      <td>nan</td>\n",
       "      <td>2020</td>\n",
       "      <td>10</td>\n",
       "      <td>02</td>\n",
       "      <td>4</td>\n",
       "      <td>2020/10</td>\n",
       "    </tr>\n",
       "    <tr>\n",
       "      <th>997205</th>\n",
       "      <td>190161</td>\n",
       "      <td>2019</td>\n",
       "      <td>03/02/2020</td>\n",
       "      <td>Newington</td>\n",
       "      <td>22 ROCKLEDGE DR</td>\n",
       "      <td>306000.0</td>\n",
       "      <td>456000.0</td>\n",
       "      <td>0.671100</td>\n",
       "      <td>Single Family</td>\n",
       "      <td>Single Family</td>\n",
       "      <td>nan</td>\n",
       "      <td>nan</td>\n",
       "      <td>nan</td>\n",
       "      <td>nan</td>\n",
       "      <td>2020</td>\n",
       "      <td>02</td>\n",
       "      <td>03</td>\n",
       "      <td>0</td>\n",
       "      <td>2020/02</td>\n",
       "    </tr>\n",
       "    <tr>\n",
       "      <th>997207</th>\n",
       "      <td>190272</td>\n",
       "      <td>2019</td>\n",
       "      <td>08/03/2020</td>\n",
       "      <td>Wilton</td>\n",
       "      <td>145 WHIPSTICK RD</td>\n",
       "      <td>681870.0</td>\n",
       "      <td>1134708.0</td>\n",
       "      <td>0.600900</td>\n",
       "      <td>Single Family</td>\n",
       "      <td>Single Family</td>\n",
       "      <td>25 - Other</td>\n",
       "      <td>nan</td>\n",
       "      <td>PER MLS CLOSING PRICE = $1,145,000</td>\n",
       "      <td>nan</td>\n",
       "      <td>2020</td>\n",
       "      <td>03</td>\n",
       "      <td>08</td>\n",
       "      <td>6</td>\n",
       "      <td>2020/03</td>\n",
       "    </tr>\n",
       "    <tr>\n",
       "      <th>997211</th>\n",
       "      <td>190504</td>\n",
       "      <td>2019</td>\n",
       "      <td>06/03/2020</td>\n",
       "      <td>Middletown</td>\n",
       "      <td>8 BYSTREK DR</td>\n",
       "      <td>203360.0</td>\n",
       "      <td>280000.0</td>\n",
       "      <td>0.726300</td>\n",
       "      <td>Single Family</td>\n",
       "      <td>Single Family</td>\n",
       "      <td>nan</td>\n",
       "      <td>nan</td>\n",
       "      <td>nan</td>\n",
       "      <td>nan</td>\n",
       "      <td>2020</td>\n",
       "      <td>03</td>\n",
       "      <td>06</td>\n",
       "      <td>4</td>\n",
       "      <td>2020/03</td>\n",
       "    </tr>\n",
       "  </tbody>\n",
       "</table>\n",
       "<p>385643 rows × 19 columns</p>\n",
       "</div>"
      ],
      "text/plain": [
       "        Serial Number  List Year Date Recorded           Town   \n",
       "4              200500       2020    09/07/2021           Avon  \\\n",
       "6               20058       2020    06/01/2021    Barkhamsted   \n",
       "9             2020360       2020    08/10/2021         Berlin   \n",
       "15              20062       2020    05/10/2021         Bolton   \n",
       "17             200400       2020    04/08/2021       Branford   \n",
       "...               ...        ...           ...            ...   \n",
       "997197         190310       2019    06/04/2020       Westport   \n",
       "997199         190365       2019    02/10/2020  West Hartford   \n",
       "997205         190161       2019    03/02/2020      Newington   \n",
       "997207         190272       2019    08/03/2020         Wilton   \n",
       "997211         190504       2019    06/03/2020     Middletown   \n",
       "\n",
       "                        Address  Assessed Value  Sale Amount  Sales Ratio   \n",
       "4                  245 NEW ROAD        217640.0     400000.0     0.544100  \\\n",
       "6              46 RATLUM MTN RD        203530.0     415000.0     0.490434   \n",
       "9               94 PERCIVAL AVE        140600.0     190790.0     0.736900   \n",
       "15             39 STONEHEDGE LN        189400.0     273750.0     0.691800   \n",
       "17                  460 MAIN ST        180500.0     355000.0     0.508400   \n",
       "...                         ...             ...          ...          ...   \n",
       "997197  11 FRAGRANT PINES COURT        410300.0     722000.0     0.568300   \n",
       "997199         191 HUNTER DRIVE        315420.0     380000.0     0.830100   \n",
       "997205          22 ROCKLEDGE DR        306000.0     456000.0     0.671100   \n",
       "997207         145 WHIPSTICK RD        681870.0    1134708.0     0.600900   \n",
       "997211             8 BYSTREK DR        203360.0     280000.0     0.726300   \n",
       "\n",
       "        Property Type Residential Type Non Use Code   \n",
       "4         Residential    Single Family          nan  \\\n",
       "6         Residential    Single Family          nan   \n",
       "9         Residential    Single Family          nan   \n",
       "15        Residential    Single Family          nan   \n",
       "17        Residential       Two Family          nan   \n",
       "...               ...              ...          ...   \n",
       "997197  Single Family    Single Family          nan   \n",
       "997199  Single Family    Single Family          nan   \n",
       "997205  Single Family    Single Family          nan   \n",
       "997207  Single Family    Single Family   25 - Other   \n",
       "997211  Single Family    Single Family          nan   \n",
       "\n",
       "                         Assessor Remarks                         OPM remarks   \n",
       "4                                     nan                                 nan  \\\n",
       "6       2003 COLONIAL, 2140 SFLA, 2.99 AC                                 nan   \n",
       "9                                     nan                                 nan   \n",
       "15                                    nan                                 nan   \n",
       "17                                    nan                                 nan   \n",
       "...                                   ...                                 ...   \n",
       "997197                                nan                                 nan   \n",
       "997199                                nan                                 nan   \n",
       "997205                                nan                                 nan   \n",
       "997207                                nan  PER MLS CLOSING PRICE = $1,145,000   \n",
       "997211                                nan                                 nan   \n",
       "\n",
       "       Location  year month day  is_weekend year_and_month  \n",
       "4           nan  2021    07  09           4        2021/07  \n",
       "6           nan  2021    01  06           2        2021/01  \n",
       "9           nan  2021    10  08           4        2021/10  \n",
       "15          nan  2021    10  05           1        2021/10  \n",
       "17          nan  2021    08  04           2        2021/08  \n",
       "...         ...   ...   ...  ..         ...            ...  \n",
       "997197      nan  2020    04  06           0        2020/04  \n",
       "997199      nan  2020    10  02           4        2020/10  \n",
       "997205      nan  2020    02  03           0        2020/02  \n",
       "997207      nan  2020    03  08           6        2020/03  \n",
       "997211      nan  2020    03  06           4        2020/03  \n",
       "\n",
       "[385643 rows x 19 columns]"
      ]
     },
     "execution_count": 27,
     "metadata": {},
     "output_type": "execute_result"
    }
   ],
   "source": [
    "df"
   ]
  },
  {
   "cell_type": "code",
   "execution_count": 37,
   "id": "ff6ebbb4",
   "metadata": {},
   "outputs": [
    {
     "data": {
      "text/plain": [
       "4                     NEW ROAD\n",
       "6                RATLUM MTN RD\n",
       "9                 PERCIVAL AVE\n",
       "15               STONEHEDGE LN\n",
       "17                     MAIN ST\n",
       "                  ...         \n",
       "997197    FRAGRANT PINES COURT\n",
       "997199            HUNTER DRIVE\n",
       "997205            ROCKLEDGE DR\n",
       "997207            WHIPSTICK RD\n",
       "997211              BYSTREK DR\n",
       "Name: Address, Length: 385643, dtype: object"
      ]
     },
     "execution_count": 37,
     "metadata": {},
     "output_type": "execute_result"
    }
   ],
   "source": [
    "df['Address'].apply(lambda x: ' '.join(x.split(' ')[1:]))"
   ]
  },
  {
   "cell_type": "code",
   "execution_count": null,
   "id": "411510c3",
   "metadata": {},
   "outputs": [],
   "source": [
    "df"
   ]
  }
 ],
 "metadata": {
  "kernelspec": {
   "display_name": "base",
   "language": "python",
   "name": "python3"
  },
  "language_info": {
   "codemirror_mode": {
    "name": "ipython",
    "version": 3
   },
   "file_extension": ".py",
   "mimetype": "text/x-python",
   "name": "python",
   "nbconvert_exporter": "python",
   "pygments_lexer": "ipython3",
   "version": "3.9.16"
  }
 },
 "nbformat": 4,
 "nbformat_minor": 5
}
